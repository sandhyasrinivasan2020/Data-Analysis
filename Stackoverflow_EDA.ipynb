{
  "nbformat": 4,
  "nbformat_minor": 0,
  "metadata": {
    "colab": {
      "name": "Stackoverflow_EDA.ipynb",
      "provenance": [],
      "collapsed_sections": [],
      "authorship_tag": "ABX9TyPbRLk/vWEg408WsY6QRC/6"
    },
    "kernelspec": {
      "name": "python3",
      "display_name": "Python 3"
    }
  },
  "cells": [
    {
      "cell_type": "markdown",
      "metadata": {
        "id": "exj3ARXoZmF6",
        "colab_type": "text"
      },
      "source": [
        ""
      ]
    },
    {
      "cell_type": "code",
      "metadata": {
        "id": "tnqYFwPAtTQy",
        "colab_type": "code",
        "colab": {
          "base_uri": "https://localhost:8080/",
          "height": 71
        },
        "outputId": "1a711f9b-72b2-471a-ca92-fc5d9b88a9d2"
      },
      "source": [
        "import numpy as np\n",
        "import pandas as pd\n",
        "import seaborn as sns\n",
        "import matplotlib.pyplot as plt\n",
        "import warnings\n",
        "warnings.filterwarnings(\"ignore\")\n",
        "import datetime as dt\n",
        "from tqdm import tqdm_notebook\n",
        "from collections import Counter\n",
        "\n",
        "import math\n",
        "import random\n",
        "\n",
        "import requests, io"
      ],
      "execution_count": null,
      "outputs": [
        {
          "output_type": "stream",
          "text": [
            "/usr/local/lib/python3.6/dist-packages/statsmodels/tools/_testing.py:19: FutureWarning: pandas.util.testing is deprecated. Use the functions in the public API at pandas.testing instead.\n",
            "  import pandas.util.testing as tm\n"
          ],
          "name": "stderr"
        }
      ]
    },
    {
      "cell_type": "markdown",
      "metadata": {
        "id": "V1RL4F6OynWl",
        "colab_type": "text"
      },
      "source": [
        "Read source files"
      ]
    },
    {
      "cell_type": "code",
      "metadata": {
        "id": "xlE_JZ4ow7hh",
        "colab_type": "code",
        "colab": {}
      },
      "source": [
        "df_questions = pd.read_csv(\"https://stack-overflow-casestudy-datasets.s3.amazonaws.com/Questions.csv\", encoding='ISO-8859–1')\n",
        "df_answers = pd.read_csv(\"https://stack-overflow-casestudy-datasets.s3.amazonaws.com/Answers.csv\", encoding='ISO-8859–1')\n",
        "df_tags = pd.read_csv(\"https://stack-overflow-casestudy-datasets.s3.amazonaws.com/Tags.csv\", encoding='ISO-8859–1')\n",
        "df_users = pd.read_csv(\"https://stack-overflow-casestudy-datasets.s3.amazonaws.com/Users.csv\", encoding='ISO-8859–1')"
      ],
      "execution_count": null,
      "outputs": []
    },
    {
      "cell_type": "code",
      "metadata": {
        "id": "S5aixh4Kyry5",
        "colab_type": "code",
        "colab": {
          "base_uri": "https://localhost:8080/",
          "height": 85
        },
        "outputId": "9ed88c4b-a17a-4499-b3d4-e3478b13edca"
      },
      "source": [
        "print(df_questions.shape)\n",
        "print(df_answers.shape)\n",
        "print(df_tags.shape)\n",
        "print(df_users.shape)"
      ],
      "execution_count": null,
      "outputs": [
        {
          "output_type": "stream",
          "text": [
            "(1264216, 7)\n",
            "(2014516, 6)\n",
            "(3750994, 2)\n",
            "(1990480, 9)\n"
          ],
          "name": "stdout"
        }
      ]
    },
    {
      "cell_type": "code",
      "metadata": {
        "id": "HviKiqjk1oPF",
        "colab_type": "code",
        "colab": {
          "base_uri": "https://localhost:8080/",
          "height": 204
        },
        "outputId": "96a43cb9-16f8-49e9-80cf-279b78ff81fc"
      },
      "source": [
        "df_questions.head()"
      ],
      "execution_count": null,
      "outputs": [
        {
          "output_type": "execute_result",
          "data": {
            "text/html": [
              "<div>\n",
              "<style scoped>\n",
              "    .dataframe tbody tr th:only-of-type {\n",
              "        vertical-align: middle;\n",
              "    }\n",
              "\n",
              "    .dataframe tbody tr th {\n",
              "        vertical-align: top;\n",
              "    }\n",
              "\n",
              "    .dataframe thead th {\n",
              "        text-align: right;\n",
              "    }\n",
              "</style>\n",
              "<table border=\"1\" class=\"dataframe\">\n",
              "  <thead>\n",
              "    <tr style=\"text-align: right;\">\n",
              "      <th></th>\n",
              "      <th>Id</th>\n",
              "      <th>OwnerUserId</th>\n",
              "      <th>CreationDate</th>\n",
              "      <th>ClosedDate</th>\n",
              "      <th>Score</th>\n",
              "      <th>Title</th>\n",
              "      <th>Body</th>\n",
              "    </tr>\n",
              "  </thead>\n",
              "  <tbody>\n",
              "    <tr>\n",
              "      <th>0</th>\n",
              "      <td>80</td>\n",
              "      <td>26.0</td>\n",
              "      <td>2008-08-01T13:57:07Z</td>\n",
              "      <td>NaN</td>\n",
              "      <td>26</td>\n",
              "      <td>SQLStatement.execute() - multiple queries in o...</td>\n",
              "      <td>&lt;p&gt;I've written a database generation script i...</td>\n",
              "    </tr>\n",
              "    <tr>\n",
              "      <th>1</th>\n",
              "      <td>90</td>\n",
              "      <td>58.0</td>\n",
              "      <td>2008-08-01T14:41:24Z</td>\n",
              "      <td>2012-12-26T03:45:49Z</td>\n",
              "      <td>144</td>\n",
              "      <td>Good branching and merging tutorials for Torto...</td>\n",
              "      <td>&lt;p&gt;Are there any really good tutorials explain...</td>\n",
              "    </tr>\n",
              "    <tr>\n",
              "      <th>2</th>\n",
              "      <td>120</td>\n",
              "      <td>83.0</td>\n",
              "      <td>2008-08-01T15:50:08Z</td>\n",
              "      <td>NaN</td>\n",
              "      <td>21</td>\n",
              "      <td>ASP.NET Site Maps</td>\n",
              "      <td>&lt;p&gt;Has anyone got experience creating &lt;strong&gt;...</td>\n",
              "    </tr>\n",
              "    <tr>\n",
              "      <th>3</th>\n",
              "      <td>180</td>\n",
              "      <td>2089740.0</td>\n",
              "      <td>2008-08-01T18:42:19Z</td>\n",
              "      <td>NaN</td>\n",
              "      <td>53</td>\n",
              "      <td>Function for creating color wheels</td>\n",
              "      <td>&lt;p&gt;This is something I've pseudo-solved many t...</td>\n",
              "    </tr>\n",
              "    <tr>\n",
              "      <th>4</th>\n",
              "      <td>260</td>\n",
              "      <td>91.0</td>\n",
              "      <td>2008-08-01T23:22:08Z</td>\n",
              "      <td>NaN</td>\n",
              "      <td>49</td>\n",
              "      <td>Adding scripting functionality to .NET applica...</td>\n",
              "      <td>&lt;p&gt;I have a little game written in C#. It uses...</td>\n",
              "    </tr>\n",
              "  </tbody>\n",
              "</table>\n",
              "</div>"
            ],
            "text/plain": [
              "    Id  ...                                               Body\n",
              "0   80  ...  <p>I've written a database generation script i...\n",
              "1   90  ...  <p>Are there any really good tutorials explain...\n",
              "2  120  ...  <p>Has anyone got experience creating <strong>...\n",
              "3  180  ...  <p>This is something I've pseudo-solved many t...\n",
              "4  260  ...  <p>I have a little game written in C#. It uses...\n",
              "\n",
              "[5 rows x 7 columns]"
            ]
          },
          "metadata": {
            "tags": []
          },
          "execution_count": 5
        }
      ]
    },
    {
      "cell_type": "code",
      "metadata": {
        "id": "LKFGaFo04p3T",
        "colab_type": "code",
        "colab": {
          "base_uri": "https://localhost:8080/",
          "height": 204
        },
        "outputId": "346af642-c005-4c69-c0c0-d91da9dc79a5"
      },
      "source": [
        "df_answers.head()"
      ],
      "execution_count": null,
      "outputs": [
        {
          "output_type": "execute_result",
          "data": {
            "text/html": [
              "<div>\n",
              "<style scoped>\n",
              "    .dataframe tbody tr th:only-of-type {\n",
              "        vertical-align: middle;\n",
              "    }\n",
              "\n",
              "    .dataframe tbody tr th {\n",
              "        vertical-align: top;\n",
              "    }\n",
              "\n",
              "    .dataframe thead th {\n",
              "        text-align: right;\n",
              "    }\n",
              "</style>\n",
              "<table border=\"1\" class=\"dataframe\">\n",
              "  <thead>\n",
              "    <tr style=\"text-align: right;\">\n",
              "      <th></th>\n",
              "      <th>Id</th>\n",
              "      <th>OwnerUserId</th>\n",
              "      <th>CreationDate</th>\n",
              "      <th>ParentId</th>\n",
              "      <th>Score</th>\n",
              "      <th>Body</th>\n",
              "    </tr>\n",
              "  </thead>\n",
              "  <tbody>\n",
              "    <tr>\n",
              "      <th>0</th>\n",
              "      <td>92</td>\n",
              "      <td>61.0</td>\n",
              "      <td>2008-08-01T14:45:37Z</td>\n",
              "      <td>90</td>\n",
              "      <td>13</td>\n",
              "      <td>&lt;p&gt;&lt;a href=\"http://svnbook.red-bean.com/\"&gt;Vers...</td>\n",
              "    </tr>\n",
              "    <tr>\n",
              "      <th>1</th>\n",
              "      <td>124</td>\n",
              "      <td>26.0</td>\n",
              "      <td>2008-08-01T16:09:47Z</td>\n",
              "      <td>80</td>\n",
              "      <td>12</td>\n",
              "      <td>&lt;p&gt;I wound up using this. It is a kind of a ha...</td>\n",
              "    </tr>\n",
              "    <tr>\n",
              "      <th>2</th>\n",
              "      <td>199</td>\n",
              "      <td>50.0</td>\n",
              "      <td>2008-08-01T19:36:46Z</td>\n",
              "      <td>180</td>\n",
              "      <td>1</td>\n",
              "      <td>&lt;p&gt;I've read somewhere the human eye can't dis...</td>\n",
              "    </tr>\n",
              "    <tr>\n",
              "      <th>3</th>\n",
              "      <td>269</td>\n",
              "      <td>91.0</td>\n",
              "      <td>2008-08-01T23:49:57Z</td>\n",
              "      <td>260</td>\n",
              "      <td>4</td>\n",
              "      <td>&lt;p&gt;Yes, I thought about that, but I soon figur...</td>\n",
              "    </tr>\n",
              "    <tr>\n",
              "      <th>4</th>\n",
              "      <td>307</td>\n",
              "      <td>49.0</td>\n",
              "      <td>2008-08-02T01:49:46Z</td>\n",
              "      <td>260</td>\n",
              "      <td>28</td>\n",
              "      <td>&lt;p&gt;&lt;a href=\"http://www.codeproject.com/Article...</td>\n",
              "    </tr>\n",
              "  </tbody>\n",
              "</table>\n",
              "</div>"
            ],
            "text/plain": [
              "    Id  OwnerUserId  ... Score                                               Body\n",
              "0   92         61.0  ...    13  <p><a href=\"http://svnbook.red-bean.com/\">Vers...\n",
              "1  124         26.0  ...    12  <p>I wound up using this. It is a kind of a ha...\n",
              "2  199         50.0  ...     1  <p>I've read somewhere the human eye can't dis...\n",
              "3  269         91.0  ...     4  <p>Yes, I thought about that, but I soon figur...\n",
              "4  307         49.0  ...    28  <p><a href=\"http://www.codeproject.com/Article...\n",
              "\n",
              "[5 rows x 6 columns]"
            ]
          },
          "metadata": {
            "tags": []
          },
          "execution_count": 6
        }
      ]
    },
    {
      "cell_type": "code",
      "metadata": {
        "id": "hlqmFKFb4tYM",
        "colab_type": "code",
        "colab": {
          "base_uri": "https://localhost:8080/",
          "height": 204
        },
        "outputId": "f7a93f2e-c431-48c1-96c3-237571eb1980"
      },
      "source": [
        "df_users.head()"
      ],
      "execution_count": null,
      "outputs": [
        {
          "output_type": "execute_result",
          "data": {
            "text/html": [
              "<div>\n",
              "<style scoped>\n",
              "    .dataframe tbody tr th:only-of-type {\n",
              "        vertical-align: middle;\n",
              "    }\n",
              "\n",
              "    .dataframe tbody tr th {\n",
              "        vertical-align: top;\n",
              "    }\n",
              "\n",
              "    .dataframe thead th {\n",
              "        text-align: right;\n",
              "    }\n",
              "</style>\n",
              "<table border=\"1\" class=\"dataframe\">\n",
              "  <thead>\n",
              "    <tr style=\"text-align: right;\">\n",
              "      <th></th>\n",
              "      <th>Unnamed: 0</th>\n",
              "      <th>id</th>\n",
              "      <th>display_name</th>\n",
              "      <th>creation_date</th>\n",
              "      <th>last_access_date</th>\n",
              "      <th>reputation</th>\n",
              "      <th>up_votes</th>\n",
              "      <th>down_votes</th>\n",
              "      <th>views</th>\n",
              "    </tr>\n",
              "  </thead>\n",
              "  <tbody>\n",
              "    <tr>\n",
              "      <th>0</th>\n",
              "      <td>0</td>\n",
              "      <td>26</td>\n",
              "      <td>Shawn</td>\n",
              "      <td>2008-08-01 12:18:14.52 UTC</td>\n",
              "      <td>2018-04-11 04:40:35.66 UTC</td>\n",
              "      <td>11820</td>\n",
              "      <td>565</td>\n",
              "      <td>67</td>\n",
              "      <td>3547</td>\n",
              "    </tr>\n",
              "    <tr>\n",
              "      <th>1</th>\n",
              "      <td>1</td>\n",
              "      <td>26</td>\n",
              "      <td>Shawn</td>\n",
              "      <td>2008-08-01 12:18:14.52 UTC</td>\n",
              "      <td>2018-04-11 04:40:35.66 UTC</td>\n",
              "      <td>11820</td>\n",
              "      <td>565</td>\n",
              "      <td>67</td>\n",
              "      <td>3547</td>\n",
              "    </tr>\n",
              "    <tr>\n",
              "      <th>2</th>\n",
              "      <td>2</td>\n",
              "      <td>26</td>\n",
              "      <td>Shawn</td>\n",
              "      <td>2008-08-01 12:18:14.52 UTC</td>\n",
              "      <td>2018-04-11 04:40:35.66 UTC</td>\n",
              "      <td>11820</td>\n",
              "      <td>565</td>\n",
              "      <td>67</td>\n",
              "      <td>3547</td>\n",
              "    </tr>\n",
              "    <tr>\n",
              "      <th>3</th>\n",
              "      <td>3</td>\n",
              "      <td>26</td>\n",
              "      <td>Shawn</td>\n",
              "      <td>2008-08-01 12:18:14.52 UTC</td>\n",
              "      <td>2018-04-11 04:40:35.66 UTC</td>\n",
              "      <td>11820</td>\n",
              "      <td>565</td>\n",
              "      <td>67</td>\n",
              "      <td>3547</td>\n",
              "    </tr>\n",
              "    <tr>\n",
              "      <th>4</th>\n",
              "      <td>4</td>\n",
              "      <td>26</td>\n",
              "      <td>Shawn</td>\n",
              "      <td>2008-08-01 12:18:14.52 UTC</td>\n",
              "      <td>2018-04-11 04:40:35.66 UTC</td>\n",
              "      <td>11820</td>\n",
              "      <td>565</td>\n",
              "      <td>67</td>\n",
              "      <td>3547</td>\n",
              "    </tr>\n",
              "  </tbody>\n",
              "</table>\n",
              "</div>"
            ],
            "text/plain": [
              "   Unnamed: 0  id display_name  ... up_votes down_votes  views\n",
              "0           0  26        Shawn  ...      565         67   3547\n",
              "1           1  26        Shawn  ...      565         67   3547\n",
              "2           2  26        Shawn  ...      565         67   3547\n",
              "3           3  26        Shawn  ...      565         67   3547\n",
              "4           4  26        Shawn  ...      565         67   3547\n",
              "\n",
              "[5 rows x 9 columns]"
            ]
          },
          "metadata": {
            "tags": []
          },
          "execution_count": 7
        }
      ]
    },
    {
      "cell_type": "code",
      "metadata": {
        "id": "X1lnLNJE4xwp",
        "colab_type": "code",
        "colab": {
          "base_uri": "https://localhost:8080/",
          "height": 204
        },
        "outputId": "8247022b-395a-4e47-d639-cbbdfbd347a2"
      },
      "source": [
        "df_tags.head()"
      ],
      "execution_count": null,
      "outputs": [
        {
          "output_type": "execute_result",
          "data": {
            "text/html": [
              "<div>\n",
              "<style scoped>\n",
              "    .dataframe tbody tr th:only-of-type {\n",
              "        vertical-align: middle;\n",
              "    }\n",
              "\n",
              "    .dataframe tbody tr th {\n",
              "        vertical-align: top;\n",
              "    }\n",
              "\n",
              "    .dataframe thead th {\n",
              "        text-align: right;\n",
              "    }\n",
              "</style>\n",
              "<table border=\"1\" class=\"dataframe\">\n",
              "  <thead>\n",
              "    <tr style=\"text-align: right;\">\n",
              "      <th></th>\n",
              "      <th>Id</th>\n",
              "      <th>Tag</th>\n",
              "    </tr>\n",
              "  </thead>\n",
              "  <tbody>\n",
              "    <tr>\n",
              "      <th>0</th>\n",
              "      <td>80</td>\n",
              "      <td>flex</td>\n",
              "    </tr>\n",
              "    <tr>\n",
              "      <th>1</th>\n",
              "      <td>80</td>\n",
              "      <td>actionscript-3</td>\n",
              "    </tr>\n",
              "    <tr>\n",
              "      <th>2</th>\n",
              "      <td>80</td>\n",
              "      <td>air</td>\n",
              "    </tr>\n",
              "    <tr>\n",
              "      <th>3</th>\n",
              "      <td>90</td>\n",
              "      <td>svn</td>\n",
              "    </tr>\n",
              "    <tr>\n",
              "      <th>4</th>\n",
              "      <td>90</td>\n",
              "      <td>tortoisesvn</td>\n",
              "    </tr>\n",
              "  </tbody>\n",
              "</table>\n",
              "</div>"
            ],
            "text/plain": [
              "   Id             Tag\n",
              "0  80            flex\n",
              "1  80  actionscript-3\n",
              "2  80             air\n",
              "3  90             svn\n",
              "4  90     tortoisesvn"
            ]
          },
          "metadata": {
            "tags": []
          },
          "execution_count": 8
        }
      ]
    },
    {
      "cell_type": "code",
      "metadata": {
        "id": "T2JV3E8X11eK",
        "colab_type": "code",
        "colab": {
          "base_uri": "https://localhost:8080/",
          "height": 255
        },
        "outputId": "e40c1ac4-e2f5-4f2d-e61e-a0777e1ff826"
      },
      "source": [
        "df_questions.info()"
      ],
      "execution_count": null,
      "outputs": [
        {
          "output_type": "stream",
          "text": [
            "<class 'pandas.core.frame.DataFrame'>\n",
            "RangeIndex: 1264216 entries, 0 to 1264215\n",
            "Data columns (total 7 columns):\n",
            " #   Column        Non-Null Count    Dtype  \n",
            "---  ------        --------------    -----  \n",
            " 0   Id            1264216 non-null  int64  \n",
            " 1   OwnerUserId   1249762 non-null  float64\n",
            " 2   CreationDate  1264216 non-null  object \n",
            " 3   ClosedDate    55959 non-null    object \n",
            " 4   Score         1264216 non-null  int64  \n",
            " 5   Title         1264216 non-null  object \n",
            " 6   Body          1264216 non-null  object \n",
            "dtypes: float64(1), int64(2), object(4)\n",
            "memory usage: 67.5+ MB\n"
          ],
          "name": "stdout"
        }
      ]
    },
    {
      "cell_type": "code",
      "metadata": {
        "id": "usUsIz-v2A3q",
        "colab_type": "code",
        "colab": {
          "base_uri": "https://localhost:8080/",
          "height": 153
        },
        "outputId": "45b638ff-6a0b-4127-e962-2ed3d273249b"
      },
      "source": [
        "df_questions.isnull().sum()"
      ],
      "execution_count": null,
      "outputs": [
        {
          "output_type": "execute_result",
          "data": {
            "text/plain": [
              "Id                    0\n",
              "OwnerUserId       14454\n",
              "CreationDate          0\n",
              "ClosedDate      1208257\n",
              "Score                 0\n",
              "Title                 0\n",
              "Body                  0\n",
              "dtype: int64"
            ]
          },
          "metadata": {
            "tags": []
          },
          "execution_count": 10
        }
      ]
    },
    {
      "cell_type": "code",
      "metadata": {
        "id": "GMJZHQZA2IDk",
        "colab_type": "code",
        "colab": {}
      },
      "source": [
        "df_questions.CreationDate = pd.to_datetime(df_questions.CreationDate)"
      ],
      "execution_count": null,
      "outputs": []
    },
    {
      "cell_type": "code",
      "metadata": {
        "id": "ScFeFp0Q6ums",
        "colab_type": "code",
        "colab": {}
      },
      "source": [
        "df_questions.drop(['ClosedDate'],axis=1,inplace=True)"
      ],
      "execution_count": null,
      "outputs": []
    },
    {
      "cell_type": "code",
      "metadata": {
        "id": "2_aDAEyS7jiy",
        "colab_type": "code",
        "colab": {
          "base_uri": "https://localhost:8080/",
          "height": 34
        },
        "outputId": "f211f028-b12b-4f5a-cfab-1a3b6bf1bd31"
      },
      "source": [
        "df_questions.OwnerUserId.isnull().sum()"
      ],
      "execution_count": null,
      "outputs": [
        {
          "output_type": "execute_result",
          "data": {
            "text/plain": [
              "14454"
            ]
          },
          "metadata": {
            "tags": []
          },
          "execution_count": 13
        }
      ]
    },
    {
      "cell_type": "code",
      "metadata": {
        "id": "y055ZnGr7xfm",
        "colab_type": "code",
        "colab": {}
      },
      "source": [
        "df_questions = df_questions[~df_questions.OwnerUserId.isnull()]"
      ],
      "execution_count": null,
      "outputs": []
    },
    {
      "cell_type": "code",
      "metadata": {
        "id": "Nsaqu_KUHrXD",
        "colab_type": "code",
        "colab": {
          "base_uri": "https://localhost:8080/",
          "height": 238
        },
        "outputId": "402017dc-5c46-406f-b67e-383cefea62e7"
      },
      "source": [
        "df_questions.info()"
      ],
      "execution_count": null,
      "outputs": [
        {
          "output_type": "stream",
          "text": [
            "<class 'pandas.core.frame.DataFrame'>\n",
            "Int64Index: 1249762 entries, 0 to 1264215\n",
            "Data columns (total 6 columns):\n",
            " #   Column        Non-Null Count    Dtype              \n",
            "---  ------        --------------    -----              \n",
            " 0   Id            1249762 non-null  int64              \n",
            " 1   OwnerUserId   1249762 non-null  float64            \n",
            " 2   CreationDate  1249762 non-null  datetime64[ns, UTC]\n",
            " 3   Score         1249762 non-null  int64              \n",
            " 4   Title         1249762 non-null  object             \n",
            " 5   Body          1249762 non-null  object             \n",
            "dtypes: datetime64[ns, UTC](1), float64(1), int64(2), object(2)\n",
            "memory usage: 66.7+ MB\n"
          ],
          "name": "stdout"
        }
      ]
    },
    {
      "cell_type": "code",
      "metadata": {
        "id": "p9UwAOUi726C",
        "colab_type": "code",
        "colab": {
          "base_uri": "https://localhost:8080/",
          "height": 136
        },
        "outputId": "0e39d6ed-c221-4f91-97b7-a1904d867803"
      },
      "source": [
        "df_answers.isnull().sum()"
      ],
      "execution_count": null,
      "outputs": [
        {
          "output_type": "execute_result",
          "data": {
            "text/plain": [
              "Id                  0\n",
              "OwnerUserId     13200\n",
              "CreationDate        0\n",
              "ParentId            0\n",
              "Score               0\n",
              "Body                0\n",
              "dtype: int64"
            ]
          },
          "metadata": {
            "tags": []
          },
          "execution_count": 16
        }
      ]
    },
    {
      "cell_type": "code",
      "metadata": {
        "id": "ppUxTrri8j-F",
        "colab_type": "code",
        "colab": {
          "base_uri": "https://localhost:8080/",
          "height": 238
        },
        "outputId": "7dc15a36-13ec-400b-f29f-4c72ec09a223"
      },
      "source": [
        "df_answers.info()"
      ],
      "execution_count": null,
      "outputs": [
        {
          "output_type": "stream",
          "text": [
            "<class 'pandas.core.frame.DataFrame'>\n",
            "RangeIndex: 2014516 entries, 0 to 2014515\n",
            "Data columns (total 6 columns):\n",
            " #   Column        Dtype  \n",
            "---  ------        -----  \n",
            " 0   Id            int64  \n",
            " 1   OwnerUserId   float64\n",
            " 2   CreationDate  object \n",
            " 3   ParentId      int64  \n",
            " 4   Score         int64  \n",
            " 5   Body          object \n",
            "dtypes: float64(1), int64(3), object(2)\n",
            "memory usage: 92.2+ MB\n"
          ],
          "name": "stdout"
        }
      ]
    },
    {
      "cell_type": "code",
      "metadata": {
        "id": "1Rgby_xX8s3h",
        "colab_type": "code",
        "colab": {}
      },
      "source": [
        "df_answers.CreationDate = pd.to_datetime(df_answers.CreationDate)"
      ],
      "execution_count": null,
      "outputs": []
    },
    {
      "cell_type": "code",
      "metadata": {
        "id": "ElEiX6aw9RT1",
        "colab_type": "code",
        "colab": {}
      },
      "source": [
        "df_answers = df_answers[~df_answers.OwnerUserId.isnull()]"
      ],
      "execution_count": null,
      "outputs": []
    },
    {
      "cell_type": "code",
      "metadata": {
        "id": "0cX9XbVA9YLV",
        "colab_type": "code",
        "colab": {
          "base_uri": "https://localhost:8080/",
          "height": 80
        },
        "outputId": "b5bce850-6658-4567-e6c7-528f5a05906a"
      },
      "source": [
        "df_questions[df_questions.Id==180]"
      ],
      "execution_count": null,
      "outputs": [
        {
          "output_type": "execute_result",
          "data": {
            "text/html": [
              "<div>\n",
              "<style scoped>\n",
              "    .dataframe tbody tr th:only-of-type {\n",
              "        vertical-align: middle;\n",
              "    }\n",
              "\n",
              "    .dataframe tbody tr th {\n",
              "        vertical-align: top;\n",
              "    }\n",
              "\n",
              "    .dataframe thead th {\n",
              "        text-align: right;\n",
              "    }\n",
              "</style>\n",
              "<table border=\"1\" class=\"dataframe\">\n",
              "  <thead>\n",
              "    <tr style=\"text-align: right;\">\n",
              "      <th></th>\n",
              "      <th>Id</th>\n",
              "      <th>OwnerUserId</th>\n",
              "      <th>CreationDate</th>\n",
              "      <th>Score</th>\n",
              "      <th>Title</th>\n",
              "      <th>Body</th>\n",
              "    </tr>\n",
              "  </thead>\n",
              "  <tbody>\n",
              "    <tr>\n",
              "      <th>3</th>\n",
              "      <td>180</td>\n",
              "      <td>2089740.0</td>\n",
              "      <td>2008-08-01 18:42:19+00:00</td>\n",
              "      <td>53</td>\n",
              "      <td>Function for creating color wheels</td>\n",
              "      <td>&lt;p&gt;This is something I've pseudo-solved many t...</td>\n",
              "    </tr>\n",
              "  </tbody>\n",
              "</table>\n",
              "</div>"
            ],
            "text/plain": [
              "    Id  ...                                               Body\n",
              "3  180  ...  <p>This is something I've pseudo-solved many t...\n",
              "\n",
              "[1 rows x 6 columns]"
            ]
          },
          "metadata": {
            "tags": []
          },
          "execution_count": 20
        }
      ]
    },
    {
      "cell_type": "code",
      "metadata": {
        "id": "hThbj9Hn9nzc",
        "colab_type": "code",
        "colab": {
          "base_uri": "https://localhost:8080/",
          "height": 173
        },
        "outputId": "02686dd1-d394-4ab4-fc6d-412cba6829d9"
      },
      "source": [
        "df_tags[df_tags.Id==180]"
      ],
      "execution_count": null,
      "outputs": [
        {
          "output_type": "execute_result",
          "data": {
            "text/html": [
              "<div>\n",
              "<style scoped>\n",
              "    .dataframe tbody tr th:only-of-type {\n",
              "        vertical-align: middle;\n",
              "    }\n",
              "\n",
              "    .dataframe tbody tr th {\n",
              "        vertical-align: top;\n",
              "    }\n",
              "\n",
              "    .dataframe thead th {\n",
              "        text-align: right;\n",
              "    }\n",
              "</style>\n",
              "<table border=\"1\" class=\"dataframe\">\n",
              "  <thead>\n",
              "    <tr style=\"text-align: right;\">\n",
              "      <th></th>\n",
              "      <th>Id</th>\n",
              "      <th>Tag</th>\n",
              "    </tr>\n",
              "  </thead>\n",
              "  <tbody>\n",
              "    <tr>\n",
              "      <th>10</th>\n",
              "      <td>180</td>\n",
              "      <td>algorithm</td>\n",
              "    </tr>\n",
              "    <tr>\n",
              "      <th>11</th>\n",
              "      <td>180</td>\n",
              "      <td>language-agnostic</td>\n",
              "    </tr>\n",
              "    <tr>\n",
              "      <th>12</th>\n",
              "      <td>180</td>\n",
              "      <td>colors</td>\n",
              "    </tr>\n",
              "    <tr>\n",
              "      <th>13</th>\n",
              "      <td>180</td>\n",
              "      <td>color-space</td>\n",
              "    </tr>\n",
              "  </tbody>\n",
              "</table>\n",
              "</div>"
            ],
            "text/plain": [
              "     Id                Tag\n",
              "10  180          algorithm\n",
              "11  180  language-agnostic\n",
              "12  180             colors\n",
              "13  180        color-space"
            ]
          },
          "metadata": {
            "tags": []
          },
          "execution_count": 21
        }
      ]
    },
    {
      "cell_type": "code",
      "metadata": {
        "id": "fDKYTQh4ORGy",
        "colab_type": "code",
        "colab": {
          "base_uri": "https://localhost:8080/",
          "height": 328
        },
        "outputId": "89ca4040-b060-4c42-aed9-5d504e98b619"
      },
      "source": [
        "df_answers[df_answers.ParentId == 180]"
      ],
      "execution_count": null,
      "outputs": [
        {
          "output_type": "execute_result",
          "data": {
            "text/html": [
              "<div>\n",
              "<style scoped>\n",
              "    .dataframe tbody tr th:only-of-type {\n",
              "        vertical-align: middle;\n",
              "    }\n",
              "\n",
              "    .dataframe tbody tr th {\n",
              "        vertical-align: top;\n",
              "    }\n",
              "\n",
              "    .dataframe thead th {\n",
              "        text-align: right;\n",
              "    }\n",
              "</style>\n",
              "<table border=\"1\" class=\"dataframe\">\n",
              "  <thead>\n",
              "    <tr style=\"text-align: right;\">\n",
              "      <th></th>\n",
              "      <th>Id</th>\n",
              "      <th>OwnerUserId</th>\n",
              "      <th>CreationDate</th>\n",
              "      <th>ParentId</th>\n",
              "      <th>Score</th>\n",
              "      <th>Body</th>\n",
              "    </tr>\n",
              "  </thead>\n",
              "  <tbody>\n",
              "    <tr>\n",
              "      <th>2</th>\n",
              "      <td>199</td>\n",
              "      <td>50.0</td>\n",
              "      <td>2008-08-01 19:36:46+00:00</td>\n",
              "      <td>180</td>\n",
              "      <td>1</td>\n",
              "      <td>&lt;p&gt;I've read somewhere the human eye can't dis...</td>\n",
              "    </tr>\n",
              "    <tr>\n",
              "      <th>9</th>\n",
              "      <td>529</td>\n",
              "      <td>86.0</td>\n",
              "      <td>2008-08-02 18:16:07+00:00</td>\n",
              "      <td>180</td>\n",
              "      <td>3</td>\n",
              "      <td>&lt;p&gt;Isn't it also a factor which order you set ...</td>\n",
              "    </tr>\n",
              "    <tr>\n",
              "      <th>10</th>\n",
              "      <td>539</td>\n",
              "      <td>157.0</td>\n",
              "      <td>2008-08-02 19:03:52+00:00</td>\n",
              "      <td>180</td>\n",
              "      <td>21</td>\n",
              "      <td>&lt;p&gt;My first thought on this is \"how generate N...</td>\n",
              "    </tr>\n",
              "    <tr>\n",
              "      <th>2901</th>\n",
              "      <td>59760</td>\n",
              "      <td>5845.0</td>\n",
              "      <td>2008-09-12 19:00:13+00:00</td>\n",
              "      <td>180</td>\n",
              "      <td>17</td>\n",
              "      <td>&lt;p&gt;It would be best to find colors maximally d...</td>\n",
              "    </tr>\n",
              "    <tr>\n",
              "      <th>4761</th>\n",
              "      <td>93908</td>\n",
              "      <td>16632.0</td>\n",
              "      <td>2008-09-18 16:01:24+00:00</td>\n",
              "      <td>180</td>\n",
              "      <td>7</td>\n",
              "      <td>&lt;p&gt;Some related resources:&lt;/p&gt;\\n\\n&lt;p&gt;&lt;a href=\"...</td>\n",
              "    </tr>\n",
              "    <tr>\n",
              "      <th>7452</th>\n",
              "      <td>143966</td>\n",
              "      <td>16582.0</td>\n",
              "      <td>2008-09-27 16:39:09+00:00</td>\n",
              "      <td>180</td>\n",
              "      <td>4</td>\n",
              "      <td>&lt;p&gt;Here is some code to allocate RGB colors ev...</td>\n",
              "    </tr>\n",
              "    <tr>\n",
              "      <th>87465</th>\n",
              "      <td>1499720</td>\n",
              "      <td>115432.0</td>\n",
              "      <td>2009-09-30 18:00:26+00:00</td>\n",
              "      <td>180</td>\n",
              "      <td>0</td>\n",
              "      <td>&lt;p&gt;Last I checked &lt;a href=\"http://www.jfree.or...</td>\n",
              "    </tr>\n",
              "    <tr>\n",
              "      <th>446804</th>\n",
              "      <td>7815745</td>\n",
              "      <td>678455.0</td>\n",
              "      <td>2011-10-19 01:58:23+00:00</td>\n",
              "      <td>180</td>\n",
              "      <td>1</td>\n",
              "      <td>&lt;p&gt;I know this an old post but I found it whil...</td>\n",
              "    </tr>\n",
              "    <tr>\n",
              "      <th>1152817</th>\n",
              "      <td>21634390</td>\n",
              "      <td>135862.0</td>\n",
              "      <td>2014-02-07 17:43:13+00:00</td>\n",
              "      <td>180</td>\n",
              "      <td>0</td>\n",
              "      <td>&lt;p&gt;To achieve \"most distinguishable\" we need t...</td>\n",
              "    </tr>\n",
              "  </tbody>\n",
              "</table>\n",
              "</div>"
            ],
            "text/plain": [
              "               Id  ...                                               Body\n",
              "2             199  ...  <p>I've read somewhere the human eye can't dis...\n",
              "9             529  ...  <p>Isn't it also a factor which order you set ...\n",
              "10            539  ...  <p>My first thought on this is \"how generate N...\n",
              "2901        59760  ...  <p>It would be best to find colors maximally d...\n",
              "4761        93908  ...  <p>Some related resources:</p>\\n\\n<p><a href=\"...\n",
              "7452       143966  ...  <p>Here is some code to allocate RGB colors ev...\n",
              "87465     1499720  ...  <p>Last I checked <a href=\"http://www.jfree.or...\n",
              "446804    7815745  ...  <p>I know this an old post but I found it whil...\n",
              "1152817  21634390  ...  <p>To achieve \"most distinguishable\" we need t...\n",
              "\n",
              "[9 rows x 6 columns]"
            ]
          },
          "metadata": {
            "tags": []
          },
          "execution_count": 22
        }
      ]
    },
    {
      "cell_type": "code",
      "metadata": {
        "id": "zLAjm8UyRzVo",
        "colab_type": "code",
        "colab": {
          "base_uri": "https://localhost:8080/",
          "height": 235
        },
        "outputId": "f8a5c7ba-27a2-4a39-cc10-41d152176529"
      },
      "source": [
        "df_users[df_users.id==678455]"
      ],
      "execution_count": null,
      "outputs": [
        {
          "output_type": "execute_result",
          "data": {
            "text/html": [
              "<div>\n",
              "<style scoped>\n",
              "    .dataframe tbody tr th:only-of-type {\n",
              "        vertical-align: middle;\n",
              "    }\n",
              "\n",
              "    .dataframe tbody tr th {\n",
              "        vertical-align: top;\n",
              "    }\n",
              "\n",
              "    .dataframe thead th {\n",
              "        text-align: right;\n",
              "    }\n",
              "</style>\n",
              "<table border=\"1\" class=\"dataframe\">\n",
              "  <thead>\n",
              "    <tr style=\"text-align: right;\">\n",
              "      <th></th>\n",
              "      <th>Unnamed: 0</th>\n",
              "      <th>id</th>\n",
              "      <th>display_name</th>\n",
              "      <th>creation_date</th>\n",
              "      <th>last_access_date</th>\n",
              "      <th>reputation</th>\n",
              "      <th>up_votes</th>\n",
              "      <th>down_votes</th>\n",
              "      <th>views</th>\n",
              "    </tr>\n",
              "  </thead>\n",
              "  <tbody>\n",
              "    <tr>\n",
              "      <th>319</th>\n",
              "      <td>319</td>\n",
              "      <td>678455</td>\n",
              "      <td>Mauro</td>\n",
              "      <td>2011-03-26 22:38:38.31 UTC</td>\n",
              "      <td>2019-08-31 09:03:03.883 UTC</td>\n",
              "      <td>2604</td>\n",
              "      <td>315</td>\n",
              "      <td>5</td>\n",
              "      <td>183</td>\n",
              "    </tr>\n",
              "    <tr>\n",
              "      <th>320</th>\n",
              "      <td>320</td>\n",
              "      <td>678455</td>\n",
              "      <td>Mauro</td>\n",
              "      <td>2011-03-26 22:38:38.31 UTC</td>\n",
              "      <td>2019-08-31 09:03:03.883 UTC</td>\n",
              "      <td>2604</td>\n",
              "      <td>315</td>\n",
              "      <td>5</td>\n",
              "      <td>183</td>\n",
              "    </tr>\n",
              "    <tr>\n",
              "      <th>321</th>\n",
              "      <td>321</td>\n",
              "      <td>678455</td>\n",
              "      <td>Mauro</td>\n",
              "      <td>2011-03-26 22:38:38.31 UTC</td>\n",
              "      <td>2019-08-31 09:03:03.883 UTC</td>\n",
              "      <td>2604</td>\n",
              "      <td>315</td>\n",
              "      <td>5</td>\n",
              "      <td>183</td>\n",
              "    </tr>\n",
              "    <tr>\n",
              "      <th>322</th>\n",
              "      <td>322</td>\n",
              "      <td>678455</td>\n",
              "      <td>Mauro</td>\n",
              "      <td>2011-03-26 22:38:38.31 UTC</td>\n",
              "      <td>2019-08-31 09:03:03.883 UTC</td>\n",
              "      <td>2604</td>\n",
              "      <td>315</td>\n",
              "      <td>5</td>\n",
              "      <td>183</td>\n",
              "    </tr>\n",
              "    <tr>\n",
              "      <th>323</th>\n",
              "      <td>323</td>\n",
              "      <td>678455</td>\n",
              "      <td>Mauro</td>\n",
              "      <td>2011-03-26 22:38:38.31 UTC</td>\n",
              "      <td>2019-08-31 09:03:03.883 UTC</td>\n",
              "      <td>2604</td>\n",
              "      <td>315</td>\n",
              "      <td>5</td>\n",
              "      <td>183</td>\n",
              "    </tr>\n",
              "    <tr>\n",
              "      <th>324</th>\n",
              "      <td>324</td>\n",
              "      <td>678455</td>\n",
              "      <td>Mauro</td>\n",
              "      <td>2011-03-26 22:38:38.31 UTC</td>\n",
              "      <td>2019-08-31 09:03:03.883 UTC</td>\n",
              "      <td>2604</td>\n",
              "      <td>315</td>\n",
              "      <td>5</td>\n",
              "      <td>183</td>\n",
              "    </tr>\n",
              "  </tbody>\n",
              "</table>\n",
              "</div>"
            ],
            "text/plain": [
              "     Unnamed: 0      id display_name  ... up_votes down_votes  views\n",
              "319         319  678455        Mauro  ...      315          5    183\n",
              "320         320  678455        Mauro  ...      315          5    183\n",
              "321         321  678455        Mauro  ...      315          5    183\n",
              "322         322  678455        Mauro  ...      315          5    183\n",
              "323         323  678455        Mauro  ...      315          5    183\n",
              "324         324  678455        Mauro  ...      315          5    183\n",
              "\n",
              "[6 rows x 9 columns]"
            ]
          },
          "metadata": {
            "tags": []
          },
          "execution_count": 23
        }
      ]
    },
    {
      "cell_type": "code",
      "metadata": {
        "id": "GyPr80OsSDa4",
        "colab_type": "code",
        "colab": {}
      },
      "source": [
        "df_users.drop([\"Unnamed: 0\"],axis=1,inplace=True)"
      ],
      "execution_count": null,
      "outputs": []
    },
    {
      "cell_type": "code",
      "metadata": {
        "id": "bYDmMW_TTKn1",
        "colab_type": "code",
        "colab": {
          "base_uri": "https://localhost:8080/",
          "height": 170
        },
        "outputId": "314ee662-4462-4911-ae57-d55118700205"
      },
      "source": [
        "df_users.isnull().sum()"
      ],
      "execution_count": null,
      "outputs": [
        {
          "output_type": "execute_result",
          "data": {
            "text/plain": [
              "id                    0\n",
              "display_name        136\n",
              "creation_date         0\n",
              "last_access_date      0\n",
              "reputation            0\n",
              "up_votes              0\n",
              "down_votes            0\n",
              "views                 0\n",
              "dtype: int64"
            ]
          },
          "metadata": {
            "tags": []
          },
          "execution_count": 25
        }
      ]
    },
    {
      "cell_type": "code",
      "metadata": {
        "id": "T6k-cgYaTTzN",
        "colab_type": "code",
        "colab": {}
      },
      "source": [
        "df_users.drop_duplicates(inplace=True)"
      ],
      "execution_count": null,
      "outputs": []
    },
    {
      "cell_type": "code",
      "metadata": {
        "id": "GTkdPPQLTX65",
        "colab_type": "code",
        "colab": {
          "base_uri": "https://localhost:8080/",
          "height": 272
        },
        "outputId": "dd823756-ff2d-480f-8e72-c0e40c1ee658"
      },
      "source": [
        "df_users.info()"
      ],
      "execution_count": null,
      "outputs": [
        {
          "output_type": "stream",
          "text": [
            "<class 'pandas.core.frame.DataFrame'>\n",
            "Int64Index: 465460 entries, 0 to 1990479\n",
            "Data columns (total 8 columns):\n",
            " #   Column            Non-Null Count   Dtype \n",
            "---  ------            --------------   ----- \n",
            " 0   id                465460 non-null  int64 \n",
            " 1   display_name      465436 non-null  object\n",
            " 2   creation_date     465460 non-null  object\n",
            " 3   last_access_date  465460 non-null  object\n",
            " 4   reputation        465460 non-null  int64 \n",
            " 5   up_votes          465460 non-null  int64 \n",
            " 6   down_votes        465460 non-null  int64 \n",
            " 7   views             465460 non-null  int64 \n",
            "dtypes: int64(5), object(3)\n",
            "memory usage: 32.0+ MB\n"
          ],
          "name": "stdout"
        }
      ]
    },
    {
      "cell_type": "code",
      "metadata": {
        "id": "tds_URFdTajW",
        "colab_type": "code",
        "colab": {
          "base_uri": "https://localhost:8080/",
          "height": 793
        },
        "outputId": "b62d9ef4-45c2-4c4f-a364-3fe4ca55ffac"
      },
      "source": [
        "df_users[df_users.display_name.isnull()]"
      ],
      "execution_count": null,
      "outputs": [
        {
          "output_type": "execute_result",
          "data": {
            "text/html": [
              "<div>\n",
              "<style scoped>\n",
              "    .dataframe tbody tr th:only-of-type {\n",
              "        vertical-align: middle;\n",
              "    }\n",
              "\n",
              "    .dataframe tbody tr th {\n",
              "        vertical-align: top;\n",
              "    }\n",
              "\n",
              "    .dataframe thead th {\n",
              "        text-align: right;\n",
              "    }\n",
              "</style>\n",
              "<table border=\"1\" class=\"dataframe\">\n",
              "  <thead>\n",
              "    <tr style=\"text-align: right;\">\n",
              "      <th></th>\n",
              "      <th>id</th>\n",
              "      <th>display_name</th>\n",
              "      <th>creation_date</th>\n",
              "      <th>last_access_date</th>\n",
              "      <th>reputation</th>\n",
              "      <th>up_votes</th>\n",
              "      <th>down_votes</th>\n",
              "      <th>views</th>\n",
              "    </tr>\n",
              "  </thead>\n",
              "  <tbody>\n",
              "    <tr>\n",
              "      <th>129535</th>\n",
              "      <td>25411</td>\n",
              "      <td>NaN</td>\n",
              "      <td>2008-10-06 07:27:24.897 UTC</td>\n",
              "      <td>2018-01-14 16:29:00.133 UTC</td>\n",
              "      <td>5933</td>\n",
              "      <td>46</td>\n",
              "      <td>4</td>\n",
              "      <td>474</td>\n",
              "    </tr>\n",
              "    <tr>\n",
              "      <th>385210</th>\n",
              "      <td>98324</td>\n",
              "      <td>NaN</td>\n",
              "      <td>2009-04-30 07:37:08.027 UTC</td>\n",
              "      <td>2010-08-18 08:00:46.337 UTC</td>\n",
              "      <td>109</td>\n",
              "      <td>0</td>\n",
              "      <td>0</td>\n",
              "      <td>70</td>\n",
              "    </tr>\n",
              "    <tr>\n",
              "      <th>627042</th>\n",
              "      <td>75777</td>\n",
              "      <td>NaN</td>\n",
              "      <td>2009-03-09 18:51:49.727 UTC</td>\n",
              "      <td>2018-10-14 02:23:03.763 UTC</td>\n",
              "      <td>2093</td>\n",
              "      <td>31</td>\n",
              "      <td>1</td>\n",
              "      <td>151</td>\n",
              "    </tr>\n",
              "    <tr>\n",
              "      <th>690714</th>\n",
              "      <td>428789</td>\n",
              "      <td>NaN</td>\n",
              "      <td>2010-08-23 20:04:56.363 UTC</td>\n",
              "      <td>2019-08-30 14:34:24.577 UTC</td>\n",
              "      <td>9105</td>\n",
              "      <td>247</td>\n",
              "      <td>20</td>\n",
              "      <td>481</td>\n",
              "    </tr>\n",
              "    <tr>\n",
              "      <th>938603</th>\n",
              "      <td>844005</td>\n",
              "      <td>NaN</td>\n",
              "      <td>2011-07-14 06:55:45.213 UTC</td>\n",
              "      <td>2019-01-09 13:25:16.583 UTC</td>\n",
              "      <td>3845</td>\n",
              "      <td>515</td>\n",
              "      <td>16</td>\n",
              "      <td>359</td>\n",
              "    </tr>\n",
              "    <tr>\n",
              "      <th>986745</th>\n",
              "      <td>1262634</td>\n",
              "      <td>NaN</td>\n",
              "      <td>2012-03-11 17:44:35.57 UTC</td>\n",
              "      <td>2019-09-01 04:59:37.95 UTC</td>\n",
              "      <td>17892</td>\n",
              "      <td>632</td>\n",
              "      <td>306</td>\n",
              "      <td>1223</td>\n",
              "    </tr>\n",
              "    <tr>\n",
              "      <th>1103009</th>\n",
              "      <td>248055</td>\n",
              "      <td>NaN</td>\n",
              "      <td>2010-01-11 13:03:36.443 UTC</td>\n",
              "      <td>2019-08-27 11:13:30.147 UTC</td>\n",
              "      <td>7380</td>\n",
              "      <td>257</td>\n",
              "      <td>9</td>\n",
              "      <td>476</td>\n",
              "    </tr>\n",
              "    <tr>\n",
              "      <th>1147730</th>\n",
              "      <td>2060669</td>\n",
              "      <td>NaN</td>\n",
              "      <td>2013-02-11 08:36:52.81 UTC</td>\n",
              "      <td>2019-08-30 07:41:01.41 UTC</td>\n",
              "      <td>1052</td>\n",
              "      <td>307</td>\n",
              "      <td>3</td>\n",
              "      <td>64</td>\n",
              "    </tr>\n",
              "    <tr>\n",
              "      <th>1358831</th>\n",
              "      <td>2036285</td>\n",
              "      <td>NaN</td>\n",
              "      <td>2013-02-03 00:34:38.88 UTC</td>\n",
              "      <td>2019-08-31 19:32:20.863 UTC</td>\n",
              "      <td>1780</td>\n",
              "      <td>37</td>\n",
              "      <td>5</td>\n",
              "      <td>148</td>\n",
              "    </tr>\n",
              "    <tr>\n",
              "      <th>1381529</th>\n",
              "      <td>2128970</td>\n",
              "      <td>NaN</td>\n",
              "      <td>2013-03-03 14:14:33.263 UTC</td>\n",
              "      <td>2019-08-31 22:23:08.713 UTC</td>\n",
              "      <td>450</td>\n",
              "      <td>73</td>\n",
              "      <td>16</td>\n",
              "      <td>58</td>\n",
              "    </tr>\n",
              "    <tr>\n",
              "      <th>1392930</th>\n",
              "      <td>962416</td>\n",
              "      <td>NaN</td>\n",
              "      <td>2011-09-24 08:19:37.287 UTC</td>\n",
              "      <td>2019-08-28 14:28:28.867 UTC</td>\n",
              "      <td>194</td>\n",
              "      <td>230</td>\n",
              "      <td>5</td>\n",
              "      <td>52</td>\n",
              "    </tr>\n",
              "    <tr>\n",
              "      <th>1474902</th>\n",
              "      <td>2508465</td>\n",
              "      <td>NaN</td>\n",
              "      <td>2013-06-21 09:36:36.223 UTC</td>\n",
              "      <td>2019-08-21 09:33:49.933 UTC</td>\n",
              "      <td>1994</td>\n",
              "      <td>836</td>\n",
              "      <td>161</td>\n",
              "      <td>660</td>\n",
              "    </tr>\n",
              "    <tr>\n",
              "      <th>1638178</th>\n",
              "      <td>1694499</td>\n",
              "      <td>NaN</td>\n",
              "      <td>2012-09-24 13:08:57.957 UTC</td>\n",
              "      <td>2019-08-07 20:26:13.283 UTC</td>\n",
              "      <td>311</td>\n",
              "      <td>8</td>\n",
              "      <td>0</td>\n",
              "      <td>32</td>\n",
              "    </tr>\n",
              "    <tr>\n",
              "      <th>1663376</th>\n",
              "      <td>3705135</td>\n",
              "      <td>NaN</td>\n",
              "      <td>2014-06-04 00:28:06.237 UTC</td>\n",
              "      <td>2016-06-12 02:57:33.94 UTC</td>\n",
              "      <td>44</td>\n",
              "      <td>48</td>\n",
              "      <td>0</td>\n",
              "      <td>1</td>\n",
              "    </tr>\n",
              "    <tr>\n",
              "      <th>1706212</th>\n",
              "      <td>1510529</td>\n",
              "      <td>NaN</td>\n",
              "      <td>2012-07-08 20:22:41.7 UTC</td>\n",
              "      <td>2019-08-28 10:44:48.43 UTC</td>\n",
              "      <td>513</td>\n",
              "      <td>40</td>\n",
              "      <td>0</td>\n",
              "      <td>81</td>\n",
              "    </tr>\n",
              "    <tr>\n",
              "      <th>1745630</th>\n",
              "      <td>3697460</td>\n",
              "      <td>NaN</td>\n",
              "      <td>2014-06-01 19:24:47.873 UTC</td>\n",
              "      <td>2019-08-01 11:47:10.527 UTC</td>\n",
              "      <td>101</td>\n",
              "      <td>2</td>\n",
              "      <td>0</td>\n",
              "      <td>38</td>\n",
              "    </tr>\n",
              "    <tr>\n",
              "      <th>1747547</th>\n",
              "      <td>4347580</td>\n",
              "      <td>NaN</td>\n",
              "      <td>2014-12-10 21:20:05.77 UTC</td>\n",
              "      <td>2019-08-15 13:39:29.567 UTC</td>\n",
              "      <td>5042</td>\n",
              "      <td>469</td>\n",
              "      <td>80</td>\n",
              "      <td>419</td>\n",
              "    </tr>\n",
              "    <tr>\n",
              "      <th>1776075</th>\n",
              "      <td>3533419</td>\n",
              "      <td>NaN</td>\n",
              "      <td>2014-04-14 19:42:35.3 UTC</td>\n",
              "      <td>2019-08-26 11:34:22.023 UTC</td>\n",
              "      <td>605</td>\n",
              "      <td>49</td>\n",
              "      <td>2</td>\n",
              "      <td>104</td>\n",
              "    </tr>\n",
              "    <tr>\n",
              "      <th>1782642</th>\n",
              "      <td>3238482</td>\n",
              "      <td>NaN</td>\n",
              "      <td>2014-01-26 21:15:46.893 UTC</td>\n",
              "      <td>2016-04-07 21:36:58.467 UTC</td>\n",
              "      <td>622</td>\n",
              "      <td>7</td>\n",
              "      <td>12</td>\n",
              "      <td>28</td>\n",
              "    </tr>\n",
              "    <tr>\n",
              "      <th>1808054</th>\n",
              "      <td>3751845</td>\n",
              "      <td>NaN</td>\n",
              "      <td>2014-06-18 09:27:50.1 UTC</td>\n",
              "      <td>2019-08-30 14:39:16.043 UTC</td>\n",
              "      <td>3225</td>\n",
              "      <td>296</td>\n",
              "      <td>78</td>\n",
              "      <td>328</td>\n",
              "    </tr>\n",
              "    <tr>\n",
              "      <th>1809303</th>\n",
              "      <td>4182676</td>\n",
              "      <td>NaN</td>\n",
              "      <td>2014-10-26 10:33:19.94 UTC</td>\n",
              "      <td>2019-08-31 21:25:11.273 UTC</td>\n",
              "      <td>460</td>\n",
              "      <td>164</td>\n",
              "      <td>37</td>\n",
              "      <td>58</td>\n",
              "    </tr>\n",
              "    <tr>\n",
              "      <th>1910383</th>\n",
              "      <td>5002677</td>\n",
              "      <td>NaN</td>\n",
              "      <td>2015-06-12 10:05:18.607 UTC</td>\n",
              "      <td>2019-08-28 07:56:46.787 UTC</td>\n",
              "      <td>1298</td>\n",
              "      <td>1123</td>\n",
              "      <td>200</td>\n",
              "      <td>235</td>\n",
              "    </tr>\n",
              "    <tr>\n",
              "      <th>1966283</th>\n",
              "      <td>6529875</td>\n",
              "      <td>NaN</td>\n",
              "      <td>2016-06-29 18:10:36.103 UTC</td>\n",
              "      <td>2019-08-27 18:05:10.017 UTC</td>\n",
              "      <td>142</td>\n",
              "      <td>4</td>\n",
              "      <td>0</td>\n",
              "      <td>17</td>\n",
              "    </tr>\n",
              "    <tr>\n",
              "      <th>1984126</th>\n",
              "      <td>6828711</td>\n",
              "      <td>NaN</td>\n",
              "      <td>2016-09-14 00:28:06.23 UTC</td>\n",
              "      <td>2019-09-01 03:11:38.417 UTC</td>\n",
              "      <td>769</td>\n",
              "      <td>498</td>\n",
              "      <td>9</td>\n",
              "      <td>155</td>\n",
              "    </tr>\n",
              "  </tbody>\n",
              "</table>\n",
              "</div>"
            ],
            "text/plain": [
              "              id display_name  ... down_votes views\n",
              "129535     25411          NaN  ...          4   474\n",
              "385210     98324          NaN  ...          0    70\n",
              "627042     75777          NaN  ...          1   151\n",
              "690714    428789          NaN  ...         20   481\n",
              "938603    844005          NaN  ...         16   359\n",
              "986745   1262634          NaN  ...        306  1223\n",
              "1103009   248055          NaN  ...          9   476\n",
              "1147730  2060669          NaN  ...          3    64\n",
              "1358831  2036285          NaN  ...          5   148\n",
              "1381529  2128970          NaN  ...         16    58\n",
              "1392930   962416          NaN  ...          5    52\n",
              "1474902  2508465          NaN  ...        161   660\n",
              "1638178  1694499          NaN  ...          0    32\n",
              "1663376  3705135          NaN  ...          0     1\n",
              "1706212  1510529          NaN  ...          0    81\n",
              "1745630  3697460          NaN  ...          0    38\n",
              "1747547  4347580          NaN  ...         80   419\n",
              "1776075  3533419          NaN  ...          2   104\n",
              "1782642  3238482          NaN  ...         12    28\n",
              "1808054  3751845          NaN  ...         78   328\n",
              "1809303  4182676          NaN  ...         37    58\n",
              "1910383  5002677          NaN  ...        200   235\n",
              "1966283  6529875          NaN  ...          0    17\n",
              "1984126  6828711          NaN  ...          9   155\n",
              "\n",
              "[24 rows x 8 columns]"
            ]
          },
          "metadata": {
            "tags": []
          },
          "execution_count": 28
        }
      ]
    },
    {
      "cell_type": "code",
      "metadata": {
        "id": "70vWh1vFTj8I",
        "colab_type": "code",
        "colab": {
          "base_uri": "https://localhost:8080/",
          "height": 366
        },
        "outputId": "2a31d7af-8216-452d-dd5a-979c2142b48c"
      },
      "source": [
        "df_ques_ans = df_questions.merge(df_answers,how=\"inner\",left_on=\"Id\",right_on=\"ParentId\",suffixes=(\"_ques\",\"_ans\"))\n",
        "df_ques_ans.head(3)"
      ],
      "execution_count": null,
      "outputs": [
        {
          "output_type": "execute_result",
          "data": {
            "text/html": [
              "<div>\n",
              "<style scoped>\n",
              "    .dataframe tbody tr th:only-of-type {\n",
              "        vertical-align: middle;\n",
              "    }\n",
              "\n",
              "    .dataframe tbody tr th {\n",
              "        vertical-align: top;\n",
              "    }\n",
              "\n",
              "    .dataframe thead th {\n",
              "        text-align: right;\n",
              "    }\n",
              "</style>\n",
              "<table border=\"1\" class=\"dataframe\">\n",
              "  <thead>\n",
              "    <tr style=\"text-align: right;\">\n",
              "      <th></th>\n",
              "      <th>Id_ques</th>\n",
              "      <th>OwnerUserId_ques</th>\n",
              "      <th>CreationDate_ques</th>\n",
              "      <th>Score_ques</th>\n",
              "      <th>Title</th>\n",
              "      <th>Body_ques</th>\n",
              "      <th>Id_ans</th>\n",
              "      <th>OwnerUserId_ans</th>\n",
              "      <th>CreationDate_ans</th>\n",
              "      <th>ParentId</th>\n",
              "      <th>Score_ans</th>\n",
              "      <th>Body_ans</th>\n",
              "    </tr>\n",
              "  </thead>\n",
              "  <tbody>\n",
              "    <tr>\n",
              "      <th>0</th>\n",
              "      <td>80</td>\n",
              "      <td>26.0</td>\n",
              "      <td>2008-08-01 13:57:07+00:00</td>\n",
              "      <td>26</td>\n",
              "      <td>SQLStatement.execute() - multiple queries in o...</td>\n",
              "      <td>&lt;p&gt;I've written a database generation script i...</td>\n",
              "      <td>124</td>\n",
              "      <td>26.0</td>\n",
              "      <td>2008-08-01 16:09:47+00:00</td>\n",
              "      <td>80</td>\n",
              "      <td>12</td>\n",
              "      <td>&lt;p&gt;I wound up using this. It is a kind of a ha...</td>\n",
              "    </tr>\n",
              "    <tr>\n",
              "      <th>1</th>\n",
              "      <td>80</td>\n",
              "      <td>26.0</td>\n",
              "      <td>2008-08-01 13:57:07+00:00</td>\n",
              "      <td>26</td>\n",
              "      <td>SQLStatement.execute() - multiple queries in o...</td>\n",
              "      <td>&lt;p&gt;I've written a database generation script i...</td>\n",
              "      <td>10008</td>\n",
              "      <td>1109.0</td>\n",
              "      <td>2008-08-13 16:09:09+00:00</td>\n",
              "      <td>80</td>\n",
              "      <td>6</td>\n",
              "      <td>&lt;p&gt;The &lt;a href=\"http://en.wikipedia.org/wiki/S...</td>\n",
              "    </tr>\n",
              "    <tr>\n",
              "      <th>2</th>\n",
              "      <td>80</td>\n",
              "      <td>26.0</td>\n",
              "      <td>2008-08-01 13:57:07+00:00</td>\n",
              "      <td>26</td>\n",
              "      <td>SQLStatement.execute() - multiple queries in o...</td>\n",
              "      <td>&lt;p&gt;I've written a database generation script i...</td>\n",
              "      <td>3770976</td>\n",
              "      <td>364174.0</td>\n",
              "      <td>2010-09-22 15:37:30+00:00</td>\n",
              "      <td>80</td>\n",
              "      <td>1</td>\n",
              "      <td>&lt;p&gt;What about making your delimiter something ...</td>\n",
              "    </tr>\n",
              "  </tbody>\n",
              "</table>\n",
              "</div>"
            ],
            "text/plain": [
              "   Id_ques  ...                                           Body_ans\n",
              "0       80  ...  <p>I wound up using this. It is a kind of a ha...\n",
              "1       80  ...  <p>The <a href=\"http://en.wikipedia.org/wiki/S...\n",
              "2       80  ...  <p>What about making your delimiter something ...\n",
              "\n",
              "[3 rows x 12 columns]"
            ]
          },
          "metadata": {
            "tags": []
          },
          "execution_count": 29
        }
      ]
    },
    {
      "cell_type": "code",
      "metadata": {
        "id": "AHEMdNyDWUSE",
        "colab_type": "code",
        "colab": {
          "base_uri": "https://localhost:8080/",
          "height": 366
        },
        "outputId": "aa015b7c-01bb-4f7f-faf4-0fb6ed4659cc"
      },
      "source": [
        "df_ques_ans[\"Time_to_answer\"] = (df_ques_ans.CreationDate_ans - df_ques_ans.CreationDate_ques)/np.timedelta64(1,'h')\n",
        "df_ques_ans.head(3)"
      ],
      "execution_count": null,
      "outputs": [
        {
          "output_type": "execute_result",
          "data": {
            "text/html": [
              "<div>\n",
              "<style scoped>\n",
              "    .dataframe tbody tr th:only-of-type {\n",
              "        vertical-align: middle;\n",
              "    }\n",
              "\n",
              "    .dataframe tbody tr th {\n",
              "        vertical-align: top;\n",
              "    }\n",
              "\n",
              "    .dataframe thead th {\n",
              "        text-align: right;\n",
              "    }\n",
              "</style>\n",
              "<table border=\"1\" class=\"dataframe\">\n",
              "  <thead>\n",
              "    <tr style=\"text-align: right;\">\n",
              "      <th></th>\n",
              "      <th>Id_ques</th>\n",
              "      <th>OwnerUserId_ques</th>\n",
              "      <th>CreationDate_ques</th>\n",
              "      <th>Score_ques</th>\n",
              "      <th>Title</th>\n",
              "      <th>Body_ques</th>\n",
              "      <th>Id_ans</th>\n",
              "      <th>OwnerUserId_ans</th>\n",
              "      <th>CreationDate_ans</th>\n",
              "      <th>ParentId</th>\n",
              "      <th>Score_ans</th>\n",
              "      <th>Body_ans</th>\n",
              "      <th>Time_to_answer</th>\n",
              "    </tr>\n",
              "  </thead>\n",
              "  <tbody>\n",
              "    <tr>\n",
              "      <th>0</th>\n",
              "      <td>80</td>\n",
              "      <td>26.0</td>\n",
              "      <td>2008-08-01 13:57:07+00:00</td>\n",
              "      <td>26</td>\n",
              "      <td>SQLStatement.execute() - multiple queries in o...</td>\n",
              "      <td>&lt;p&gt;I've written a database generation script i...</td>\n",
              "      <td>124</td>\n",
              "      <td>26.0</td>\n",
              "      <td>2008-08-01 16:09:47+00:00</td>\n",
              "      <td>80</td>\n",
              "      <td>12</td>\n",
              "      <td>&lt;p&gt;I wound up using this. It is a kind of a ha...</td>\n",
              "      <td>2.211111</td>\n",
              "    </tr>\n",
              "    <tr>\n",
              "      <th>1</th>\n",
              "      <td>80</td>\n",
              "      <td>26.0</td>\n",
              "      <td>2008-08-01 13:57:07+00:00</td>\n",
              "      <td>26</td>\n",
              "      <td>SQLStatement.execute() - multiple queries in o...</td>\n",
              "      <td>&lt;p&gt;I've written a database generation script i...</td>\n",
              "      <td>10008</td>\n",
              "      <td>1109.0</td>\n",
              "      <td>2008-08-13 16:09:09+00:00</td>\n",
              "      <td>80</td>\n",
              "      <td>6</td>\n",
              "      <td>&lt;p&gt;The &lt;a href=\"http://en.wikipedia.org/wiki/S...</td>\n",
              "      <td>290.200556</td>\n",
              "    </tr>\n",
              "    <tr>\n",
              "      <th>2</th>\n",
              "      <td>80</td>\n",
              "      <td>26.0</td>\n",
              "      <td>2008-08-01 13:57:07+00:00</td>\n",
              "      <td>26</td>\n",
              "      <td>SQLStatement.execute() - multiple queries in o...</td>\n",
              "      <td>&lt;p&gt;I've written a database generation script i...</td>\n",
              "      <td>3770976</td>\n",
              "      <td>364174.0</td>\n",
              "      <td>2010-09-22 15:37:30+00:00</td>\n",
              "      <td>80</td>\n",
              "      <td>1</td>\n",
              "      <td>&lt;p&gt;What about making your delimiter something ...</td>\n",
              "      <td>18769.673056</td>\n",
              "    </tr>\n",
              "  </tbody>\n",
              "</table>\n",
              "</div>"
            ],
            "text/plain": [
              "   Id_ques  ...  Time_to_answer\n",
              "0       80  ...        2.211111\n",
              "1       80  ...      290.200556\n",
              "2       80  ...    18769.673056\n",
              "\n",
              "[3 rows x 13 columns]"
            ]
          },
          "metadata": {
            "tags": []
          },
          "execution_count": 30
        }
      ]
    },
    {
      "cell_type": "code",
      "metadata": {
        "id": "Ed40yUL4eSmo",
        "colab_type": "code",
        "colab": {
          "base_uri": "https://localhost:8080/",
          "height": 170
        },
        "outputId": "872ea251-f4e2-4de4-e801-16cf64a0faa3"
      },
      "source": [
        "df_ques_ans.Time_to_answer.describe()"
      ],
      "execution_count": null,
      "outputs": [
        {
          "output_type": "execute_result",
          "data": {
            "text/plain": [
              "count    1.970843e+06\n",
              "mean     1.689181e+03\n",
              "std      6.513656e+03\n",
              "min     -3.189654e+04\n",
              "25%      1.466667e-01\n",
              "50%      5.686111e-01\n",
              "75%      1.141792e+01\n",
              "max      7.188370e+04\n",
              "Name: Time_to_answer, dtype: float64"
            ]
          },
          "metadata": {
            "tags": []
          },
          "execution_count": 31
        }
      ]
    },
    {
      "cell_type": "code",
      "metadata": {
        "id": "aTgqLViYAc9B",
        "colab_type": "code",
        "colab": {}
      },
      "source": [
        "df_ques_ans = df_ques_ans[df_ques_ans[\"Time_to_answer\"] > 0]"
      ],
      "execution_count": null,
      "outputs": []
    },
    {
      "cell_type": "markdown",
      "metadata": {
        "id": "WSqJUhi2H1Mk",
        "colab_type": "text"
      },
      "source": [
        "#Top 10 questions with more number of answers"
      ]
    },
    {
      "cell_type": "code",
      "metadata": {
        "id": "fPaBypbcG68X",
        "colab_type": "code",
        "colab": {
          "base_uri": "https://localhost:8080/",
          "height": 391
        },
        "outputId": "5dbd6284-75d4-46b6-8a0b-1720af7ea18c"
      },
      "source": [
        "df_ques_ans.groupby([\"Id_ques\"])[\"Id_ans\"].count().sort_values(ascending=False).head(20)"
      ],
      "execution_count": null,
      "outputs": [
        {
          "output_type": "execute_result",
          "data": {
            "text/plain": [
              "Id_ques\n",
              "406760      384\n",
              "38210       300\n",
              "23930       118\n",
              "100420       90\n",
              "40480        69\n",
              "490420       66\n",
              "2155930      59\n",
              "106340       58\n",
              "226970       54\n",
              "1218390      50\n",
              "17054000     49\n",
              "202750       49\n",
              "728360       42\n",
              "24270        42\n",
              "274230       42\n",
              "182630       40\n",
              "173400       40\n",
              "3412730      39\n",
              "1358540      38\n",
              "1584370      38\n",
              "Name: Id_ans, dtype: int64"
            ]
          },
          "metadata": {
            "tags": []
          },
          "execution_count": 33
        }
      ]
    },
    {
      "cell_type": "code",
      "metadata": {
        "id": "8ONrdSoyeOaR",
        "colab_type": "code",
        "colab": {}
      },
      "source": [
        ""
      ],
      "execution_count": null,
      "outputs": []
    },
    {
      "cell_type": "code",
      "metadata": {
        "id": "TTKbjizTJozf",
        "colab_type": "code",
        "colab": {
          "base_uri": "https://localhost:8080/",
          "height": 142
        },
        "outputId": "95fbc232-1c89-4d69-bebe-ed2636229679"
      },
      "source": [
        "df_ques_tags = df_questions.merge(df_tags,how=\"inner\",left_on=\"Id\",right_on=\"Id\",suffixes=(\"_ques\",\"_tags\"))\n",
        "df_ques_tags.head(3)"
      ],
      "execution_count": null,
      "outputs": [
        {
          "output_type": "execute_result",
          "data": {
            "text/html": [
              "<div>\n",
              "<style scoped>\n",
              "    .dataframe tbody tr th:only-of-type {\n",
              "        vertical-align: middle;\n",
              "    }\n",
              "\n",
              "    .dataframe tbody tr th {\n",
              "        vertical-align: top;\n",
              "    }\n",
              "\n",
              "    .dataframe thead th {\n",
              "        text-align: right;\n",
              "    }\n",
              "</style>\n",
              "<table border=\"1\" class=\"dataframe\">\n",
              "  <thead>\n",
              "    <tr style=\"text-align: right;\">\n",
              "      <th></th>\n",
              "      <th>Id</th>\n",
              "      <th>OwnerUserId</th>\n",
              "      <th>CreationDate</th>\n",
              "      <th>Score</th>\n",
              "      <th>Title</th>\n",
              "      <th>Body</th>\n",
              "      <th>Tag</th>\n",
              "    </tr>\n",
              "  </thead>\n",
              "  <tbody>\n",
              "    <tr>\n",
              "      <th>0</th>\n",
              "      <td>80</td>\n",
              "      <td>26.0</td>\n",
              "      <td>2008-08-01 13:57:07+00:00</td>\n",
              "      <td>26</td>\n",
              "      <td>SQLStatement.execute() - multiple queries in o...</td>\n",
              "      <td>&lt;p&gt;I've written a database generation script i...</td>\n",
              "      <td>flex</td>\n",
              "    </tr>\n",
              "    <tr>\n",
              "      <th>1</th>\n",
              "      <td>80</td>\n",
              "      <td>26.0</td>\n",
              "      <td>2008-08-01 13:57:07+00:00</td>\n",
              "      <td>26</td>\n",
              "      <td>SQLStatement.execute() - multiple queries in o...</td>\n",
              "      <td>&lt;p&gt;I've written a database generation script i...</td>\n",
              "      <td>actionscript-3</td>\n",
              "    </tr>\n",
              "    <tr>\n",
              "      <th>2</th>\n",
              "      <td>80</td>\n",
              "      <td>26.0</td>\n",
              "      <td>2008-08-01 13:57:07+00:00</td>\n",
              "      <td>26</td>\n",
              "      <td>SQLStatement.execute() - multiple queries in o...</td>\n",
              "      <td>&lt;p&gt;I've written a database generation script i...</td>\n",
              "      <td>air</td>\n",
              "    </tr>\n",
              "  </tbody>\n",
              "</table>\n",
              "</div>"
            ],
            "text/plain": [
              "   Id  ...             Tag\n",
              "0  80  ...            flex\n",
              "1  80  ...  actionscript-3\n",
              "2  80  ...             air\n",
              "\n",
              "[3 rows x 7 columns]"
            ]
          },
          "metadata": {
            "tags": []
          },
          "execution_count": 34
        }
      ]
    },
    {
      "cell_type": "code",
      "metadata": {
        "id": "KHgqhMQQ-MpU",
        "colab_type": "code",
        "colab": {
          "base_uri": "https://localhost:8080/",
          "height": 204
        },
        "outputId": "e4e49cfb-6486-4a16-d76f-184d23d216ae"
      },
      "source": [
        "df_ques_tags.Tag.value_counts().head(10)"
      ],
      "execution_count": null,
      "outputs": [
        {
          "output_type": "execute_result",
          "data": {
            "text/plain": [
              "javascript    122658\n",
              "java          113811\n",
              "c#             99847\n",
              "php            97488\n",
              "android        89769\n",
              "jquery         77580\n",
              "python         63945\n",
              "html           58170\n",
              "c++            46910\n",
              "ios            46628\n",
              "Name: Tag, dtype: int64"
            ]
          },
          "metadata": {
            "tags": []
          },
          "execution_count": 35
        }
      ]
    },
    {
      "cell_type": "code",
      "metadata": {
        "id": "_ZBadUbBB80X",
        "colab_type": "code",
        "colab": {
          "base_uri": "https://localhost:8080/",
          "height": 450
        },
        "outputId": "6d37eec7-5103-4d08-ab48-2fb094814c47"
      },
      "source": [
        " tag_count = df_ques_tags.groupby([\"Id\"])[\"Tag\"].count().sort_values(ascending=False).to_frame()\n",
        " tag_count"
      ],
      "execution_count": null,
      "outputs": [
        {
          "output_type": "execute_result",
          "data": {
            "text/html": [
              "<div>\n",
              "<style scoped>\n",
              "    .dataframe tbody tr th:only-of-type {\n",
              "        vertical-align: middle;\n",
              "    }\n",
              "\n",
              "    .dataframe tbody tr th {\n",
              "        vertical-align: top;\n",
              "    }\n",
              "\n",
              "    .dataframe thead th {\n",
              "        text-align: right;\n",
              "    }\n",
              "</style>\n",
              "<table border=\"1\" class=\"dataframe\">\n",
              "  <thead>\n",
              "    <tr style=\"text-align: right;\">\n",
              "      <th></th>\n",
              "      <th>Tag</th>\n",
              "    </tr>\n",
              "    <tr>\n",
              "      <th>Id</th>\n",
              "      <th></th>\n",
              "    </tr>\n",
              "  </thead>\n",
              "  <tbody>\n",
              "    <tr>\n",
              "      <th>6492000</th>\n",
              "      <td>5</td>\n",
              "    </tr>\n",
              "    <tr>\n",
              "      <th>35706490</th>\n",
              "      <td>5</td>\n",
              "    </tr>\n",
              "    <tr>\n",
              "      <th>28154220</th>\n",
              "      <td>5</td>\n",
              "    </tr>\n",
              "    <tr>\n",
              "      <th>7277390</th>\n",
              "      <td>5</td>\n",
              "    </tr>\n",
              "    <tr>\n",
              "      <th>7277470</th>\n",
              "      <td>5</td>\n",
              "    </tr>\n",
              "    <tr>\n",
              "      <th>...</th>\n",
              "      <td>...</td>\n",
              "    </tr>\n",
              "    <tr>\n",
              "      <th>30287170</th>\n",
              "      <td>1</td>\n",
              "    </tr>\n",
              "    <tr>\n",
              "      <th>13871420</th>\n",
              "      <td>1</td>\n",
              "    </tr>\n",
              "    <tr>\n",
              "      <th>32043680</th>\n",
              "      <td>1</td>\n",
              "    </tr>\n",
              "    <tr>\n",
              "      <th>27319710</th>\n",
              "      <td>0</td>\n",
              "    </tr>\n",
              "    <tr>\n",
              "      <th>29853820</th>\n",
              "      <td>0</td>\n",
              "    </tr>\n",
              "  </tbody>\n",
              "</table>\n",
              "<p>1249762 rows × 1 columns</p>\n",
              "</div>"
            ],
            "text/plain": [
              "          Tag\n",
              "Id           \n",
              "6492000     5\n",
              "35706490    5\n",
              "28154220    5\n",
              "7277390     5\n",
              "7277470     5\n",
              "...       ...\n",
              "30287170    1\n",
              "13871420    1\n",
              "32043680    1\n",
              "27319710    0\n",
              "29853820    0\n",
              "\n",
              "[1249762 rows x 1 columns]"
            ]
          },
          "metadata": {
            "tags": []
          },
          "execution_count": 36
        }
      ]
    },
    {
      "cell_type": "code",
      "metadata": {
        "id": "prJL59D4e7qg",
        "colab_type": "code",
        "colab": {
          "base_uri": "https://localhost:8080/",
          "height": 235
        },
        "outputId": "1cc8ef81-5ac7-48fe-f998-455f6e9dc199"
      },
      "source": [
        "tag_count.rename(columns={'Tag':'Tag_count'},inplace=True)\n",
        "tag_count.head()"
      ],
      "execution_count": null,
      "outputs": [
        {
          "output_type": "execute_result",
          "data": {
            "text/html": [
              "<div>\n",
              "<style scoped>\n",
              "    .dataframe tbody tr th:only-of-type {\n",
              "        vertical-align: middle;\n",
              "    }\n",
              "\n",
              "    .dataframe tbody tr th {\n",
              "        vertical-align: top;\n",
              "    }\n",
              "\n",
              "    .dataframe thead th {\n",
              "        text-align: right;\n",
              "    }\n",
              "</style>\n",
              "<table border=\"1\" class=\"dataframe\">\n",
              "  <thead>\n",
              "    <tr style=\"text-align: right;\">\n",
              "      <th></th>\n",
              "      <th>Tag_count</th>\n",
              "    </tr>\n",
              "    <tr>\n",
              "      <th>Id</th>\n",
              "      <th></th>\n",
              "    </tr>\n",
              "  </thead>\n",
              "  <tbody>\n",
              "    <tr>\n",
              "      <th>6492000</th>\n",
              "      <td>5</td>\n",
              "    </tr>\n",
              "    <tr>\n",
              "      <th>35706490</th>\n",
              "      <td>5</td>\n",
              "    </tr>\n",
              "    <tr>\n",
              "      <th>28154220</th>\n",
              "      <td>5</td>\n",
              "    </tr>\n",
              "    <tr>\n",
              "      <th>7277390</th>\n",
              "      <td>5</td>\n",
              "    </tr>\n",
              "    <tr>\n",
              "      <th>7277470</th>\n",
              "      <td>5</td>\n",
              "    </tr>\n",
              "  </tbody>\n",
              "</table>\n",
              "</div>"
            ],
            "text/plain": [
              "          Tag_count\n",
              "Id                 \n",
              "6492000           5\n",
              "35706490          5\n",
              "28154220          5\n",
              "7277390           5\n",
              "7277470           5"
            ]
          },
          "metadata": {
            "tags": []
          },
          "execution_count": 37
        }
      ]
    },
    {
      "cell_type": "markdown",
      "metadata": {
        "id": "y8TDsJL5IrhQ",
        "colab_type": "text"
      },
      "source": [
        "#No. of tags vs No. of questions"
      ]
    },
    {
      "cell_type": "code",
      "metadata": {
        "id": "fHBnxhAmIdr0",
        "colab_type": "code",
        "colab": {
          "base_uri": "https://localhost:8080/",
          "height": 136
        },
        "outputId": "d33d2c6d-ce84-484d-df6f-8230b5e1432f"
      },
      "source": [
        "tag_count.Tag_count.value_counts()"
      ],
      "execution_count": null,
      "outputs": [
        {
          "output_type": "execute_result",
          "data": {
            "text/plain": [
              "3    363673\n",
              "2    322883\n",
              "4    251491\n",
              "5    163671\n",
              "1    148042\n",
              "0         2\n",
              "Name: Tag_count, dtype: int64"
            ]
          },
          "metadata": {
            "tags": []
          },
          "execution_count": 38
        }
      ]
    },
    {
      "cell_type": "code",
      "metadata": {
        "id": "zGlML2vag9kO",
        "colab_type": "code",
        "colab": {
          "base_uri": "https://localhost:8080/",
          "height": 280
        },
        "outputId": "ec61782d-7034-40eb-f629-9e3b8d2d2469"
      },
      "source": [
        "sns.countplot(data=tag_count,x=\"Tag_count\")\n",
        "plt.show()"
      ],
      "execution_count": null,
      "outputs": [
        {
          "output_type": "display_data",
          "data": {
            "image/png": "[encoded data removed]",
            "text/plain": [
              "<Figure size 432x288 with 1 Axes>"
            ]
          },
          "metadata": {
            "tags": [],
            "needs_background": "light"
          }
        }
      ]
    },
    {
      "cell_type": "code",
      "metadata": {
        "id": "Ri_Ww6kzv9Xo",
        "colab_type": "code",
        "colab": {}
      },
      "source": [
        "def find_ds_tag(get_tag):\n",
        "  check_tags = ['python', 'r', 'matlab', 'sas', 'excel', 'sql']\n",
        "  for tg in check_tags: \n",
        "    if (tg == get_tag):\n",
        "      return \"Data Science\"\n",
        "  check_lang_tags = ['java', 'javascript', 'c#', 'php', 'pearl', 'ruby', 'c', 'c++', 'vb.net', 'assembly']\n",
        "  for tg in check_lang_tags: \n",
        "    if (tg == get_tag):\n",
        "      return \"Popular Languages\"\n",
        "    "
      ],
      "execution_count": null,
      "outputs": []
    },
    {
      "cell_type": "code",
      "metadata": {
        "id": "lsWsrjCZz41i",
        "colab_type": "code",
        "colab": {
          "base_uri": "https://localhost:8080/",
          "height": 204
        },
        "outputId": "634f9ac2-2c41-4036-c4f6-b52787deee47"
      },
      "source": [
        "df_ques_tags[\"New_tag\"] = df_ques_tags.Tag.apply(lambda x : find_ds_tag(x))\n",
        "df_ques_tags.head()"
      ],
      "execution_count": null,
      "outputs": [
        {
          "output_type": "execute_result",
          "data": {
            "text/html": [
              "<div>\n",
              "<style scoped>\n",
              "    .dataframe tbody tr th:only-of-type {\n",
              "        vertical-align: middle;\n",
              "    }\n",
              "\n",
              "    .dataframe tbody tr th {\n",
              "        vertical-align: top;\n",
              "    }\n",
              "\n",
              "    .dataframe thead th {\n",
              "        text-align: right;\n",
              "    }\n",
              "</style>\n",
              "<table border=\"1\" class=\"dataframe\">\n",
              "  <thead>\n",
              "    <tr style=\"text-align: right;\">\n",
              "      <th></th>\n",
              "      <th>Id</th>\n",
              "      <th>OwnerUserId</th>\n",
              "      <th>CreationDate</th>\n",
              "      <th>Score</th>\n",
              "      <th>Title</th>\n",
              "      <th>Body</th>\n",
              "      <th>Tag</th>\n",
              "      <th>New_tag</th>\n",
              "    </tr>\n",
              "  </thead>\n",
              "  <tbody>\n",
              "    <tr>\n",
              "      <th>0</th>\n",
              "      <td>80</td>\n",
              "      <td>26.0</td>\n",
              "      <td>2008-08-01 13:57:07+00:00</td>\n",
              "      <td>26</td>\n",
              "      <td>SQLStatement.execute() - multiple queries in o...</td>\n",
              "      <td>&lt;p&gt;I've written a database generation script i...</td>\n",
              "      <td>flex</td>\n",
              "      <td>None</td>\n",
              "    </tr>\n",
              "    <tr>\n",
              "      <th>1</th>\n",
              "      <td>80</td>\n",
              "      <td>26.0</td>\n",
              "      <td>2008-08-01 13:57:07+00:00</td>\n",
              "      <td>26</td>\n",
              "      <td>SQLStatement.execute() - multiple queries in o...</td>\n",
              "      <td>&lt;p&gt;I've written a database generation script i...</td>\n",
              "      <td>actionscript-3</td>\n",
              "      <td>None</td>\n",
              "    </tr>\n",
              "    <tr>\n",
              "      <th>2</th>\n",
              "      <td>80</td>\n",
              "      <td>26.0</td>\n",
              "      <td>2008-08-01 13:57:07+00:00</td>\n",
              "      <td>26</td>\n",
              "      <td>SQLStatement.execute() - multiple queries in o...</td>\n",
              "      <td>&lt;p&gt;I've written a database generation script i...</td>\n",
              "      <td>air</td>\n",
              "      <td>None</td>\n",
              "    </tr>\n",
              "    <tr>\n",
              "      <th>3</th>\n",
              "      <td>90</td>\n",
              "      <td>58.0</td>\n",
              "      <td>2008-08-01 14:41:24+00:00</td>\n",
              "      <td>144</td>\n",
              "      <td>Good branching and merging tutorials for Torto...</td>\n",
              "      <td>&lt;p&gt;Are there any really good tutorials explain...</td>\n",
              "      <td>svn</td>\n",
              "      <td>None</td>\n",
              "    </tr>\n",
              "    <tr>\n",
              "      <th>4</th>\n",
              "      <td>90</td>\n",
              "      <td>58.0</td>\n",
              "      <td>2008-08-01 14:41:24+00:00</td>\n",
              "      <td>144</td>\n",
              "      <td>Good branching and merging tutorials for Torto...</td>\n",
              "      <td>&lt;p&gt;Are there any really good tutorials explain...</td>\n",
              "      <td>tortoisesvn</td>\n",
              "      <td>None</td>\n",
              "    </tr>\n",
              "  </tbody>\n",
              "</table>\n",
              "</div>"
            ],
            "text/plain": [
              "   Id  OwnerUserId  ...             Tag  New_tag\n",
              "0  80         26.0  ...            flex     None\n",
              "1  80         26.0  ...  actionscript-3     None\n",
              "2  80         26.0  ...             air     None\n",
              "3  90         58.0  ...             svn     None\n",
              "4  90         58.0  ...     tortoisesvn     None\n",
              "\n",
              "[5 rows x 8 columns]"
            ]
          },
          "metadata": {
            "tags": []
          },
          "execution_count": 41
        }
      ]
    },
    {
      "cell_type": "code",
      "metadata": {
        "id": "SD_k2XC60Soa",
        "colab_type": "code",
        "colab": {
          "base_uri": "https://localhost:8080/",
          "height": 68
        },
        "outputId": "755442bf-c9ca-4c37-c30e-8fe1c1b71f0d"
      },
      "source": [
        "df_ques_tags[\"New_tag\"].value_counts()"
      ],
      "execution_count": null,
      "outputs": [
        {
          "output_type": "execute_result",
          "data": {
            "text/plain": [
              "Popular Languages    532755\n",
              "Data Science         132280\n",
              "Name: New_tag, dtype: int64"
            ]
          },
          "metadata": {
            "tags": []
          },
          "execution_count": 42
        }
      ]
    },
    {
      "cell_type": "code",
      "metadata": {
        "id": "uSe1thVO69Iy",
        "colab_type": "code",
        "colab": {}
      },
      "source": [
        "df_ques_tags[\"New_tag\"] = df_ques_tags.New_tag.fillna(\"Others\")"
      ],
      "execution_count": null,
      "outputs": []
    },
    {
      "cell_type": "code",
      "metadata": {
        "id": "z-sMdYP1cSox",
        "colab_type": "code",
        "colab": {}
      },
      "source": [
        "df_ques_tags[\"Year\"] = df_ques_tags.CreationDate.apply(lambda yr: yr.year)"
      ],
      "execution_count": null,
      "outputs": []
    },
    {
      "cell_type": "markdown",
      "metadata": {
        "id": "osKjOT6HKnmr",
        "colab_type": "text"
      },
      "source": [
        "#Ratio of Data Science questions for every year"
      ]
    },
    {
      "cell_type": "code",
      "metadata": {
        "id": "DdA1-wzW7Yks",
        "colab_type": "code",
        "colab": {
          "base_uri": "https://localhost:8080/",
          "height": 1000
        },
        "outputId": "9e5cc772-8042-46b9-a06c-4ace5aeb8330"
      },
      "source": [
        "for yr in df_ques_tags.Year.unique():\n",
        "  plt.pie(df_ques_tags[df_ques_tags.Year==yr][\"New_tag\"].value_counts(),labels=[\"Others\",\"Popular Languages\",\"Data Science\"],autopct=\"%2f\")\n",
        "  plt.legend()\n",
        "  plt.title(yr)\n",
        "  plt.show()"
      ],
      "execution_count": null,
      "outputs": [
        {
          "output_type": "display_data",
          "data": {
            "image/png": "[encoded data removed]",
            "text/plain": [
              "<Figure size 432x288 with 1 Axes>"
            ]
          },
          "metadata": {
            "tags": []
          }
        },
        {
          "output_type": "display_data",
          "data": {
            "image/png": "[encoded data removed]",
            "text/plain": [
              "<Figure size 432x288 with 1 Axes>"
            ]
          },
          "metadata": {
            "tags": []
          }
        },
        {
          "output_type": "display_data",
          "data": {
            "image/png": "[encoded data removed]",
            "text/plain": [
              "<Figure size 432x288 with 1 Axes>"
            ]
          },
          "metadata": {
            "tags": []
          }
        },
        {
          "output_type": "display_data",
          "data": {
            "image/png": "[encoded data removed]",
            "text/plain": [
              "<Figure size 432x288 with 1 Axes>"
            ]
          },
          "metadata": {
            "tags": []
          }
        },
        {
          "output_type": "display_data",
          "data": {
            "image/png": "[encoded data removed]",
            "text/plain": [
              "<Figure size 432x288 with 1 Axes>"
            ]
          },
          "metadata": {
            "tags": []
          }
        },
        {
          "output_type": "display_data",
          "data": {
            "image/png": "[encoded data removed]",
            "text/plain": [
              "<Figure size 432x288 with 1 Axes>"
            ]
          },
          "metadata": {
            "tags": []
          }
        },
        {
          "output_type": "display_data",
          "data": {
            "image/png": "[encoded data removed]",
            "text/plain": [
              "<Figure size 432x288 with 1 Axes>"
            ]
          },
          "metadata": {
            "tags": []
          }
        },
        {
          "output_type": "display_data",
          "data": {
            "image/png": "[encoded data removed]",
            "text/plain": [
              "<Figure size 432x288 with 1 Axes>"
            ]
          },
          "metadata": {
            "tags": []
          }
        },
        {
          "output_type": "display_data",
          "data": {
            "image/png": "[encoded data removed]",
            "text/plain": [
              "<Figure size 432x288 with 1 Axes>"
            ]
          },
          "metadata": {
            "tags": []
          }
        }
      ]
    },
    {
      "cell_type": "markdown",
      "metadata": {
        "id": "Hm1YEj-lKab0",
        "colab_type": "text"
      },
      "source": [
        "#No. of questions for every Data Science tag"
      ]
    },
    {
      "cell_type": "code",
      "metadata": {
        "id": "y9wfseSbKPLv",
        "colab_type": "code",
        "colab": {
          "base_uri": "https://localhost:8080/",
          "height": 136
        },
        "outputId": "37d8e68a-482c-40d3-a088-84520911d39f"
      },
      "source": [
        "df_ques_tags[df_ques_tags[\"New_tag\"] == \"Data Science\"].Tag.value_counts()"
      ],
      "execution_count": null,
      "outputs": [
        {
          "output_type": "execute_result",
          "data": {
            "text/plain": [
              "python    63945\n",
              "sql       35307\n",
              "r         15609\n",
              "excel     10288\n",
              "matlab     6441\n",
              "sas         690\n",
              "Name: Tag, dtype: int64"
            ]
          },
          "metadata": {
            "tags": []
          },
          "execution_count": 46
        }
      ]
    },
    {
      "cell_type": "code",
      "metadata": {
        "id": "3Gf1tyyS3b4v",
        "colab_type": "code",
        "colab": {
          "base_uri": "https://localhost:8080/",
          "height": 265
        },
        "outputId": "f8f93e9e-0e30-4747-98a5-f8058e4affde"
      },
      "source": [
        "df_ques_tags[df_ques_tags[\"New_tag\"] == \"Data Science\"].Tag.value_counts().sort_values(ascending=True).plot.barh()\n",
        "plt.show()"
      ],
      "execution_count": null,
      "outputs": [
        {
          "output_type": "display_data",
          "data": {
            "image/png": "[encoded data removed]",
            "text/plain": [
              "<Figure size 432x288 with 1 Axes>"
            ]
          },
          "metadata": {
            "tags": [],
            "needs_background": "light"
          }
        }
      ]
    },
    {
      "cell_type": "markdown",
      "metadata": {
        "id": "hWETOcJvLjSo",
        "colab_type": "text"
      },
      "source": [
        "#Top 20 popular tags"
      ]
    },
    {
      "cell_type": "code",
      "metadata": {
        "id": "RGoTr2xJ3mfV",
        "colab_type": "code",
        "colab": {
          "base_uri": "https://localhost:8080/",
          "height": 374
        },
        "outputId": "6cfbd3f1-7b23-4634-d663-d64f22d6a4c7"
      },
      "source": [
        "df_ques_tags.Tag.value_counts().sort_values(ascending=False).head(20)"
      ],
      "execution_count": null,
      "outputs": [
        {
          "output_type": "execute_result",
          "data": {
            "text/plain": [
              "javascript       122658\n",
              "java             113811\n",
              "c#                99847\n",
              "php               97488\n",
              "android           89769\n",
              "jquery            77580\n",
              "python            63945\n",
              "html              58170\n",
              "c++               46910\n",
              "ios               46628\n",
              "mysql             41930\n",
              "css               41758\n",
              "sql               35307\n",
              "asp.net           29473\n",
              "objective-c       26600\n",
              "ruby-on-rails     25548\n",
              ".net              23677\n",
              "c                 22843\n",
              "iphone            21175\n",
              "angularjs         20230\n",
              "Name: Tag, dtype: int64"
            ]
          },
          "metadata": {
            "tags": []
          },
          "execution_count": 48
        }
      ]
    },
    {
      "cell_type": "markdown",
      "metadata": {
        "id": "SYdN3gC7LxrA",
        "colab_type": "text"
      },
      "source": [
        "#Count of users for different tag category"
      ]
    },
    {
      "cell_type": "code",
      "metadata": {
        "id": "vzcWKaIvtvaS",
        "colab_type": "code",
        "colab": {
          "base_uri": "https://localhost:8080/",
          "height": 102
        },
        "outputId": "a8016255-57d1-4105-8cfb-2a1c16350861"
      },
      "source": [
        "df_ques_tags.groupby([\"New_tag\"])[\"OwnerUserId\"].count().sort_values(ascending=False).head(30)"
      ],
      "execution_count": null,
      "outputs": [
        {
          "output_type": "execute_result",
          "data": {
            "text/plain": [
              "New_tag\n",
              "Others               3045210\n",
              "Popular Languages     532755\n",
              "Data Science          132280\n",
              "Name: OwnerUserId, dtype: int64"
            ]
          },
          "metadata": {
            "tags": []
          },
          "execution_count": 49
        }
      ]
    },
    {
      "cell_type": "code",
      "metadata": {
        "id": "-2DCMjdw8QOd",
        "colab_type": "code",
        "colab": {
          "base_uri": "https://localhost:8080/",
          "height": 366
        },
        "outputId": "cd1c469d-96f5-47d7-8463-c5993039fb9a"
      },
      "source": [
        "df_qa_tags = df_ques_ans.merge(df_tags,how=\"inner\",left_on=\"Id_ques\",right_on=\"Id\",suffixes=(\"_ques\",\"_tags\"))\n",
        "df_qa_tags[\"New_tag\"] = df_qa_tags.Tag.apply(lambda x : find_ds_tag(x))\n",
        "df_qa_tags.head(3)"
      ],
      "execution_count": null,
      "outputs": [
        {
          "output_type": "execute_result",
          "data": {
            "text/html": [
              "<div>\n",
              "<style scoped>\n",
              "    .dataframe tbody tr th:only-of-type {\n",
              "        vertical-align: middle;\n",
              "    }\n",
              "\n",
              "    .dataframe tbody tr th {\n",
              "        vertical-align: top;\n",
              "    }\n",
              "\n",
              "    .dataframe thead th {\n",
              "        text-align: right;\n",
              "    }\n",
              "</style>\n",
              "<table border=\"1\" class=\"dataframe\">\n",
              "  <thead>\n",
              "    <tr style=\"text-align: right;\">\n",
              "      <th></th>\n",
              "      <th>Id_ques</th>\n",
              "      <th>OwnerUserId_ques</th>\n",
              "      <th>CreationDate_ques</th>\n",
              "      <th>Score_ques</th>\n",
              "      <th>Title</th>\n",
              "      <th>Body_ques</th>\n",
              "      <th>Id_ans</th>\n",
              "      <th>OwnerUserId_ans</th>\n",
              "      <th>CreationDate_ans</th>\n",
              "      <th>ParentId</th>\n",
              "      <th>Score_ans</th>\n",
              "      <th>Body_ans</th>\n",
              "      <th>Time_to_answer</th>\n",
              "      <th>Id</th>\n",
              "      <th>Tag</th>\n",
              "      <th>New_tag</th>\n",
              "    </tr>\n",
              "  </thead>\n",
              "  <tbody>\n",
              "    <tr>\n",
              "      <th>0</th>\n",
              "      <td>80</td>\n",
              "      <td>26.0</td>\n",
              "      <td>2008-08-01 13:57:07+00:00</td>\n",
              "      <td>26</td>\n",
              "      <td>SQLStatement.execute() - multiple queries in o...</td>\n",
              "      <td>&lt;p&gt;I've written a database generation script i...</td>\n",
              "      <td>124</td>\n",
              "      <td>26.0</td>\n",
              "      <td>2008-08-01 16:09:47+00:00</td>\n",
              "      <td>80</td>\n",
              "      <td>12</td>\n",
              "      <td>&lt;p&gt;I wound up using this. It is a kind of a ha...</td>\n",
              "      <td>2.211111</td>\n",
              "      <td>80</td>\n",
              "      <td>flex</td>\n",
              "      <td>None</td>\n",
              "    </tr>\n",
              "    <tr>\n",
              "      <th>1</th>\n",
              "      <td>80</td>\n",
              "      <td>26.0</td>\n",
              "      <td>2008-08-01 13:57:07+00:00</td>\n",
              "      <td>26</td>\n",
              "      <td>SQLStatement.execute() - multiple queries in o...</td>\n",
              "      <td>&lt;p&gt;I've written a database generation script i...</td>\n",
              "      <td>124</td>\n",
              "      <td>26.0</td>\n",
              "      <td>2008-08-01 16:09:47+00:00</td>\n",
              "      <td>80</td>\n",
              "      <td>12</td>\n",
              "      <td>&lt;p&gt;I wound up using this. It is a kind of a ha...</td>\n",
              "      <td>2.211111</td>\n",
              "      <td>80</td>\n",
              "      <td>actionscript-3</td>\n",
              "      <td>None</td>\n",
              "    </tr>\n",
              "    <tr>\n",
              "      <th>2</th>\n",
              "      <td>80</td>\n",
              "      <td>26.0</td>\n",
              "      <td>2008-08-01 13:57:07+00:00</td>\n",
              "      <td>26</td>\n",
              "      <td>SQLStatement.execute() - multiple queries in o...</td>\n",
              "      <td>&lt;p&gt;I've written a database generation script i...</td>\n",
              "      <td>124</td>\n",
              "      <td>26.0</td>\n",
              "      <td>2008-08-01 16:09:47+00:00</td>\n",
              "      <td>80</td>\n",
              "      <td>12</td>\n",
              "      <td>&lt;p&gt;I wound up using this. It is a kind of a ha...</td>\n",
              "      <td>2.211111</td>\n",
              "      <td>80</td>\n",
              "      <td>air</td>\n",
              "      <td>None</td>\n",
              "    </tr>\n",
              "  </tbody>\n",
              "</table>\n",
              "</div>"
            ],
            "text/plain": [
              "   Id_ques  OwnerUserId_ques  ...             Tag  New_tag\n",
              "0       80              26.0  ...            flex     None\n",
              "1       80              26.0  ...  actionscript-3     None\n",
              "2       80              26.0  ...             air     None\n",
              "\n",
              "[3 rows x 16 columns]"
            ]
          },
          "metadata": {
            "tags": []
          },
          "execution_count": 50
        }
      ]
    },
    {
      "cell_type": "code",
      "metadata": {
        "id": "WOXeUzjo9Puh",
        "colab_type": "code",
        "colab": {}
      },
      "source": [
        "df_qa_tags.drop(\"Id\",axis=1,inplace=True)"
      ],
      "execution_count": null,
      "outputs": []
    },
    {
      "cell_type": "code",
      "metadata": {
        "id": "nmS5Dd_Bj3bg",
        "colab_type": "code",
        "colab": {}
      },
      "source": [
        "df_qa_tags.New_tag.fillna(\"Others\",inplace=True)"
      ],
      "execution_count": null,
      "outputs": []
    },
    {
      "cell_type": "code",
      "metadata": {
        "id": "oF2pU-1ze5NY",
        "colab_type": "code",
        "colab": {
          "base_uri": "https://localhost:8080/",
          "height": 450
        },
        "outputId": "df757758-bfea-42bb-f2a5-8a0948e3fe0c"
      },
      "source": [
        "df_q_t_time = df_qa_tags.groupby([\"Id_ques\"])[\"Tag\"].count().to_frame().merge(df_qa_tags.groupby([\"Id_ques\"])[\"Id_ans\"].count().to_frame(),left_on=\"Id_ques\",right_on=\"Id_ques\")\n",
        "df_q_t_time"
      ],
      "execution_count": null,
      "outputs": [
        {
          "output_type": "execute_result",
          "data": {
            "text/html": [
              "<div>\n",
              "<style scoped>\n",
              "    .dataframe tbody tr th:only-of-type {\n",
              "        vertical-align: middle;\n",
              "    }\n",
              "\n",
              "    .dataframe tbody tr th {\n",
              "        vertical-align: top;\n",
              "    }\n",
              "\n",
              "    .dataframe thead th {\n",
              "        text-align: right;\n",
              "    }\n",
              "</style>\n",
              "<table border=\"1\" class=\"dataframe\">\n",
              "  <thead>\n",
              "    <tr style=\"text-align: right;\">\n",
              "      <th></th>\n",
              "      <th>Tag</th>\n",
              "      <th>Id_ans</th>\n",
              "    </tr>\n",
              "    <tr>\n",
              "      <th>Id_ques</th>\n",
              "      <th></th>\n",
              "      <th></th>\n",
              "    </tr>\n",
              "  </thead>\n",
              "  <tbody>\n",
              "    <tr>\n",
              "      <th>80</th>\n",
              "      <td>9</td>\n",
              "      <td>9</td>\n",
              "    </tr>\n",
              "    <tr>\n",
              "      <th>90</th>\n",
              "      <td>12</td>\n",
              "      <td>12</td>\n",
              "    </tr>\n",
              "    <tr>\n",
              "      <th>120</th>\n",
              "      <td>3</td>\n",
              "      <td>3</td>\n",
              "    </tr>\n",
              "    <tr>\n",
              "      <th>180</th>\n",
              "      <td>36</td>\n",
              "      <td>36</td>\n",
              "    </tr>\n",
              "    <tr>\n",
              "      <th>260</th>\n",
              "      <td>36</td>\n",
              "      <td>36</td>\n",
              "    </tr>\n",
              "    <tr>\n",
              "      <th>...</th>\n",
              "      <td>...</td>\n",
              "      <td>...</td>\n",
              "    </tr>\n",
              "    <tr>\n",
              "      <th>40142860</th>\n",
              "      <td>2</td>\n",
              "      <td>2</td>\n",
              "    </tr>\n",
              "    <tr>\n",
              "      <th>40142900</th>\n",
              "      <td>3</td>\n",
              "      <td>3</td>\n",
              "    </tr>\n",
              "    <tr>\n",
              "      <th>40142910</th>\n",
              "      <td>3</td>\n",
              "      <td>3</td>\n",
              "    </tr>\n",
              "    <tr>\n",
              "      <th>40142940</th>\n",
              "      <td>2</td>\n",
              "      <td>2</td>\n",
              "    </tr>\n",
              "    <tr>\n",
              "      <th>40143190</th>\n",
              "      <td>6</td>\n",
              "      <td>6</td>\n",
              "    </tr>\n",
              "  </tbody>\n",
              "</table>\n",
              "<p>1084555 rows × 2 columns</p>\n",
              "</div>"
            ],
            "text/plain": [
              "          Tag  Id_ans\n",
              "Id_ques              \n",
              "80          9       9\n",
              "90         12      12\n",
              "120         3       3\n",
              "180        36      36\n",
              "260        36      36\n",
              "...       ...     ...\n",
              "40142860    2       2\n",
              "40142900    3       3\n",
              "40142910    3       3\n",
              "40142940    2       2\n",
              "40143190    6       6\n",
              "\n",
              "[1084555 rows x 2 columns]"
            ]
          },
          "metadata": {
            "tags": []
          },
          "execution_count": 53
        }
      ]
    },
    {
      "cell_type": "markdown",
      "metadata": {
        "id": "kuQQOf9MJqJg",
        "colab_type": "text"
      },
      "source": [
        "#Top 20 tags with least time taken to get answer"
      ]
    },
    {
      "cell_type": "code",
      "metadata": {
        "id": "6sWpeLz4JboT",
        "colab_type": "code",
        "colab": {
          "base_uri": "https://localhost:8080/",
          "height": 391
        },
        "outputId": "06fed667-9302-42fd-c147-262333865977"
      },
      "source": [
        "df_qa_tags.groupby([\"Tag\"])[\"Time_to_answer\"].min().sort_values(ascending=True).head(20)"
      ],
      "execution_count": null,
      "outputs": [
        {
          "output_type": "execute_result",
          "data": {
            "text/plain": [
              "Tag\n",
              "corruption       0.000278\n",
              "javascript       0.000278\n",
              "3d               0.000278\n",
              "window           0.000278\n",
              "yii              0.000278\n",
              "winapi           0.000278\n",
              "pull-request     0.000278\n",
              "css              0.000278\n",
              "python-daemon    0.000278\n",
              "table            0.000278\n",
              "css-selectors    0.000278\n",
              "css3             0.000278\n",
              "salesforce       0.000278\n",
              "overlay          0.000278\n",
              "flash            0.000278\n",
              "llvm             0.000278\n",
              "jdbc             0.000278\n",
              "sql              0.000278\n",
              "android          0.000278\n",
              "ctypes           0.000278\n",
              "Name: Time_to_answer, dtype: float64"
            ]
          },
          "metadata": {
            "tags": []
          },
          "execution_count": 54
        }
      ]
    },
    {
      "cell_type": "markdown",
      "metadata": {
        "id": "jVtoWW01J3s0",
        "colab_type": "text"
      },
      "source": [
        "#No. of questions by year"
      ]
    },
    {
      "cell_type": "code",
      "metadata": {
        "id": "xRDaaPVNMfVd",
        "colab_type": "code",
        "colab": {
          "base_uri": "https://localhost:8080/",
          "height": 187
        },
        "outputId": "456d1579-9559-4788-de9f-6367aa74adfa"
      },
      "source": [
        "df_qa_tags.CreationDate_ques.dt.year.value_counts()"
      ],
      "execution_count": null,
      "outputs": [
        {
          "output_type": "execute_result",
          "data": {
            "text/plain": [
              "2013    950023\n",
              "2014    898038\n",
              "2015    862892\n",
              "2012    849241\n",
              "2011    708385\n",
              "2016    654547\n",
              "2010    476866\n",
              "2009    288531\n",
              "2008     78190\n",
              "Name: CreationDate_ques, dtype: int64"
            ]
          },
          "metadata": {
            "tags": []
          },
          "execution_count": 55
        }
      ]
    },
    {
      "cell_type": "code",
      "metadata": {
        "id": "a8MScdgwNqrb",
        "colab_type": "code",
        "colab": {
          "base_uri": "https://localhost:8080/",
          "height": 295
        },
        "outputId": "348ba3da-7f2d-4d55-ed38-3e55086880a6"
      },
      "source": [
        "sns.countplot(data=df_qa_tags[df_qa_tags.New_tag==\"Data Science\"],x=df_qa_tags.CreationDate_ques.dt.year)\n",
        "plt.xlabel(\"Year\")\n",
        "plt.title(\"Questions by Year\")\n",
        "plt.show()"
      ],
      "execution_count": null,
      "outputs": [
        {
          "output_type": "display_data",
          "data": {
            "image/png": "[encoded data removed]",
            "text/plain": [
              "<Figure size 432x288 with 1 Axes>"
            ]
          },
          "metadata": {
            "tags": [],
            "needs_background": "light"
          }
        }
      ]
    },
    {
      "cell_type": "code",
      "metadata": {
        "id": "XKlTO42gZulM",
        "colab_type": "code",
        "colab": {
          "base_uri": "https://localhost:8080/",
          "height": 295
        },
        "outputId": "17a21507-355c-401b-bcc2-5114e40297f8"
      },
      "source": [
        "sns.countplot(data=df_qa_tags[df_qa_tags.New_tag==\"Data Science\"],x=df_qa_tags.CreationDate_ans.dt.year)\n",
        "plt.xlabel(\"Year\")\n",
        "plt.title(\"Answers by Year\")\n",
        "plt.show()"
      ],
      "execution_count": null,
      "outputs": [
        {
          "output_type": "display_data",
          "data": {
            "image/png": "[encoded data removed]",
            "text/plain": [
              "<Figure size 432x288 with 1 Axes>"
            ]
          },
          "metadata": {
            "tags": [],
            "needs_background": "light"
          }
        }
      ]
    },
    {
      "cell_type": "markdown",
      "metadata": {
        "id": "_aqjsJO0Kzyy",
        "colab_type": "text"
      },
      "source": [
        "#Top 30 Highest Scoring tags"
      ]
    },
    {
      "cell_type": "code",
      "metadata": {
        "id": "5iIU1K28MGDk",
        "colab_type": "code",
        "colab": {
          "base_uri": "https://localhost:8080/",
          "height": 1000
        },
        "outputId": "bceff1ea-316c-4d3e-bc32-6a21186c13bb"
      },
      "source": [
        "df_T_high_score = df_qa_tags.groupby([\"Tag\"])[\"Score_ques\"].sum().sort_values(ascending=False).head(30).to_frame()\n",
        "df_T_high_score"
      ],
      "execution_count": null,
      "outputs": [
        {
          "output_type": "execute_result",
          "data": {
            "text/html": [
              "<div>\n",
              "<style scoped>\n",
              "    .dataframe tbody tr th:only-of-type {\n",
              "        vertical-align: middle;\n",
              "    }\n",
              "\n",
              "    .dataframe tbody tr th {\n",
              "        vertical-align: top;\n",
              "    }\n",
              "\n",
              "    .dataframe thead th {\n",
              "        text-align: right;\n",
              "    }\n",
              "</style>\n",
              "<table border=\"1\" class=\"dataframe\">\n",
              "  <thead>\n",
              "    <tr style=\"text-align: right;\">\n",
              "      <th></th>\n",
              "      <th>Score_ques</th>\n",
              "    </tr>\n",
              "    <tr>\n",
              "      <th>Tag</th>\n",
              "      <th></th>\n",
              "    </tr>\n",
              "  </thead>\n",
              "  <tbody>\n",
              "    <tr>\n",
              "      <th>java</th>\n",
              "      <td>1190895</td>\n",
              "    </tr>\n",
              "    <tr>\n",
              "      <th>javascript</th>\n",
              "      <td>1183752</td>\n",
              "    </tr>\n",
              "    <tr>\n",
              "      <th>c#</th>\n",
              "      <td>954333</td>\n",
              "    </tr>\n",
              "    <tr>\n",
              "      <th>android</th>\n",
              "      <td>676863</td>\n",
              "    </tr>\n",
              "    <tr>\n",
              "      <th>python</th>\n",
              "      <td>564026</td>\n",
              "    </tr>\n",
              "    <tr>\n",
              "      <th>jquery</th>\n",
              "      <td>540661</td>\n",
              "    </tr>\n",
              "    <tr>\n",
              "      <th>git</th>\n",
              "      <td>488482</td>\n",
              "    </tr>\n",
              "    <tr>\n",
              "      <th>html</th>\n",
              "      <td>488087</td>\n",
              "    </tr>\n",
              "    <tr>\n",
              "      <th>php</th>\n",
              "      <td>482258</td>\n",
              "    </tr>\n",
              "    <tr>\n",
              "      <th>c++</th>\n",
              "      <td>478205</td>\n",
              "    </tr>\n",
              "    <tr>\n",
              "      <th>.net</th>\n",
              "      <td>449489</td>\n",
              "    </tr>\n",
              "    <tr>\n",
              "      <th>css</th>\n",
              "      <td>394733</td>\n",
              "    </tr>\n",
              "    <tr>\n",
              "      <th>ios</th>\n",
              "      <td>347867</td>\n",
              "    </tr>\n",
              "    <tr>\n",
              "      <th>arrays</th>\n",
              "      <td>282727</td>\n",
              "    </tr>\n",
              "    <tr>\n",
              "      <th>pass-by-reference</th>\n",
              "      <td>274712</td>\n",
              "    </tr>\n",
              "    <tr>\n",
              "      <th>string</th>\n",
              "      <td>273480</td>\n",
              "    </tr>\n",
              "    <tr>\n",
              "      <th>pass-by-value</th>\n",
              "      <td>271838</td>\n",
              "    </tr>\n",
              "    <tr>\n",
              "      <th>methods</th>\n",
              "      <td>265097</td>\n",
              "    </tr>\n",
              "    <tr>\n",
              "      <th>c</th>\n",
              "      <td>256090</td>\n",
              "    </tr>\n",
              "    <tr>\n",
              "      <th>parameter-passing</th>\n",
              "      <td>252470</td>\n",
              "    </tr>\n",
              "    <tr>\n",
              "      <th>sql</th>\n",
              "      <td>245069</td>\n",
              "    </tr>\n",
              "    <tr>\n",
              "      <th>iphone</th>\n",
              "      <td>229623</td>\n",
              "    </tr>\n",
              "    <tr>\n",
              "      <th>language-agnostic</th>\n",
              "      <td>222276</td>\n",
              "    </tr>\n",
              "    <tr>\n",
              "      <th>objective-c</th>\n",
              "      <td>209367</td>\n",
              "    </tr>\n",
              "    <tr>\n",
              "      <th>version-control</th>\n",
              "      <td>194798</td>\n",
              "    </tr>\n",
              "    <tr>\n",
              "      <th>linux</th>\n",
              "      <td>191352</td>\n",
              "    </tr>\n",
              "    <tr>\n",
              "      <th>mysql</th>\n",
              "      <td>187383</td>\n",
              "    </tr>\n",
              "    <tr>\n",
              "      <th>bash</th>\n",
              "      <td>179630</td>\n",
              "    </tr>\n",
              "    <tr>\n",
              "      <th>ruby</th>\n",
              "      <td>176759</td>\n",
              "    </tr>\n",
              "    <tr>\n",
              "      <th>asp.net</th>\n",
              "      <td>162908</td>\n",
              "    </tr>\n",
              "  </tbody>\n",
              "</table>\n",
              "</div>"
            ],
            "text/plain": [
              "                   Score_ques\n",
              "Tag                          \n",
              "java                  1190895\n",
              "javascript            1183752\n",
              "c#                     954333\n",
              "android                676863\n",
              "python                 564026\n",
              "jquery                 540661\n",
              "git                    488482\n",
              "html                   488087\n",
              "php                    482258\n",
              "c++                    478205\n",
              ".net                   449489\n",
              "css                    394733\n",
              "ios                    347867\n",
              "arrays                 282727\n",
              "pass-by-reference      274712\n",
              "string                 273480\n",
              "pass-by-value          271838\n",
              "methods                265097\n",
              "c                      256090\n",
              "parameter-passing      252470\n",
              "sql                    245069\n",
              "iphone                 229623\n",
              "language-agnostic      222276\n",
              "objective-c            209367\n",
              "version-control        194798\n",
              "linux                  191352\n",
              "mysql                  187383\n",
              "bash                   179630\n",
              "ruby                   176759\n",
              "asp.net                162908"
            ]
          },
          "metadata": {
            "tags": []
          },
          "execution_count": 58
        }
      ]
    },
    {
      "cell_type": "code",
      "metadata": {
        "id": "64nxtOLIrS7N",
        "colab_type": "code",
        "colab": {
          "base_uri": "https://localhost:8080/",
          "height": 537
        },
        "outputId": "072a0514-a268-45dd-e3a7-39a558c8e1b0"
      },
      "source": [
        "plt.figure(figsize=[9,7])\n",
        "df_qa_tags.groupby([\"Tag\"])[\"Score_ques\"].sum().sort_values(ascending=False).head(30).plot.bar()\n",
        "plt.show()"
      ],
      "execution_count": null,
      "outputs": [
        {
          "output_type": "display_data",
          "data": {
            "image/png": "[encoded data removed]",
            "text/plain": [
              "<Figure size 648x504 with 1 Axes>"
            ]
          },
          "metadata": {
            "tags": [],
            "needs_background": "light"
          }
        }
      ]
    },
    {
      "cell_type": "markdown",
      "metadata": {
        "id": "s2DGMMOiK2N9",
        "colab_type": "text"
      },
      "source": [
        "#30 Lowest Scoring tags"
      ]
    },
    {
      "cell_type": "code",
      "metadata": {
        "id": "xGkwu1xfM1k_",
        "colab_type": "code",
        "colab": {
          "base_uri": "https://localhost:8080/",
          "height": 1000
        },
        "outputId": "ed834ae9-756e-48f6-d497-09bd5fe83c3a"
      },
      "source": [
        "df_T_low_score = df_qa_tags.groupby([\"Tag\"])[\"Score_ques\"].sum().sort_values(ascending=False).tail(30).to_frame()\n",
        "df_T_low_score"
      ],
      "execution_count": null,
      "outputs": [
        {
          "output_type": "execute_result",
          "data": {
            "text/html": [
              "<div>\n",
              "<style scoped>\n",
              "    .dataframe tbody tr th:only-of-type {\n",
              "        vertical-align: middle;\n",
              "    }\n",
              "\n",
              "    .dataframe tbody tr th {\n",
              "        vertical-align: top;\n",
              "    }\n",
              "\n",
              "    .dataframe thead th {\n",
              "        text-align: right;\n",
              "    }\n",
              "</style>\n",
              "<table border=\"1\" class=\"dataframe\">\n",
              "  <thead>\n",
              "    <tr style=\"text-align: right;\">\n",
              "      <th></th>\n",
              "      <th>Score_ques</th>\n",
              "    </tr>\n",
              "    <tr>\n",
              "      <th>Tag</th>\n",
              "      <th></th>\n",
              "    </tr>\n",
              "  </thead>\n",
              "  <tbody>\n",
              "    <tr>\n",
              "      <th>release-cycle</th>\n",
              "      <td>-10</td>\n",
              "    </tr>\n",
              "    <tr>\n",
              "      <th>com-interface</th>\n",
              "      <td>-10</td>\n",
              "    </tr>\n",
              "    <tr>\n",
              "      <th>unreachable-statement</th>\n",
              "      <td>-11</td>\n",
              "    </tr>\n",
              "    <tr>\n",
              "      <th>invalid-argument</th>\n",
              "      <td>-11</td>\n",
              "    </tr>\n",
              "    <tr>\n",
              "      <th>mysql-num-rows</th>\n",
              "      <td>-11</td>\n",
              "    </tr>\n",
              "    <tr>\n",
              "      <th>rmdir</th>\n",
              "      <td>-11</td>\n",
              "    </tr>\n",
              "    <tr>\n",
              "      <th>iusertype</th>\n",
              "      <td>-11</td>\n",
              "    </tr>\n",
              "    <tr>\n",
              "      <th>keyset</th>\n",
              "      <td>-12</td>\n",
              "    </tr>\n",
              "    <tr>\n",
              "      <th>access</th>\n",
              "      <td>-12</td>\n",
              "    </tr>\n",
              "    <tr>\n",
              "      <th>dutch-national-flag</th>\n",
              "      <td>-12</td>\n",
              "    </tr>\n",
              "    <tr>\n",
              "      <th>negative-integer</th>\n",
              "      <td>-12</td>\n",
              "    </tr>\n",
              "    <tr>\n",
              "      <th>caesar-cipher</th>\n",
              "      <td>-13</td>\n",
              "    </tr>\n",
              "    <tr>\n",
              "      <th>pike</th>\n",
              "      <td>-13</td>\n",
              "    </tr>\n",
              "    <tr>\n",
              "      <th>cheat-engine</th>\n",
              "      <td>-13</td>\n",
              "    </tr>\n",
              "    <tr>\n",
              "      <th>indexoutofrangeexception</th>\n",
              "      <td>-13</td>\n",
              "    </tr>\n",
              "    <tr>\n",
              "      <th>perceptron</th>\n",
              "      <td>-14</td>\n",
              "    </tr>\n",
              "    <tr>\n",
              "      <th>hacking</th>\n",
              "      <td>-14</td>\n",
              "    </tr>\n",
              "    <tr>\n",
              "      <th>interchange</th>\n",
              "      <td>-15</td>\n",
              "    </tr>\n",
              "    <tr>\n",
              "      <th>suite</th>\n",
              "      <td>-15</td>\n",
              "    </tr>\n",
              "    <tr>\n",
              "      <th>system.data.datatable</th>\n",
              "      <td>-16</td>\n",
              "    </tr>\n",
              "    <tr>\n",
              "      <th>onbackpressed</th>\n",
              "      <td>-17</td>\n",
              "    </tr>\n",
              "    <tr>\n",
              "      <th>dimensional</th>\n",
              "      <td>-18</td>\n",
              "    </tr>\n",
              "    <tr>\n",
              "      <th>cisco</th>\n",
              "      <td>-20</td>\n",
              "    </tr>\n",
              "    <tr>\n",
              "      <th>incompatibletypeerror</th>\n",
              "      <td>-24</td>\n",
              "    </tr>\n",
              "    <tr>\n",
              "      <th>itunes-app</th>\n",
              "      <td>-27</td>\n",
              "    </tr>\n",
              "    <tr>\n",
              "      <th>cs50</th>\n",
              "      <td>-28</td>\n",
              "    </tr>\n",
              "    <tr>\n",
              "      <th>pascals-triangle</th>\n",
              "      <td>-30</td>\n",
              "    </tr>\n",
              "    <tr>\n",
              "      <th>turboc++</th>\n",
              "      <td>-34</td>\n",
              "    </tr>\n",
              "    <tr>\n",
              "      <th>android-gravity</th>\n",
              "      <td>-39</td>\n",
              "    </tr>\n",
              "    <tr>\n",
              "      <th>g++4.9</th>\n",
              "      <td>-55</td>\n",
              "    </tr>\n",
              "  </tbody>\n",
              "</table>\n",
              "</div>"
            ],
            "text/plain": [
              "                          Score_ques\n",
              "Tag                                 \n",
              "release-cycle                    -10\n",
              "com-interface                    -10\n",
              "unreachable-statement            -11\n",
              "invalid-argument                 -11\n",
              "mysql-num-rows                   -11\n",
              "rmdir                            -11\n",
              "iusertype                        -11\n",
              "keyset                           -12\n",
              "access                           -12\n",
              "dutch-national-flag              -12\n",
              "negative-integer                 -12\n",
              "caesar-cipher                    -13\n",
              "pike                             -13\n",
              "cheat-engine                     -13\n",
              "indexoutofrangeexception         -13\n",
              "perceptron                       -14\n",
              "hacking                          -14\n",
              "interchange                      -15\n",
              "suite                            -15\n",
              "system.data.datatable            -16\n",
              "onbackpressed                    -17\n",
              "dimensional                      -18\n",
              "cisco                            -20\n",
              "incompatibletypeerror            -24\n",
              "itunes-app                       -27\n",
              "cs50                             -28\n",
              "pascals-triangle                 -30\n",
              "turboc++                         -34\n",
              "android-gravity                  -39\n",
              "g++4.9                           -55"
            ]
          },
          "metadata": {
            "tags": []
          },
          "execution_count": 60
        }
      ]
    },
    {
      "cell_type": "code",
      "metadata": {
        "id": "Hm4Fd0OqjS-2",
        "colab_type": "code",
        "colab": {
          "base_uri": "https://localhost:8080/",
          "height": 428
        },
        "outputId": "53d78e3f-9206-4ee3-8318-f237e64dd1b8"
      },
      "source": [
        "plt.figure(figsize=[9,7])\n",
        "df_qa_tags.groupby([\"Tag\"])[\"Score_ques\"].sum().sort_values(ascending=False).tail(30).plot.barh()\n",
        "plt.show()"
      ],
      "execution_count": null,
      "outputs": [
        {
          "output_type": "display_data",
          "data": {
            "image/png": "[encoded data removed]",
            "text/plain": [
              "<Figure size 648x504 with 1 Axes>"
            ]
          },
          "metadata": {
            "tags": [],
            "needs_background": "light"
          }
        }
      ]
    },
    {
      "cell_type": "markdown",
      "metadata": {
        "id": "GNxoRKCmM_f8",
        "colab_type": "text"
      },
      "source": [
        "#Average score of Data Science tags"
      ]
    },
    {
      "cell_type": "code",
      "metadata": {
        "id": "Bg2uLtolPMtm",
        "colab_type": "code",
        "colab": {
          "base_uri": "https://localhost:8080/",
          "height": 153
        },
        "outputId": "c65aa2f0-7909-466d-a351-2bf83a2a60ce"
      },
      "source": [
        "df_qa_tags[df_qa_tags.New_tag==\"Data Science\"].groupby([\"Tag\"])[\"Score_ques\"].mean().sort_values(ascending=False)"
      ],
      "execution_count": null,
      "outputs": [
        {
          "output_type": "execute_result",
          "data": {
            "text/plain": [
              "Tag\n",
              "python    5.469661\n",
              "sql       3.658948\n",
              "r         3.365150\n",
              "matlab    2.235470\n",
              "excel     1.406699\n",
              "sas       1.048638\n",
              "Name: Score_ques, dtype: float64"
            ]
          },
          "metadata": {
            "tags": []
          },
          "execution_count": 62
        }
      ]
    },
    {
      "cell_type": "code",
      "metadata": {
        "id": "iALaREaqPxNE",
        "colab_type": "code",
        "colab": {
          "base_uri": "https://localhost:8080/",
          "height": 279
        },
        "outputId": "f84ed940-bfd1-4eca-a854-cd15e3f40580"
      },
      "source": [
        "sns.barplot(data=df_qa_tags[df_qa_tags.New_tag==\"Data Science\"],x=\"Tag\",y=\"Score_ques\",estimator=np.mean,hue=\"Tag\")\n",
        "plt.show()"
      ],
      "execution_count": null,
      "outputs": [
        {
          "output_type": "display_data",
          "data": {
            "image/png": "[encoded data removed]",
            "text/plain": [
              "<Figure size 432x288 with 1 Axes>"
            ]
          },
          "metadata": {
            "tags": [],
            "needs_background": "light"
          }
        }
      ]
    },
    {
      "cell_type": "code",
      "metadata": {
        "id": "jgZI7jjE1Ip4",
        "colab_type": "code",
        "colab": {}
      },
      "source": [
        "#df_qa_tags[df_qa_tags.New_tag==\"Data Science\"].groupby([\"Tag\"])[\"Time_to_answer\"].mean().sort_values(ascending=False)"
      ],
      "execution_count": null,
      "outputs": []
    },
    {
      "cell_type": "markdown",
      "metadata": {
        "id": "9O6PDISGcOcZ",
        "colab_type": "text"
      },
      "source": [
        "30 tags with highest average response time"
      ]
    },
    {
      "cell_type": "code",
      "metadata": {
        "id": "WowE2aCWZlpg",
        "colab_type": "code",
        "colab": {
          "base_uri": "https://localhost:8080/",
          "height": 535
        },
        "outputId": "e3baadad-8a52-4524-8b1f-155886bd61c0"
      },
      "source": [
        "plt.figure(figsize=[9,7])\n",
        "df_qa_tags.groupby([\"Tag\"])[\"Time_to_answer\"].mean().sort_values(ascending=True).head(30).plot.bar()\n",
        "plt.show()"
      ],
      "execution_count": null,
      "outputs": [
        {
          "output_type": "display_data",
          "data": {
            "image/png": "[encoded data removed]",
            "text/plain": [
              "<Figure size 648x504 with 1 Axes>"
            ]
          },
          "metadata": {
            "tags": [],
            "needs_background": "light"
          }
        }
      ]
    },
    {
      "cell_type": "code",
      "metadata": {
        "id": "WIRRhm3iAVgi",
        "colab_type": "code",
        "colab": {
          "base_uri": "https://localhost:8080/",
          "height": 170
        },
        "outputId": "a38f3ac4-0562-457a-efca-8247714366b2"
      },
      "source": [
        "df_qa_tags[\"Time_to_answer\"].describe()"
      ],
      "execution_count": null,
      "outputs": [
        {
          "output_type": "execute_result",
          "data": {
            "text/plain": [
              "count    5.766713e+06\n",
              "mean     1.722715e+03\n",
              "std      6.532513e+03\n",
              "min      2.777778e-04\n",
              "25%      1.613889e-01\n",
              "50%      6.655556e-01\n",
              "75%      1.517889e+01\n",
              "max      7.188370e+04\n",
              "Name: Time_to_answer, dtype: float64"
            ]
          },
          "metadata": {
            "tags": []
          },
          "execution_count": 66
        }
      ]
    },
    {
      "cell_type": "code",
      "metadata": {
        "id": "e-wkNYOuAtWx",
        "colab_type": "code",
        "colab": {}
      },
      "source": [
        "df_qa_tags.drop(columns=[\"Title\",\"Body_ques\",\"Body_ans\"],inplace=True)"
      ],
      "execution_count": null,
      "outputs": []
    },
    {
      "cell_type": "markdown",
      "metadata": {
        "id": "6-oIgQOgUgHr",
        "colab_type": "text"
      },
      "source": [
        "#Approximate time to get answer for Data Science tags"
      ]
    },
    {
      "cell_type": "code",
      "metadata": {
        "id": "u-O1f7DLn3DV",
        "colab_type": "code",
        "colab": {
          "base_uri": "https://localhost:8080/",
          "height": 266
        },
        "outputId": "05c5fa08-f260-40f9-c0cd-a089473772bb"
      },
      "source": [
        "df_DS_response_time = pd.pivot_table(df_qa_tags[df_qa_tags.New_tag==\"Data Science\"],index=[\"Id_ques\",\"Tag\"],values=\"Time_to_answer\",aggfunc='min').groupby([\"Tag\"])[\"Time_to_answer\"].mean().to_frame()\n",
        "df_DS_response_time.Time_to_answer = df_DS_response_time.Time_to_answer/24\n",
        "df_DS_response_time"
      ],
      "execution_count": null,
      "outputs": [
        {
          "output_type": "execute_result",
          "data": {
            "text/html": [
              "<div>\n",
              "<style scoped>\n",
              "    .dataframe tbody tr th:only-of-type {\n",
              "        vertical-align: middle;\n",
              "    }\n",
              "\n",
              "    .dataframe tbody tr th {\n",
              "        vertical-align: top;\n",
              "    }\n",
              "\n",
              "    .dataframe thead th {\n",
              "        text-align: right;\n",
              "    }\n",
              "</style>\n",
              "<table border=\"1\" class=\"dataframe\">\n",
              "  <thead>\n",
              "    <tr style=\"text-align: right;\">\n",
              "      <th></th>\n",
              "      <th>Time_to_answer</th>\n",
              "    </tr>\n",
              "    <tr>\n",
              "      <th>Tag</th>\n",
              "      <th></th>\n",
              "    </tr>\n",
              "  </thead>\n",
              "  <tbody>\n",
              "    <tr>\n",
              "      <th>excel</th>\n",
              "      <td>10.114870</td>\n",
              "    </tr>\n",
              "    <tr>\n",
              "      <th>matlab</th>\n",
              "      <td>8.546587</td>\n",
              "    </tr>\n",
              "    <tr>\n",
              "      <th>python</th>\n",
              "      <td>9.101865</td>\n",
              "    </tr>\n",
              "    <tr>\n",
              "      <th>r</th>\n",
              "      <td>8.693300</td>\n",
              "    </tr>\n",
              "    <tr>\n",
              "      <th>sas</th>\n",
              "      <td>4.484392</td>\n",
              "    </tr>\n",
              "    <tr>\n",
              "      <th>sql</th>\n",
              "      <td>3.794309</td>\n",
              "    </tr>\n",
              "  </tbody>\n",
              "</table>\n",
              "</div>"
            ],
            "text/plain": [
              "        Time_to_answer\n",
              "Tag                   \n",
              "excel        10.114870\n",
              "matlab        8.546587\n",
              "python        9.101865\n",
              "r             8.693300\n",
              "sas           4.484392\n",
              "sql           3.794309"
            ]
          },
          "metadata": {
            "tags": []
          },
          "execution_count": 68
        }
      ]
    },
    {
      "cell_type": "code",
      "metadata": {
        "id": "FehfbKLGoylA",
        "colab_type": "code",
        "colab": {
          "base_uri": "https://localhost:8080/",
          "height": 304
        },
        "outputId": "efef49ef-40c8-489e-8b88-384bfa2a419c"
      },
      "source": [
        "df_DS_response_time.plot.bar()\n",
        "plt.show()"
      ],
      "execution_count": null,
      "outputs": [
        {
          "output_type": "display_data",
          "data": {
            "image/png": "[encoded data removed]",
            "text/plain": [
              "<Figure size 432x288 with 1 Axes>"
            ]
          },
          "metadata": {
            "tags": [],
            "needs_background": "light"
          }
        }
      ]
    },
    {
      "cell_type": "code",
      "metadata": {
        "id": "MAic3Wxyz4F7",
        "colab_type": "code",
        "colab": {
          "base_uri": "https://localhost:8080/",
          "height": 170
        },
        "outputId": "c61d2b4b-fc01-4e47-de9e-4cf16ff0d661"
      },
      "source": [
        "pd.pivot_table(df_qa_tags[df_qa_tags.New_tag==\"Data Science\"],index=[\"Id_ques\",\"Tag\"],values=\"Time_to_answer\",aggfunc='min')[\"Time_to_answer\"].describe()"
      ],
      "execution_count": null,
      "outputs": [
        {
          "output_type": "execute_result",
          "data": {
            "text/plain": [
              "count    117128.000000\n",
              "mean        182.047967\n",
              "std        1450.719770\n",
              "min           0.000278\n",
              "25%           0.103889\n",
              "50%           0.304722\n",
              "75%           1.587222\n",
              "max       49005.662778\n",
              "Name: Time_to_answer, dtype: float64"
            ]
          },
          "metadata": {
            "tags": []
          },
          "execution_count": 70
        }
      ]
    },
    {
      "cell_type": "markdown",
      "metadata": {
        "id": "gDMCMjmcOqdN",
        "colab_type": "text"
      },
      "source": [
        "#Top 30 tags with least time taken to get answer"
      ]
    },
    {
      "cell_type": "code",
      "metadata": {
        "id": "A1AKbs5AFObB",
        "colab_type": "code",
        "colab": {
          "base_uri": "https://localhost:8080/",
          "height": 700
        },
        "outputId": "a18c27c5-2731-4569-847b-7b754aaabe85"
      },
      "source": [
        "df_first_answer = pd.pivot_table(df_qa_tags,index=[\"Id_ques\",\"Tag\"],values=\"Time_to_answer\",aggfunc='min').groupby([\"Tag\"])[\"Time_to_answer\"].mean().to_frame()\n",
        "df_first_answer.Time_to_answer = df_first_answer.Time_to_answer/24\n",
        "df_first_answer.sort_values(by=\"Time_to_answer\",ascending=True).head(20)"
      ],
      "execution_count": null,
      "outputs": [
        {
          "output_type": "execute_result",
          "data": {
            "text/html": [
              "<div>\n",
              "<style scoped>\n",
              "    .dataframe tbody tr th:only-of-type {\n",
              "        vertical-align: middle;\n",
              "    }\n",
              "\n",
              "    .dataframe tbody tr th {\n",
              "        vertical-align: top;\n",
              "    }\n",
              "\n",
              "    .dataframe thead th {\n",
              "        text-align: right;\n",
              "    }\n",
              "</style>\n",
              "<table border=\"1\" class=\"dataframe\">\n",
              "  <thead>\n",
              "    <tr style=\"text-align: right;\">\n",
              "      <th></th>\n",
              "      <th>Time_to_answer</th>\n",
              "    </tr>\n",
              "    <tr>\n",
              "      <th>Tag</th>\n",
              "      <th></th>\n",
              "    </tr>\n",
              "  </thead>\n",
              "  <tbody>\n",
              "    <tr>\n",
              "      <th>geographic-distance</th>\n",
              "      <td>0.000150</td>\n",
              "    </tr>\n",
              "    <tr>\n",
              "      <th>c4127</th>\n",
              "      <td>0.000463</td>\n",
              "    </tr>\n",
              "    <tr>\n",
              "      <th>zaber</th>\n",
              "      <td>0.000486</td>\n",
              "    </tr>\n",
              "    <tr>\n",
              "      <th>setstring</th>\n",
              "      <td>0.000637</td>\n",
              "    </tr>\n",
              "    <tr>\n",
              "      <th>attr-protected</th>\n",
              "      <td>0.000671</td>\n",
              "    </tr>\n",
              "    <tr>\n",
              "      <th>primary-constructor</th>\n",
              "      <td>0.000694</td>\n",
              "    </tr>\n",
              "    <tr>\n",
              "      <th>fileparse</th>\n",
              "      <td>0.000787</td>\n",
              "    </tr>\n",
              "    <tr>\n",
              "      <th>pywhois</th>\n",
              "      <td>0.000799</td>\n",
              "    </tr>\n",
              "    <tr>\n",
              "      <th>missing-features</th>\n",
              "      <td>0.000833</td>\n",
              "    </tr>\n",
              "    <tr>\n",
              "      <th>pseudolocalization</th>\n",
              "      <td>0.000845</td>\n",
              "    </tr>\n",
              "    <tr>\n",
              "      <th>appcompatdialogfragment</th>\n",
              "      <td>0.000868</td>\n",
              "    </tr>\n",
              "    <tr>\n",
              "      <th>z-notation</th>\n",
              "      <td>0.000903</td>\n",
              "    </tr>\n",
              "    <tr>\n",
              "      <th>sigprocmask</th>\n",
              "      <td>0.000903</td>\n",
              "    </tr>\n",
              "    <tr>\n",
              "      <th>ssl-security</th>\n",
              "      <td>0.000914</td>\n",
              "    </tr>\n",
              "    <tr>\n",
              "      <th>query-analyzer</th>\n",
              "      <td>0.000926</td>\n",
              "    </tr>\n",
              "    <tr>\n",
              "      <th>explicit-constructor</th>\n",
              "      <td>0.000937</td>\n",
              "    </tr>\n",
              "    <tr>\n",
              "      <th>webforms-routing</th>\n",
              "      <td>0.000961</td>\n",
              "    </tr>\n",
              "    <tr>\n",
              "      <th>parent-node</th>\n",
              "      <td>0.000961</td>\n",
              "    </tr>\n",
              "    <tr>\n",
              "      <th>monetdblite</th>\n",
              "      <td>0.000961</td>\n",
              "    </tr>\n",
              "    <tr>\n",
              "      <th>python-3.6</th>\n",
              "      <td>0.000961</td>\n",
              "    </tr>\n",
              "  </tbody>\n",
              "</table>\n",
              "</div>"
            ],
            "text/plain": [
              "                         Time_to_answer\n",
              "Tag                                    \n",
              "geographic-distance            0.000150\n",
              "c4127                          0.000463\n",
              "zaber                          0.000486\n",
              "setstring                      0.000637\n",
              "attr-protected                 0.000671\n",
              "primary-constructor            0.000694\n",
              "fileparse                      0.000787\n",
              "pywhois                        0.000799\n",
              "missing-features               0.000833\n",
              "pseudolocalization             0.000845\n",
              "appcompatdialogfragment        0.000868\n",
              "z-notation                     0.000903\n",
              "sigprocmask                    0.000903\n",
              "ssl-security                   0.000914\n",
              "query-analyzer                 0.000926\n",
              "explicit-constructor           0.000937\n",
              "webforms-routing               0.000961\n",
              "parent-node                    0.000961\n",
              "monetdblite                    0.000961\n",
              "python-3.6                     0.000961"
            ]
          },
          "metadata": {
            "tags": []
          },
          "execution_count": 71
        }
      ]
    },
    {
      "cell_type": "code",
      "metadata": {
        "id": "3c6ryvycvLnY",
        "colab_type": "code",
        "colab": {
          "base_uri": "https://localhost:8080/",
          "height": 297
        },
        "outputId": "976af0d4-c24d-41e1-d6ad-7a47add41a57"
      },
      "source": [
        "df_first_answer.describe()"
      ],
      "execution_count": null,
      "outputs": [
        {
          "output_type": "execute_result",
          "data": {
            "text/html": [
              "<div>\n",
              "<style scoped>\n",
              "    .dataframe tbody tr th:only-of-type {\n",
              "        vertical-align: middle;\n",
              "    }\n",
              "\n",
              "    .dataframe tbody tr th {\n",
              "        vertical-align: top;\n",
              "    }\n",
              "\n",
              "    .dataframe thead th {\n",
              "        text-align: right;\n",
              "    }\n",
              "</style>\n",
              "<table border=\"1\" class=\"dataframe\">\n",
              "  <thead>\n",
              "    <tr style=\"text-align: right;\">\n",
              "      <th></th>\n",
              "      <th>Time_to_answer</th>\n",
              "    </tr>\n",
              "  </thead>\n",
              "  <tbody>\n",
              "    <tr>\n",
              "      <th>count</th>\n",
              "      <td>35360.000000</td>\n",
              "    </tr>\n",
              "    <tr>\n",
              "      <th>mean</th>\n",
              "      <td>21.410174</td>\n",
              "    </tr>\n",
              "    <tr>\n",
              "      <th>std</th>\n",
              "      <td>56.437195</td>\n",
              "    </tr>\n",
              "    <tr>\n",
              "      <th>min</th>\n",
              "      <td>0.000150</td>\n",
              "    </tr>\n",
              "    <tr>\n",
              "      <th>25%</th>\n",
              "      <td>0.212244</td>\n",
              "    </tr>\n",
              "    <tr>\n",
              "      <th>50%</th>\n",
              "      <td>3.937364</td>\n",
              "    </tr>\n",
              "    <tr>\n",
              "      <th>75%</th>\n",
              "      <td>20.334171</td>\n",
              "    </tr>\n",
              "    <tr>\n",
              "      <th>max</th>\n",
              "      <td>1884.730289</td>\n",
              "    </tr>\n",
              "  </tbody>\n",
              "</table>\n",
              "</div>"
            ],
            "text/plain": [
              "       Time_to_answer\n",
              "count    35360.000000\n",
              "mean        21.410174\n",
              "std         56.437195\n",
              "min          0.000150\n",
              "25%          0.212244\n",
              "50%          3.937364\n",
              "75%         20.334171\n",
              "max       1884.730289"
            ]
          },
          "metadata": {
            "tags": []
          },
          "execution_count": 72
        }
      ]
    },
    {
      "cell_type": "code",
      "metadata": {
        "id": "-cC9aRz3W8AG",
        "colab_type": "code",
        "colab": {
          "base_uri": "https://localhost:8080/",
          "height": 265
        },
        "outputId": "5f95e04d-3678-463c-b721-7db919b1c96d"
      },
      "source": [
        "sns.boxplot(df_first_answer)\n",
        "plt.show()"
      ],
      "execution_count": null,
      "outputs": [
        {
          "output_type": "display_data",
          "data": {
            "image/png": "[encoded data removed]",
            "text/plain": [
              "<Figure size 432x288 with 1 Axes>"
            ]
          },
          "metadata": {
            "tags": [],
            "needs_background": "light"
          }
        }
      ]
    },
    {
      "cell_type": "markdown",
      "metadata": {
        "id": "5JHmW5nHO4Ld",
        "colab_type": "text"
      },
      "source": [
        "#Segmented Univariate Analysis - segmenting the time taken to answer into two segments, <= 48 hours and more than 48 hours"
      ]
    },
    {
      "cell_type": "code",
      "metadata": {
        "id": "YW02bkbfHPoZ",
        "colab_type": "code",
        "colab": {
          "base_uri": "https://localhost:8080/",
          "height": 297
        },
        "outputId": "219ad705-da11-45db-891a-d07ebb6169f5"
      },
      "source": [
        "df_first_answer[df_first_answer.Time_to_answer < 49].describe()"
      ],
      "execution_count": null,
      "outputs": [
        {
          "output_type": "execute_result",
          "data": {
            "text/html": [
              "<div>\n",
              "<style scoped>\n",
              "    .dataframe tbody tr th:only-of-type {\n",
              "        vertical-align: middle;\n",
              "    }\n",
              "\n",
              "    .dataframe tbody tr th {\n",
              "        vertical-align: top;\n",
              "    }\n",
              "\n",
              "    .dataframe thead th {\n",
              "        text-align: right;\n",
              "    }\n",
              "</style>\n",
              "<table border=\"1\" class=\"dataframe\">\n",
              "  <thead>\n",
              "    <tr style=\"text-align: right;\">\n",
              "      <th></th>\n",
              "      <th>Time_to_answer</th>\n",
              "    </tr>\n",
              "  </thead>\n",
              "  <tbody>\n",
              "    <tr>\n",
              "      <th>count</th>\n",
              "      <td>31534.000000</td>\n",
              "    </tr>\n",
              "    <tr>\n",
              "      <th>mean</th>\n",
              "      <td>8.427095</td>\n",
              "    </tr>\n",
              "    <tr>\n",
              "      <th>std</th>\n",
              "      <td>11.638117</td>\n",
              "    </tr>\n",
              "    <tr>\n",
              "      <th>min</th>\n",
              "      <td>0.000150</td>\n",
              "    </tr>\n",
              "    <tr>\n",
              "      <th>25%</th>\n",
              "      <td>0.142383</td>\n",
              "    </tr>\n",
              "    <tr>\n",
              "      <th>50%</th>\n",
              "      <td>2.286489</td>\n",
              "    </tr>\n",
              "    <tr>\n",
              "      <th>75%</th>\n",
              "      <td>13.261079</td>\n",
              "    </tr>\n",
              "    <tr>\n",
              "      <th>max</th>\n",
              "      <td>48.999980</td>\n",
              "    </tr>\n",
              "  </tbody>\n",
              "</table>\n",
              "</div>"
            ],
            "text/plain": [
              "       Time_to_answer\n",
              "count    31534.000000\n",
              "mean         8.427095\n",
              "std         11.638117\n",
              "min          0.000150\n",
              "25%          0.142383\n",
              "50%          2.286489\n",
              "75%         13.261079\n",
              "max         48.999980"
            ]
          },
          "metadata": {
            "tags": []
          },
          "execution_count": 74
        }
      ]
    },
    {
      "cell_type": "code",
      "metadata": {
        "id": "geo54-jFHoxp",
        "colab_type": "code",
        "colab": {
          "base_uri": "https://localhost:8080/",
          "height": 297
        },
        "outputId": "6554e489-1bb7-4d3d-c7f5-c04f9531a180"
      },
      "source": [
        "df_first_answer[df_first_answer.Time_to_answer > 48].describe()"
      ],
      "execution_count": null,
      "outputs": [
        {
          "output_type": "execute_result",
          "data": {
            "text/html": [
              "<div>\n",
              "<style scoped>\n",
              "    .dataframe tbody tr th:only-of-type {\n",
              "        vertical-align: middle;\n",
              "    }\n",
              "\n",
              "    .dataframe tbody tr th {\n",
              "        vertical-align: top;\n",
              "    }\n",
              "\n",
              "    .dataframe thead th {\n",
              "        text-align: right;\n",
              "    }\n",
              "</style>\n",
              "<table border=\"1\" class=\"dataframe\">\n",
              "  <thead>\n",
              "    <tr style=\"text-align: right;\">\n",
              "      <th></th>\n",
              "      <th>Time_to_answer</th>\n",
              "    </tr>\n",
              "  </thead>\n",
              "  <tbody>\n",
              "    <tr>\n",
              "      <th>count</th>\n",
              "      <td>3915.000000</td>\n",
              "    </tr>\n",
              "    <tr>\n",
              "      <th>mean</th>\n",
              "      <td>126.599742</td>\n",
              "    </tr>\n",
              "    <tr>\n",
              "      <th>std</th>\n",
              "      <td>123.589544</td>\n",
              "    </tr>\n",
              "    <tr>\n",
              "      <th>min</th>\n",
              "      <td>48.013275</td>\n",
              "    </tr>\n",
              "    <tr>\n",
              "      <th>25%</th>\n",
              "      <td>62.314155</td>\n",
              "    </tr>\n",
              "    <tr>\n",
              "      <th>50%</th>\n",
              "      <td>85.484442</td>\n",
              "    </tr>\n",
              "    <tr>\n",
              "      <th>75%</th>\n",
              "      <td>138.517410</td>\n",
              "    </tr>\n",
              "    <tr>\n",
              "      <th>max</th>\n",
              "      <td>1884.730289</td>\n",
              "    </tr>\n",
              "  </tbody>\n",
              "</table>\n",
              "</div>"
            ],
            "text/plain": [
              "       Time_to_answer\n",
              "count     3915.000000\n",
              "mean       126.599742\n",
              "std        123.589544\n",
              "min         48.013275\n",
              "25%         62.314155\n",
              "50%         85.484442\n",
              "75%        138.517410\n",
              "max       1884.730289"
            ]
          },
          "metadata": {
            "tags": []
          },
          "execution_count": 75
        }
      ]
    },
    {
      "cell_type": "code",
      "metadata": {
        "id": "e9y1IPc-Z_LF",
        "colab_type": "code",
        "colab": {
          "base_uri": "https://localhost:8080/",
          "height": 265
        },
        "outputId": "bfbd4581-431b-44a7-9da2-6ee405a23d19"
      },
      "source": [
        "df_first_answer.Time_to_answer.plot.hist(range=(0,48),bins=10)\n",
        "plt.show()"
      ],
      "execution_count": null,
      "outputs": [
        {
          "output_type": "display_data",
          "data": {
            "image/png": "[encoded data removed]",
            "text/plain": [
              "<Figure size 432x288 with 1 Axes>"
            ]
          },
          "metadata": {
            "tags": [],
            "needs_background": "light"
          }
        }
      ]
    },
    {
      "cell_type": "code",
      "metadata": {
        "id": "OVcYurPGNs-S",
        "colab_type": "code",
        "colab": {
          "base_uri": "https://localhost:8080/",
          "height": 269
        },
        "outputId": "9c0a5aed-d629-4593-ab72-6a0469df9094"
      },
      "source": [
        "df_first_answer.Time_to_answer.plot.hist(range=(49,20000),bins=20)\n",
        "plt.show()"
      ],
      "execution_count": null,
      "outputs": [
        {
          "output_type": "display_data",
          "data": {
            "image/png": "[encoded data removed]",
            "text/plain": [
              "<Figure size 432x288 with 1 Axes>"
            ]
          },
          "metadata": {
            "tags": [],
            "needs_background": "light"
          }
        }
      ]
    },
    {
      "cell_type": "markdown",
      "metadata": {
        "id": "9KPWfoE2IXPS",
        "colab_type": "text"
      },
      "source": [
        "**89% questions are answered within 48 hours**"
      ]
    },
    {
      "cell_type": "code",
      "metadata": {
        "id": "BrxFmG5MX3rA",
        "colab_type": "code",
        "colab": {}
      },
      "source": [
        "within_48_hrs = df_first_answer[df_first_answer.Time_to_answer < 49].count()/df_first_answer.count()\n",
        "more_than_48_hrs = df_first_answer[df_first_answer.Time_to_answer > 48].count()/df_first_answer.count()"
      ],
      "execution_count": null,
      "outputs": []
    },
    {
      "cell_type": "code",
      "metadata": {
        "id": "XEKZ6x5MHu2O",
        "colab_type": "code",
        "colab": {
          "base_uri": "https://localhost:8080/",
          "height": 68
        },
        "outputId": "49c418f2-fed7-471d-febb-afb83943914d"
      },
      "source": [
        "print(within_48_hrs , more_than_48_hrs)"
      ],
      "execution_count": null,
      "outputs": [
        {
          "output_type": "stream",
          "text": [
            "Time_to_answer    0.891799\n",
            "dtype: float64 Time_to_answer    0.110718\n",
            "dtype: float64\n"
          ],
          "name": "stdout"
        }
      ]
    },
    {
      "cell_type": "code",
      "metadata": {
        "id": "xbnVUtJXmKuE",
        "colab_type": "code",
        "colab": {
          "base_uri": "https://localhost:8080/",
          "height": 165
        },
        "outputId": "e3bb1b9f-a810-4df6-97ef-18e26a624aae"
      },
      "source": [
        "df_qa_tags.head(2)"
      ],
      "execution_count": null,
      "outputs": [
        {
          "output_type": "execute_result",
          "data": {
            "text/html": [
              "<div>\n",
              "<style scoped>\n",
              "    .dataframe tbody tr th:only-of-type {\n",
              "        vertical-align: middle;\n",
              "    }\n",
              "\n",
              "    .dataframe tbody tr th {\n",
              "        vertical-align: top;\n",
              "    }\n",
              "\n",
              "    .dataframe thead th {\n",
              "        text-align: right;\n",
              "    }\n",
              "</style>\n",
              "<table border=\"1\" class=\"dataframe\">\n",
              "  <thead>\n",
              "    <tr style=\"text-align: right;\">\n",
              "      <th></th>\n",
              "      <th>Id_ques</th>\n",
              "      <th>OwnerUserId_ques</th>\n",
              "      <th>CreationDate_ques</th>\n",
              "      <th>Score_ques</th>\n",
              "      <th>Id_ans</th>\n",
              "      <th>OwnerUserId_ans</th>\n",
              "      <th>CreationDate_ans</th>\n",
              "      <th>ParentId</th>\n",
              "      <th>Score_ans</th>\n",
              "      <th>Time_to_answer</th>\n",
              "      <th>Tag</th>\n",
              "      <th>New_tag</th>\n",
              "    </tr>\n",
              "  </thead>\n",
              "  <tbody>\n",
              "    <tr>\n",
              "      <th>0</th>\n",
              "      <td>80</td>\n",
              "      <td>26.0</td>\n",
              "      <td>2008-08-01 13:57:07+00:00</td>\n",
              "      <td>26</td>\n",
              "      <td>124</td>\n",
              "      <td>26.0</td>\n",
              "      <td>2008-08-01 16:09:47+00:00</td>\n",
              "      <td>80</td>\n",
              "      <td>12</td>\n",
              "      <td>2.211111</td>\n",
              "      <td>flex</td>\n",
              "      <td>Others</td>\n",
              "    </tr>\n",
              "    <tr>\n",
              "      <th>1</th>\n",
              "      <td>80</td>\n",
              "      <td>26.0</td>\n",
              "      <td>2008-08-01 13:57:07+00:00</td>\n",
              "      <td>26</td>\n",
              "      <td>124</td>\n",
              "      <td>26.0</td>\n",
              "      <td>2008-08-01 16:09:47+00:00</td>\n",
              "      <td>80</td>\n",
              "      <td>12</td>\n",
              "      <td>2.211111</td>\n",
              "      <td>actionscript-3</td>\n",
              "      <td>Others</td>\n",
              "    </tr>\n",
              "  </tbody>\n",
              "</table>\n",
              "</div>"
            ],
            "text/plain": [
              "   Id_ques  OwnerUserId_ques  ...             Tag  New_tag\n",
              "0       80              26.0  ...            flex   Others\n",
              "1       80              26.0  ...  actionscript-3   Others\n",
              "\n",
              "[2 rows x 12 columns]"
            ]
          },
          "metadata": {
            "tags": []
          },
          "execution_count": 80
        }
      ]
    },
    {
      "cell_type": "code",
      "metadata": {
        "id": "vUTJCk3SzEjT",
        "colab_type": "code",
        "colab": {}
      },
      "source": [
        "arr_DS_users = []"
      ],
      "execution_count": null,
      "outputs": []
    },
    {
      "cell_type": "code",
      "metadata": {
        "id": "gwjwcHhT6wzP",
        "colab_type": "code",
        "colab": {
          "base_uri": "https://localhost:8080/",
          "height": 51
        },
        "outputId": "53eedb44-709e-4dfe-e38d-ef6dfcb12e54"
      },
      "source": [
        "print(len(df_qa_tags[df_qa_tags.New_tag==\"Data Science\"].OwnerUserId_ans.unique()))\n",
        "print(len(df_qa_tags[df_qa_tags.New_tag==\"Data Science\"].OwnerUserId_ques.unique()))"
      ],
      "execution_count": null,
      "outputs": [
        {
          "output_type": "stream",
          "text": [
            "71319\n",
            "84787\n"
          ],
          "name": "stdout"
        }
      ]
    },
    {
      "cell_type": "code",
      "metadata": {
        "id": "VfDO57bmx2cH",
        "colab_type": "code",
        "colab": {}
      },
      "source": [
        "for user in df_qa_tags[df_qa_tags.New_tag==\"Data Science\"].OwnerUserId_ans.unique():\n",
        "  arr_DS_users.append(user)\n",
        "for user in df_qa_tags[df_qa_tags.New_tag==\"Data Science\"].OwnerUserId_ques.unique():\n",
        "  arr_DS_users.append(user)"
      ],
      "execution_count": null,
      "outputs": []
    },
    {
      "cell_type": "code",
      "metadata": {
        "id": "rSfxbesGzhHK",
        "colab_type": "code",
        "colab": {
          "base_uri": "https://localhost:8080/",
          "height": 34
        },
        "outputId": "8d2960e4-882b-4a6a-c37d-88d4a43f7a60"
      },
      "source": [
        "len(arr_DS_users)"
      ],
      "execution_count": null,
      "outputs": [
        {
          "output_type": "execute_result",
          "data": {
            "text/plain": [
              "156106"
            ]
          },
          "metadata": {
            "tags": []
          },
          "execution_count": 84
        }
      ]
    },
    {
      "cell_type": "code",
      "metadata": {
        "id": "3WlthzNmyzvC",
        "colab_type": "code",
        "colab": {
          "base_uri": "https://localhost:8080/",
          "height": 34
        },
        "outputId": "9abf8520-3122-4e03-e992-c8447ae02215"
      },
      "source": [
        "arr_DS_users = list(dict.fromkeys(arr_DS_users))\n",
        "len(arr_DS_users)"
      ],
      "execution_count": null,
      "outputs": [
        {
          "output_type": "execute_result",
          "data": {
            "text/plain": [
              "139300"
            ]
          },
          "metadata": {
            "tags": []
          },
          "execution_count": 85
        }
      ]
    },
    {
      "cell_type": "code",
      "metadata": {
        "id": "dyKLxa5NzAWU",
        "colab_type": "code",
        "colab": {
          "base_uri": "https://localhost:8080/",
          "height": 204
        },
        "outputId": "f7877eef-8f56-44ee-b570-542e654b9c1c"
      },
      "source": [
        "df_users.head()"
      ],
      "execution_count": null,
      "outputs": [
        {
          "output_type": "execute_result",
          "data": {
            "text/html": [
              "<div>\n",
              "<style scoped>\n",
              "    .dataframe tbody tr th:only-of-type {\n",
              "        vertical-align: middle;\n",
              "    }\n",
              "\n",
              "    .dataframe tbody tr th {\n",
              "        vertical-align: top;\n",
              "    }\n",
              "\n",
              "    .dataframe thead th {\n",
              "        text-align: right;\n",
              "    }\n",
              "</style>\n",
              "<table border=\"1\" class=\"dataframe\">\n",
              "  <thead>\n",
              "    <tr style=\"text-align: right;\">\n",
              "      <th></th>\n",
              "      <th>id</th>\n",
              "      <th>display_name</th>\n",
              "      <th>creation_date</th>\n",
              "      <th>last_access_date</th>\n",
              "      <th>reputation</th>\n",
              "      <th>up_votes</th>\n",
              "      <th>down_votes</th>\n",
              "      <th>views</th>\n",
              "    </tr>\n",
              "  </thead>\n",
              "  <tbody>\n",
              "    <tr>\n",
              "      <th>0</th>\n",
              "      <td>26</td>\n",
              "      <td>Shawn</td>\n",
              "      <td>2008-08-01 12:18:14.52 UTC</td>\n",
              "      <td>2018-04-11 04:40:35.66 UTC</td>\n",
              "      <td>11820</td>\n",
              "      <td>565</td>\n",
              "      <td>67</td>\n",
              "      <td>3547</td>\n",
              "    </tr>\n",
              "    <tr>\n",
              "      <th>27</th>\n",
              "      <td>1109</td>\n",
              "      <td>Theo</td>\n",
              "      <td>2008-08-12 12:16:58.61 UTC</td>\n",
              "      <td>2019-08-31 11:39:52.28 UTC</td>\n",
              "      <td>116072</td>\n",
              "      <td>457</td>\n",
              "      <td>136</td>\n",
              "      <td>6905</td>\n",
              "    </tr>\n",
              "    <tr>\n",
              "      <th>85</th>\n",
              "      <td>364174</td>\n",
              "      <td>stats</td>\n",
              "      <td>2010-06-11 03:34:57.137 UTC</td>\n",
              "      <td>2019-08-29 18:37:35.027 UTC</td>\n",
              "      <td>325</td>\n",
              "      <td>25</td>\n",
              "      <td>1</td>\n",
              "      <td>60</td>\n",
              "    </tr>\n",
              "    <tr>\n",
              "      <th>87</th>\n",
              "      <td>61</td>\n",
              "      <td>Bernard</td>\n",
              "      <td>2008-08-01 14:21:00.573 UTC</td>\n",
              "      <td>2019-08-30 07:11:58.297 UTC</td>\n",
              "      <td>22779</td>\n",
              "      <td>1321</td>\n",
              "      <td>219</td>\n",
              "      <td>1731</td>\n",
              "    </tr>\n",
              "    <tr>\n",
              "      <th>97</th>\n",
              "      <td>20709</td>\n",
              "      <td>Black Horus</td>\n",
              "      <td>2008-09-22 20:03:39.71 UTC</td>\n",
              "      <td>2019-09-01 01:17:38.133 UTC</td>\n",
              "      <td>978</td>\n",
              "      <td>73</td>\n",
              "      <td>2</td>\n",
              "      <td>96</td>\n",
              "    </tr>\n",
              "  </tbody>\n",
              "</table>\n",
              "</div>"
            ],
            "text/plain": [
              "        id display_name  ... down_votes views\n",
              "0       26        Shawn  ...         67  3547\n",
              "27    1109         Theo  ...        136  6905\n",
              "85  364174        stats  ...          1    60\n",
              "87      61      Bernard  ...        219  1731\n",
              "97   20709  Black Horus  ...          2    96\n",
              "\n",
              "[5 rows x 8 columns]"
            ]
          },
          "metadata": {
            "tags": []
          },
          "execution_count": 86
        }
      ]
    },
    {
      "cell_type": "code",
      "metadata": {
        "id": "KaUd3Ulu3DhP",
        "colab_type": "code",
        "colab": {
          "base_uri": "https://localhost:8080/",
          "height": 34
        },
        "outputId": "0cb53d73-e385-42e4-a621-fd2d3b9da4da"
      },
      "source": [
        "arr_DS_users = [int(i) for i in arr_DS_users]\n",
        "len(arr_DS_users)"
      ],
      "execution_count": null,
      "outputs": [
        {
          "output_type": "execute_result",
          "data": {
            "text/plain": [
              "139300"
            ]
          },
          "metadata": {
            "tags": []
          },
          "execution_count": 87
        }
      ]
    },
    {
      "cell_type": "code",
      "metadata": {
        "id": "-EheI1878lzG",
        "colab_type": "code",
        "colab": {
          "base_uri": "https://localhost:8080/",
          "height": 34
        },
        "outputId": "77192937-e9df-4039-9928-c0a3aeedf162"
      },
      "source": [
        "len(df_users.id.unique())"
      ],
      "execution_count": null,
      "outputs": [
        {
          "output_type": "execute_result",
          "data": {
            "text/plain": [
              "465460"
            ]
          },
          "metadata": {
            "tags": []
          },
          "execution_count": 88
        }
      ]
    },
    {
      "cell_type": "markdown",
      "metadata": {
        "id": "c_B2_TqN_0xo",
        "colab_type": "text"
      },
      "source": [
        "#List of relevant users to notify when a Data Science question is posted"
      ]
    },
    {
      "cell_type": "code",
      "metadata": {
        "id": "G22wWfJ63HPh",
        "colab_type": "code",
        "colab": {
          "base_uri": "https://localhost:8080/",
          "height": 204
        },
        "outputId": "dea63d1e-6694-478b-ecfe-3762a9873715"
      },
      "source": [
        "df_DS_users = df_users[df_users.id.isin(arr_DS_users)].sort_values(by=\"reputation\",ascending=False)\n",
        "df_DS_users.head()"
      ],
      "execution_count": null,
      "outputs": [
        {
          "output_type": "execute_result",
          "data": {
            "text/html": [
              "<div>\n",
              "<style scoped>\n",
              "    .dataframe tbody tr th:only-of-type {\n",
              "        vertical-align: middle;\n",
              "    }\n",
              "\n",
              "    .dataframe tbody tr th {\n",
              "        vertical-align: top;\n",
              "    }\n",
              "\n",
              "    .dataframe thead th {\n",
              "        text-align: right;\n",
              "    }\n",
              "</style>\n",
              "<table border=\"1\" class=\"dataframe\">\n",
              "  <thead>\n",
              "    <tr style=\"text-align: right;\">\n",
              "      <th></th>\n",
              "      <th>id</th>\n",
              "      <th>display_name</th>\n",
              "      <th>creation_date</th>\n",
              "      <th>last_access_date</th>\n",
              "      <th>reputation</th>\n",
              "      <th>up_votes</th>\n",
              "      <th>down_votes</th>\n",
              "      <th>views</th>\n",
              "    </tr>\n",
              "  </thead>\n",
              "  <tbody>\n",
              "    <tr>\n",
              "      <th>110999</th>\n",
              "      <td>22656</td>\n",
              "      <td>Jon Skeet</td>\n",
              "      <td>2008-09-26 12:05:05.15 UTC</td>\n",
              "      <td>2019-08-31 06:45:36.61 UTC</td>\n",
              "      <td>1128126</td>\n",
              "      <td>16420</td>\n",
              "      <td>6921</td>\n",
              "      <td>1835157</td>\n",
              "    </tr>\n",
              "    <tr>\n",
              "      <th>35238</th>\n",
              "      <td>6309</td>\n",
              "      <td>VonC</td>\n",
              "      <td>2008-09-13 22:22:33.173 UTC</td>\n",
              "      <td>2019-08-31 23:30:47.713 UTC</td>\n",
              "      <td>888089</td>\n",
              "      <td>50295</td>\n",
              "      <td>268</td>\n",
              "      <td>155016</td>\n",
              "    </tr>\n",
              "    <tr>\n",
              "      <th>69941</th>\n",
              "      <td>157882</td>\n",
              "      <td>BalusC</td>\n",
              "      <td>2009-08-17 16:42:02.403 UTC</td>\n",
              "      <td>2019-08-30 20:24:46.513 UTC</td>\n",
              "      <td>884381</td>\n",
              "      <td>15372</td>\n",
              "      <td>21262</td>\n",
              "      <td>413877</td>\n",
              "    </tr>\n",
              "    <tr>\n",
              "      <th>188604</th>\n",
              "      <td>29407</td>\n",
              "      <td>Darin Dimitrov</td>\n",
              "      <td>2008-10-19 16:07:47.823 UTC</td>\n",
              "      <td>2019-08-31 14:58:22.687 UTC</td>\n",
              "      <td>873733</td>\n",
              "      <td>1952</td>\n",
              "      <td>2651</td>\n",
              "      <td>260252</td>\n",
              "    </tr>\n",
              "    <tr>\n",
              "      <th>1151850</th>\n",
              "      <td>1144035</td>\n",
              "      <td>Gordon Linoff</td>\n",
              "      <td>2012-01-11 19:53:57.59 UTC</td>\n",
              "      <td>2019-08-31 23:09:07.247 UTC</td>\n",
              "      <td>851064</td>\n",
              "      <td>13917</td>\n",
              "      <td>41</td>\n",
              "      <td>268394</td>\n",
              "    </tr>\n",
              "  </tbody>\n",
              "</table>\n",
              "</div>"
            ],
            "text/plain": [
              "              id    display_name  ... down_votes    views\n",
              "110999     22656       Jon Skeet  ...       6921  1835157\n",
              "35238       6309            VonC  ...        268   155016\n",
              "69941     157882          BalusC  ...      21262   413877\n",
              "188604     29407  Darin Dimitrov  ...       2651   260252\n",
              "1151850  1144035   Gordon Linoff  ...         41   268394\n",
              "\n",
              "[5 rows x 8 columns]"
            ]
          },
          "metadata": {
            "tags": []
          },
          "execution_count": 89
        }
      ]
    },
    {
      "cell_type": "code",
      "metadata": {
        "id": "w95-J7xr_pmn",
        "colab_type": "code",
        "colab": {
          "base_uri": "https://localhost:8080/",
          "height": 34
        },
        "outputId": "b5b10831-5178-44d3-eb0a-6747ff378cb9"
      },
      "source": [
        "df_DS_users.shape"
      ],
      "execution_count": null,
      "outputs": [
        {
          "output_type": "execute_result",
          "data": {
            "text/plain": [
              "(84213, 8)"
            ]
          },
          "metadata": {
            "tags": []
          },
          "execution_count": 90
        }
      ]
    },
    {
      "cell_type": "code",
      "metadata": {
        "id": "qcupSfIX4F18",
        "colab_type": "code",
        "colab": {}
      },
      "source": [
        "ls_users = df_users.id.unique()"
      ],
      "execution_count": null,
      "outputs": []
    },
    {
      "cell_type": "code",
      "metadata": {
        "id": "3aKUmoIg5M-k",
        "colab_type": "code",
        "colab": {
          "base_uri": "https://localhost:8080/",
          "height": 34
        },
        "outputId": "31567d9e-11d4-41fc-e6bb-9f29cbdb9a9b"
      },
      "source": [
        "ls_non_matches = [user for user in arr_DS_users if user not in ls_users]\n",
        "len(ls_non_matches)"
      ],
      "execution_count": null,
      "outputs": [
        {
          "output_type": "execute_result",
          "data": {
            "text/plain": [
              "55087"
            ]
          },
          "metadata": {
            "tags": []
          },
          "execution_count": 92
        }
      ]
    },
    {
      "cell_type": "code",
      "metadata": {
        "id": "rk2e5qRY6KLu",
        "colab_type": "code",
        "colab": {
          "base_uri": "https://localhost:8080/",
          "height": 187
        },
        "outputId": "0dbe8f22-867f-4c05-99f9-5e2a33129924"
      },
      "source": [
        "ls_non_matches[0:10]"
      ],
      "execution_count": null,
      "outputs": [
        {
          "output_type": "execute_result",
          "data": {
            "text/plain": [
              "[3401498,\n",
              " 4768611,\n",
              " 547735,\n",
              " 19302,\n",
              " 3850,\n",
              " 3420570,\n",
              " 4039065,\n",
              " 1619925,\n",
              " 695800,\n",
              " 121489]"
            ]
          },
          "metadata": {
            "tags": []
          },
          "execution_count": 93
        }
      ]
    },
    {
      "cell_type": "code",
      "metadata": {
        "id": "1m9LzVE96gHj",
        "colab_type": "code",
        "colab": {
          "base_uri": "https://localhost:8080/",
          "height": 34
        },
        "outputId": "ffda29fa-7a25-482a-9a96-79d2495a678d"
      },
      "source": [
        "len(df_questions[df_questions.OwnerUserId.isin(ls_non_matches)].OwnerUserId.unique())"
      ],
      "execution_count": null,
      "outputs": [
        {
          "output_type": "execute_result",
          "data": {
            "text/plain": [
              "54871"
            ]
          },
          "metadata": {
            "tags": []
          },
          "execution_count": 94
        }
      ]
    },
    {
      "cell_type": "code",
      "metadata": {
        "id": "dTW8MJna7GM1",
        "colab_type": "code",
        "colab": {
          "base_uri": "https://localhost:8080/",
          "height": 34
        },
        "outputId": "b4916a8f-0cef-45e9-fe71-6ff10c469013"
      },
      "source": [
        "len(df_answers[df_answers.OwnerUserId.isin(ls_non_matches)].OwnerUserId.unique())"
      ],
      "execution_count": null,
      "outputs": [
        {
          "output_type": "execute_result",
          "data": {
            "text/plain": [
              "570"
            ]
          },
          "metadata": {
            "tags": []
          },
          "execution_count": 95
        }
      ]
    },
    {
      "cell_type": "code",
      "metadata": {
        "id": "bOHTEIAg7WUE",
        "colab_type": "code",
        "colab": {
          "base_uri": "https://localhost:8080/",
          "height": 34
        },
        "outputId": "8217110d-d594-46db-8488-3e692e9fde3b"
      },
      "source": [
        "len(df_questions.OwnerUserId.unique())"
      ],
      "execution_count": null,
      "outputs": [
        {
          "output_type": "execute_result",
          "data": {
            "text/plain": [
              "630909"
            ]
          },
          "metadata": {
            "tags": []
          },
          "execution_count": 96
        }
      ]
    },
    {
      "cell_type": "code",
      "metadata": {
        "id": "i17xnYdJ8FoP",
        "colab_type": "code",
        "colab": {
          "base_uri": "https://localhost:8080/",
          "height": 34
        },
        "outputId": "5f5821e2-e156-45cc-fab1-b1da2146cf05"
      },
      "source": [
        "len(df_answers.OwnerUserId.unique())"
      ],
      "execution_count": null,
      "outputs": [
        {
          "output_type": "execute_result",
          "data": {
            "text/plain": [
              "468797"
            ]
          },
          "metadata": {
            "tags": []
          },
          "execution_count": 97
        }
      ]
    },
    {
      "cell_type": "code",
      "metadata": {
        "id": "ypa1Hmvl88jF",
        "colab_type": "code",
        "colab": {
          "base_uri": "https://localhost:8080/",
          "height": 419
        },
        "outputId": "1cc27a30-1d15-42ce-a744-efcbe6bbc555"
      },
      "source": [
        "df_answers[df_answers.OwnerUserId.isin(ls_non_matches)]"
      ],
      "execution_count": null,
      "outputs": [
        {
          "output_type": "execute_result",
          "data": {
            "text/html": [
              "<div>\n",
              "<style scoped>\n",
              "    .dataframe tbody tr th:only-of-type {\n",
              "        vertical-align: middle;\n",
              "    }\n",
              "\n",
              "    .dataframe tbody tr th {\n",
              "        vertical-align: top;\n",
              "    }\n",
              "\n",
              "    .dataframe thead th {\n",
              "        text-align: right;\n",
              "    }\n",
              "</style>\n",
              "<table border=\"1\" class=\"dataframe\">\n",
              "  <thead>\n",
              "    <tr style=\"text-align: right;\">\n",
              "      <th></th>\n",
              "      <th>Id</th>\n",
              "      <th>OwnerUserId</th>\n",
              "      <th>CreationDate</th>\n",
              "      <th>ParentId</th>\n",
              "      <th>Score</th>\n",
              "      <th>Body</th>\n",
              "    </tr>\n",
              "  </thead>\n",
              "  <tbody>\n",
              "    <tr>\n",
              "      <th>1666</th>\n",
              "      <td>36907</td>\n",
              "      <td>3850.0</td>\n",
              "      <td>2008-08-31 15:17:14+00:00</td>\n",
              "      <td>20850</td>\n",
              "      <td>2</td>\n",
              "      <td>&lt;p&gt;The following entry in &lt;code&gt;/etc/fstab&lt;/co...</td>\n",
              "    </tr>\n",
              "    <tr>\n",
              "      <th>3093</th>\n",
              "      <td>61754</td>\n",
              "      <td>1151.0</td>\n",
              "      <td>2008-09-15 00:26:58+00:00</td>\n",
              "      <td>61750</td>\n",
              "      <td>0</td>\n",
              "      <td>&lt;p&gt;SubSonic can do this for you if you if you ...</td>\n",
              "    </tr>\n",
              "    <tr>\n",
              "      <th>4614</th>\n",
              "      <td>90644</td>\n",
              "      <td>1151.0</td>\n",
              "      <td>2008-09-18 07:08:19+00:00</td>\n",
              "      <td>90580</td>\n",
              "      <td>7</td>\n",
              "      <td>&lt;p&gt;I did this in .NET:&lt;/p&gt;\\n\\n&lt;p&gt;&lt;a href=\"http...</td>\n",
              "    </tr>\n",
              "    <tr>\n",
              "      <th>4937</th>\n",
              "      <td>97439</td>\n",
              "      <td>1151.0</td>\n",
              "      <td>2008-09-18 22:00:12+00:00</td>\n",
              "      <td>96160</td>\n",
              "      <td>23</td>\n",
              "      <td>&lt;p&gt;It's been my experience with the Commerce S...</td>\n",
              "    </tr>\n",
              "    <tr>\n",
              "      <th>9577</th>\n",
              "      <td>181144</td>\n",
              "      <td>19302.0</td>\n",
              "      <td>2008-10-08 02:31:40+00:00</td>\n",
              "      <td>181130</td>\n",
              "      <td>0</td>\n",
              "      <td>&lt;p&gt;You want do use md5 hashing. Basically, it ...</td>\n",
              "    </tr>\n",
              "    <tr>\n",
              "      <th>...</th>\n",
              "      <td>...</td>\n",
              "      <td>...</td>\n",
              "      <td>...</td>\n",
              "      <td>...</td>\n",
              "      <td>...</td>\n",
              "      <td>...</td>\n",
              "    </tr>\n",
              "    <tr>\n",
              "      <th>2011090</th>\n",
              "      <td>40070846</td>\n",
              "      <td>6914894.0</td>\n",
              "      <td>2016-10-16 13:32:24+00:00</td>\n",
              "      <td>40069760</td>\n",
              "      <td>1</td>\n",
              "      <td>&lt;p&gt;If you want replace Doc2 with Doc1 you can ...</td>\n",
              "    </tr>\n",
              "    <tr>\n",
              "      <th>2011112</th>\n",
              "      <td>40071399</td>\n",
              "      <td>6914894.0</td>\n",
              "      <td>2016-10-16 14:27:00+00:00</td>\n",
              "      <td>40071030</td>\n",
              "      <td>1</td>\n",
              "      <td>&lt;pre&gt;&lt;code&gt;db.Test2.aggregate([\\n   {\\n     $u...</td>\n",
              "    </tr>\n",
              "    <tr>\n",
              "      <th>2011154</th>\n",
              "      <td>40072633</td>\n",
              "      <td>6914894.0</td>\n",
              "      <td>2016-10-16 16:33:30+00:00</td>\n",
              "      <td>40064600</td>\n",
              "      <td>0</td>\n",
              "      <td>&lt;p&gt;MongoDB don't have notification if somethin...</td>\n",
              "    </tr>\n",
              "    <tr>\n",
              "      <th>2012342</th>\n",
              "      <td>40099142</td>\n",
              "      <td>7034285.0</td>\n",
              "      <td>2016-10-18 03:43:34+00:00</td>\n",
              "      <td>24332140</td>\n",
              "      <td>1</td>\n",
              "      <td>&lt;p&gt;There are a couple of ways to do this.  Ass...</td>\n",
              "    </tr>\n",
              "    <tr>\n",
              "      <th>2012920</th>\n",
              "      <td>40110153</td>\n",
              "      <td>7019687.0</td>\n",
              "      <td>2016-10-18 13:52:28+00:00</td>\n",
              "      <td>40109940</td>\n",
              "      <td>0</td>\n",
              "      <td>&lt;p&gt;In your code, you're breaking from the for ...</td>\n",
              "    </tr>\n",
              "  </tbody>\n",
              "</table>\n",
              "<p>3842 rows × 6 columns</p>\n",
              "</div>"
            ],
            "text/plain": [
              "               Id  ...                                               Body\n",
              "1666        36907  ...  <p>The following entry in <code>/etc/fstab</co...\n",
              "3093        61754  ...  <p>SubSonic can do this for you if you if you ...\n",
              "4614        90644  ...  <p>I did this in .NET:</p>\\n\\n<p><a href=\"http...\n",
              "4937        97439  ...  <p>It's been my experience with the Commerce S...\n",
              "9577       181144  ...  <p>You want do use md5 hashing. Basically, it ...\n",
              "...           ...  ...                                                ...\n",
              "2011090  40070846  ...  <p>If you want replace Doc2 with Doc1 you can ...\n",
              "2011112  40071399  ...  <pre><code>db.Test2.aggregate([\\n   {\\n     $u...\n",
              "2011154  40072633  ...  <p>MongoDB don't have notification if somethin...\n",
              "2012342  40099142  ...  <p>There are a couple of ways to do this.  Ass...\n",
              "2012920  40110153  ...  <p>In your code, you're breaking from the for ...\n",
              "\n",
              "[3842 rows x 6 columns]"
            ]
          },
          "metadata": {
            "tags": []
          },
          "execution_count": 98
        }
      ]
    },
    {
      "cell_type": "code",
      "metadata": {
        "id": "dDqp40NF8_iO",
        "colab_type": "code",
        "colab": {
          "base_uri": "https://localhost:8080/",
          "height": 49
        },
        "outputId": "de31a47e-b747-47eb-e8c6-cb02caa63d50"
      },
      "source": [
        "df_users[df_users.id==3850]"
      ],
      "execution_count": null,
      "outputs": [
        {
          "output_type": "execute_result",
          "data": {
            "text/html": [
              "<div>\n",
              "<style scoped>\n",
              "    .dataframe tbody tr th:only-of-type {\n",
              "        vertical-align: middle;\n",
              "    }\n",
              "\n",
              "    .dataframe tbody tr th {\n",
              "        vertical-align: top;\n",
              "    }\n",
              "\n",
              "    .dataframe thead th {\n",
              "        text-align: right;\n",
              "    }\n",
              "</style>\n",
              "<table border=\"1\" class=\"dataframe\">\n",
              "  <thead>\n",
              "    <tr style=\"text-align: right;\">\n",
              "      <th></th>\n",
              "      <th>id</th>\n",
              "      <th>display_name</th>\n",
              "      <th>creation_date</th>\n",
              "      <th>last_access_date</th>\n",
              "      <th>reputation</th>\n",
              "      <th>up_votes</th>\n",
              "      <th>down_votes</th>\n",
              "      <th>views</th>\n",
              "    </tr>\n",
              "  </thead>\n",
              "  <tbody>\n",
              "  </tbody>\n",
              "</table>\n",
              "</div>"
            ],
            "text/plain": [
              "Empty DataFrame\n",
              "Columns: [id, display_name, creation_date, last_access_date, reputation, up_votes, down_votes, views]\n",
              "Index: []"
            ]
          },
          "metadata": {
            "tags": []
          },
          "execution_count": 99
        }
      ]
    },
    {
      "cell_type": "code",
      "metadata": {
        "id": "G-ms5-ex9JlK",
        "colab_type": "code",
        "colab": {
          "base_uri": "https://localhost:8080/",
          "height": 80
        },
        "outputId": "ce0835be-bb78-48e6-e2f1-5c26ffba696c"
      },
      "source": [
        "df_questions[df_questions.Id==20850]"
      ],
      "execution_count": null,
      "outputs": [
        {
          "output_type": "execute_result",
          "data": {
            "text/html": [
              "<div>\n",
              "<style scoped>\n",
              "    .dataframe tbody tr th:only-of-type {\n",
              "        vertical-align: middle;\n",
              "    }\n",
              "\n",
              "    .dataframe tbody tr th {\n",
              "        vertical-align: top;\n",
              "    }\n",
              "\n",
              "    .dataframe thead th {\n",
              "        text-align: right;\n",
              "    }\n",
              "</style>\n",
              "<table border=\"1\" class=\"dataframe\">\n",
              "  <thead>\n",
              "    <tr style=\"text-align: right;\">\n",
              "      <th></th>\n",
              "      <th>Id</th>\n",
              "      <th>OwnerUserId</th>\n",
              "      <th>CreationDate</th>\n",
              "      <th>Score</th>\n",
              "      <th>Title</th>\n",
              "      <th>Body</th>\n",
              "    </tr>\n",
              "  </thead>\n",
              "  <tbody>\n",
              "    <tr>\n",
              "      <th>213</th>\n",
              "      <td>20850</td>\n",
              "      <td>1120.0</td>\n",
              "      <td>2008-08-21 19:16:27+00:00</td>\n",
              "      <td>2</td>\n",
              "      <td>How to stop NTFS volume auto-mounting on OS X?</td>\n",
              "      <td>&lt;p&gt;I'm a bit newbieish when it comes to the de...</td>\n",
              "    </tr>\n",
              "  </tbody>\n",
              "</table>\n",
              "</div>"
            ],
            "text/plain": [
              "        Id  ...                                               Body\n",
              "213  20850  ...  <p>I'm a bit newbieish when it comes to the de...\n",
              "\n",
              "[1 rows x 6 columns]"
            ]
          },
          "metadata": {
            "tags": []
          },
          "execution_count": 100
        }
      ]
    },
    {
      "cell_type": "code",
      "metadata": {
        "id": "lv2zCp5t9p5V",
        "colab_type": "code",
        "colab": {
          "base_uri": "https://localhost:8080/",
          "height": 80
        },
        "outputId": "c32a6afb-0b94-4582-a8f9-5bbad8aafe3f"
      },
      "source": [
        "df_users[df_users.id==1120]"
      ],
      "execution_count": null,
      "outputs": [
        {
          "output_type": "execute_result",
          "data": {
            "text/html": [
              "<div>\n",
              "<style scoped>\n",
              "    .dataframe tbody tr th:only-of-type {\n",
              "        vertical-align: middle;\n",
              "    }\n",
              "\n",
              "    .dataframe tbody tr th {\n",
              "        vertical-align: top;\n",
              "    }\n",
              "\n",
              "    .dataframe thead th {\n",
              "        text-align: right;\n",
              "    }\n",
              "</style>\n",
              "<table border=\"1\" class=\"dataframe\">\n",
              "  <thead>\n",
              "    <tr style=\"text-align: right;\">\n",
              "      <th></th>\n",
              "      <th>id</th>\n",
              "      <th>display_name</th>\n",
              "      <th>creation_date</th>\n",
              "      <th>last_access_date</th>\n",
              "      <th>reputation</th>\n",
              "      <th>up_votes</th>\n",
              "      <th>down_votes</th>\n",
              "      <th>views</th>\n",
              "    </tr>\n",
              "  </thead>\n",
              "  <tbody>\n",
              "    <tr>\n",
              "      <th>7701</th>\n",
              "      <td>1120</td>\n",
              "      <td>Shaun Austin</td>\n",
              "      <td>2008-08-12 13:45:53.16 UTC</td>\n",
              "      <td>2016-07-08 12:37:17.7 UTC</td>\n",
              "      <td>3253</td>\n",
              "      <td>369</td>\n",
              "      <td>38</td>\n",
              "      <td>264</td>\n",
              "    </tr>\n",
              "  </tbody>\n",
              "</table>\n",
              "</div>"
            ],
            "text/plain": [
              "        id  display_name  ... down_votes views\n",
              "7701  1120  Shaun Austin  ...         38   264\n",
              "\n",
              "[1 rows x 8 columns]"
            ]
          },
          "metadata": {
            "tags": []
          },
          "execution_count": 101
        }
      ]
    },
    {
      "cell_type": "code",
      "metadata": {
        "id": "Wkbg09QzX8Fd",
        "colab_type": "code",
        "colab": {
          "base_uri": "https://localhost:8080/",
          "height": 187
        },
        "outputId": "4655b4f4-4293-4713-804f-ad4fc48ada8c"
      },
      "source": [
        "ls_top10_ques = []\n",
        "for qid in df_questions.sort_values(by=\"Score\",ascending=False).head(10).Id:\n",
        "  ls_top10_ques.append(qid)\n",
        "ls_top10_ques"
      ],
      "execution_count": null,
      "outputs": [
        {
          "output_type": "execute_result",
          "data": {
            "text/plain": [
              "[348170,\n",
              " 40480,\n",
              " 406230,\n",
              " 520650,\n",
              " 2669690,\n",
              " 4366730,\n",
              " 1232040,\n",
              " 16956810,\n",
              " 3010840,\n",
              " 2530]"
            ]
          },
          "metadata": {
            "tags": []
          },
          "execution_count": 102
        }
      ]
    },
    {
      "cell_type": "markdown",
      "metadata": {
        "id": "0j1d6_9b3_wN",
        "colab_type": "text"
      },
      "source": [
        "#Top 10 questions with high score"
      ]
    },
    {
      "cell_type": "code",
      "metadata": {
        "id": "c1XirPyLaZIA",
        "colab_type": "code",
        "colab": {
          "base_uri": "https://localhost:8080/",
          "height": 359
        },
        "outputId": "609b97ac-ea51-4142-fb4a-d0126dac23ce"
      },
      "source": [
        "df_questions.sort_values(by=\"Score\",ascending=False).head(10)"
      ],
      "execution_count": null,
      "outputs": [
        {
          "output_type": "execute_result",
          "data": {
            "text/html": [
              "<div>\n",
              "<style scoped>\n",
              "    .dataframe tbody tr th:only-of-type {\n",
              "        vertical-align: middle;\n",
              "    }\n",
              "\n",
              "    .dataframe tbody tr th {\n",
              "        vertical-align: top;\n",
              "    }\n",
              "\n",
              "    .dataframe thead th {\n",
              "        text-align: right;\n",
              "    }\n",
              "</style>\n",
              "<table border=\"1\" class=\"dataframe\">\n",
              "  <thead>\n",
              "    <tr style=\"text-align: right;\">\n",
              "      <th></th>\n",
              "      <th>Id</th>\n",
              "      <th>OwnerUserId</th>\n",
              "      <th>CreationDate</th>\n",
              "      <th>Score</th>\n",
              "      <th>Title</th>\n",
              "      <th>Body</th>\n",
              "    </tr>\n",
              "  </thead>\n",
              "  <tbody>\n",
              "    <tr>\n",
              "      <th>4907</th>\n",
              "      <td>348170</td>\n",
              "      <td>14069.0</td>\n",
              "      <td>2008-12-07 21:57:46+00:00</td>\n",
              "      <td>5190</td>\n",
              "      <td>How to undo 'git add' before commit?</td>\n",
              "      <td>&lt;p&gt;I mistakenly added files using the command:...</td>\n",
              "    </tr>\n",
              "    <tr>\n",
              "      <th>441</th>\n",
              "      <td>40480</td>\n",
              "      <td>4315.0</td>\n",
              "      <td>2008-09-02 20:14:29+00:00</td>\n",
              "      <td>3613</td>\n",
              "      <td>Is Java \"pass-by-reference\" or \"pass-by-value\"?</td>\n",
              "      <td>&lt;p&gt;I always thought Java was &lt;strong&gt;pass-by-r...</td>\n",
              "    </tr>\n",
              "    <tr>\n",
              "      <th>5859</th>\n",
              "      <td>406230</td>\n",
              "      <td>36830.0</td>\n",
              "      <td>2009-01-02 07:30:16+00:00</td>\n",
              "      <td>2537</td>\n",
              "      <td>Regular expression to match line that doesn't ...</td>\n",
              "      <td>&lt;p&gt;I know it's possible to match a word and th...</td>\n",
              "    </tr>\n",
              "    <tr>\n",
              "      <th>7771</th>\n",
              "      <td>520650</td>\n",
              "      <td>825.0</td>\n",
              "      <td>2009-02-06 15:14:04+00:00</td>\n",
              "      <td>2399</td>\n",
              "      <td>Make an existing Git branch track a remote bra...</td>\n",
              "      <td>&lt;p&gt;I know how to make a new branch that tracks...</td>\n",
              "    </tr>\n",
              "    <tr>\n",
              "      <th>57759</th>\n",
              "      <td>2669690</td>\n",
              "      <td>151495.0</td>\n",
              "      <td>2010-04-19 18:00:09+00:00</td>\n",
              "      <td>2363</td>\n",
              "      <td>Why does Google prepend while(1); to their JSO...</td>\n",
              "      <td>&lt;p&gt;Why does Google prepend &lt;code&gt;while(1);&lt;/co...</td>\n",
              "    </tr>\n",
              "    <tr>\n",
              "      <th>105015</th>\n",
              "      <td>4366730</td>\n",
              "      <td>495452.0</td>\n",
              "      <td>2010-12-06 13:14:05+00:00</td>\n",
              "      <td>1760</td>\n",
              "      <td>How to check if a string contains a specific w...</td>\n",
              "      <td>&lt;p&gt;Consider:&lt;/p&gt;\\n\\n&lt;pre&gt;&lt;code&gt;$a = 'How are y...</td>\n",
              "    </tr>\n",
              "    <tr>\n",
              "      <th>22609</th>\n",
              "      <td>1232040</td>\n",
              "      <td>149738.0</td>\n",
              "      <td>2009-08-05 09:08:39+00:00</td>\n",
              "      <td>1759</td>\n",
              "      <td>How do I empty an array in JavaScript?</td>\n",
              "      <td>&lt;p&gt;Is there a way to empty an array and if so ...</td>\n",
              "    </tr>\n",
              "    <tr>\n",
              "      <th>485729</th>\n",
              "      <td>16956810</td>\n",
              "      <td>954986.0</td>\n",
              "      <td>2013-06-06 08:06:45+00:00</td>\n",
              "      <td>1716</td>\n",
              "      <td>How to find all files containing specific text...</td>\n",
              "      <td>&lt;p&gt;I'm trying to find a way to scan my entire ...</td>\n",
              "    </tr>\n",
              "    <tr>\n",
              "      <th>67133</th>\n",
              "      <td>3010840</td>\n",
              "      <td>304725.0</td>\n",
              "      <td>2010-06-10 00:04:27+00:00</td>\n",
              "      <td>1620</td>\n",
              "      <td>Loop through an array in JavaScript</td>\n",
              "      <td>&lt;p&gt;In Java you can use a &lt;code&gt;for&lt;/code&gt; loop...</td>\n",
              "    </tr>\n",
              "    <tr>\n",
              "      <th>26</th>\n",
              "      <td>2530</td>\n",
              "      <td>307.0</td>\n",
              "      <td>2008-08-05 16:22:32+00:00</td>\n",
              "      <td>1614</td>\n",
              "      <td>How do you disable browser Autocomplete on web...</td>\n",
              "      <td>&lt;p&gt;How do you disable &lt;code&gt;autocomplete&lt;/code...</td>\n",
              "    </tr>\n",
              "  </tbody>\n",
              "</table>\n",
              "</div>"
            ],
            "text/plain": [
              "              Id  ...                                               Body\n",
              "4907      348170  ...  <p>I mistakenly added files using the command:...\n",
              "441        40480  ...  <p>I always thought Java was <strong>pass-by-r...\n",
              "5859      406230  ...  <p>I know it's possible to match a word and th...\n",
              "7771      520650  ...  <p>I know how to make a new branch that tracks...\n",
              "57759    2669690  ...  <p>Why does Google prepend <code>while(1);</co...\n",
              "105015   4366730  ...  <p>Consider:</p>\\n\\n<pre><code>$a = 'How are y...\n",
              "22609    1232040  ...  <p>Is there a way to empty an array and if so ...\n",
              "485729  16956810  ...  <p>I'm trying to find a way to scan my entire ...\n",
              "67133    3010840  ...  <p>In Java you can use a <code>for</code> loop...\n",
              "26          2530  ...  <p>How do you disable <code>autocomplete</code...\n",
              "\n",
              "[10 rows x 6 columns]"
            ]
          },
          "metadata": {
            "tags": []
          },
          "execution_count": 103
        }
      ]
    },
    {
      "cell_type": "code",
      "metadata": {
        "id": "K34WZUpAdwCw",
        "colab_type": "code",
        "colab": {
          "base_uri": "https://localhost:8080/",
          "height": 204
        },
        "outputId": "f79be874-f350-47b3-d73b-c10e0e31735c"
      },
      "source": [
        "df_ques_tags.head()"
      ],
      "execution_count": null,
      "outputs": [
        {
          "output_type": "execute_result",
          "data": {
            "text/html": [
              "<div>\n",
              "<style scoped>\n",
              "    .dataframe tbody tr th:only-of-type {\n",
              "        vertical-align: middle;\n",
              "    }\n",
              "\n",
              "    .dataframe tbody tr th {\n",
              "        vertical-align: top;\n",
              "    }\n",
              "\n",
              "    .dataframe thead th {\n",
              "        text-align: right;\n",
              "    }\n",
              "</style>\n",
              "<table border=\"1\" class=\"dataframe\">\n",
              "  <thead>\n",
              "    <tr style=\"text-align: right;\">\n",
              "      <th></th>\n",
              "      <th>Id</th>\n",
              "      <th>OwnerUserId</th>\n",
              "      <th>CreationDate</th>\n",
              "      <th>Score</th>\n",
              "      <th>Title</th>\n",
              "      <th>Body</th>\n",
              "      <th>Tag</th>\n",
              "      <th>New_tag</th>\n",
              "      <th>Year</th>\n",
              "    </tr>\n",
              "  </thead>\n",
              "  <tbody>\n",
              "    <tr>\n",
              "      <th>0</th>\n",
              "      <td>80</td>\n",
              "      <td>26.0</td>\n",
              "      <td>2008-08-01 13:57:07+00:00</td>\n",
              "      <td>26</td>\n",
              "      <td>SQLStatement.execute() - multiple queries in o...</td>\n",
              "      <td>&lt;p&gt;I've written a database generation script i...</td>\n",
              "      <td>flex</td>\n",
              "      <td>Others</td>\n",
              "      <td>2008</td>\n",
              "    </tr>\n",
              "    <tr>\n",
              "      <th>1</th>\n",
              "      <td>80</td>\n",
              "      <td>26.0</td>\n",
              "      <td>2008-08-01 13:57:07+00:00</td>\n",
              "      <td>26</td>\n",
              "      <td>SQLStatement.execute() - multiple queries in o...</td>\n",
              "      <td>&lt;p&gt;I've written a database generation script i...</td>\n",
              "      <td>actionscript-3</td>\n",
              "      <td>Others</td>\n",
              "      <td>2008</td>\n",
              "    </tr>\n",
              "    <tr>\n",
              "      <th>2</th>\n",
              "      <td>80</td>\n",
              "      <td>26.0</td>\n",
              "      <td>2008-08-01 13:57:07+00:00</td>\n",
              "      <td>26</td>\n",
              "      <td>SQLStatement.execute() - multiple queries in o...</td>\n",
              "      <td>&lt;p&gt;I've written a database generation script i...</td>\n",
              "      <td>air</td>\n",
              "      <td>Others</td>\n",
              "      <td>2008</td>\n",
              "    </tr>\n",
              "    <tr>\n",
              "      <th>3</th>\n",
              "      <td>90</td>\n",
              "      <td>58.0</td>\n",
              "      <td>2008-08-01 14:41:24+00:00</td>\n",
              "      <td>144</td>\n",
              "      <td>Good branching and merging tutorials for Torto...</td>\n",
              "      <td>&lt;p&gt;Are there any really good tutorials explain...</td>\n",
              "      <td>svn</td>\n",
              "      <td>Others</td>\n",
              "      <td>2008</td>\n",
              "    </tr>\n",
              "    <tr>\n",
              "      <th>4</th>\n",
              "      <td>90</td>\n",
              "      <td>58.0</td>\n",
              "      <td>2008-08-01 14:41:24+00:00</td>\n",
              "      <td>144</td>\n",
              "      <td>Good branching and merging tutorials for Torto...</td>\n",
              "      <td>&lt;p&gt;Are there any really good tutorials explain...</td>\n",
              "      <td>tortoisesvn</td>\n",
              "      <td>Others</td>\n",
              "      <td>2008</td>\n",
              "    </tr>\n",
              "  </tbody>\n",
              "</table>\n",
              "</div>"
            ],
            "text/plain": [
              "   Id  OwnerUserId              CreationDate  ...             Tag New_tag  Year\n",
              "0  80         26.0 2008-08-01 13:57:07+00:00  ...            flex  Others  2008\n",
              "1  80         26.0 2008-08-01 13:57:07+00:00  ...  actionscript-3  Others  2008\n",
              "2  80         26.0 2008-08-01 13:57:07+00:00  ...             air  Others  2008\n",
              "3  90         58.0 2008-08-01 14:41:24+00:00  ...             svn  Others  2008\n",
              "4  90         58.0 2008-08-01 14:41:24+00:00  ...     tortoisesvn  Others  2008\n",
              "\n",
              "[5 rows x 9 columns]"
            ]
          },
          "metadata": {
            "tags": []
          },
          "execution_count": 104
        }
      ]
    },
    {
      "cell_type": "markdown",
      "metadata": {
        "id": "QxNgl_JnP_Lc",
        "colab_type": "text"
      },
      "source": [
        "#Trend of Data Science tags by year"
      ]
    },
    {
      "cell_type": "code",
      "metadata": {
        "id": "jFIrvdofkc1V",
        "colab_type": "code",
        "colab": {
          "base_uri": "https://localhost:8080/",
          "height": 359
        },
        "outputId": "b22c96e5-0297-47bc-b203-5bc5597d7f14"
      },
      "source": [
        "pd.crosstab(columns=df_ques_tags[df_ques_tags.New_tag==\"Data Science\"]['Tag'], index=df_ques_tags[df_ques_tags.New_tag==\"Data Science\"]['Year'])"
      ],
      "execution_count": null,
      "outputs": [
        {
          "output_type": "execute_result",
          "data": {
            "text/html": [
              "<div>\n",
              "<style scoped>\n",
              "    .dataframe tbody tr th:only-of-type {\n",
              "        vertical-align: middle;\n",
              "    }\n",
              "\n",
              "    .dataframe tbody tr th {\n",
              "        vertical-align: top;\n",
              "    }\n",
              "\n",
              "    .dataframe thead th {\n",
              "        text-align: right;\n",
              "    }\n",
              "</style>\n",
              "<table border=\"1\" class=\"dataframe\">\n",
              "  <thead>\n",
              "    <tr style=\"text-align: right;\">\n",
              "      <th>Tag</th>\n",
              "      <th>excel</th>\n",
              "      <th>matlab</th>\n",
              "      <th>python</th>\n",
              "      <th>r</th>\n",
              "      <th>sas</th>\n",
              "      <th>sql</th>\n",
              "    </tr>\n",
              "    <tr>\n",
              "      <th>Year</th>\n",
              "      <th></th>\n",
              "      <th></th>\n",
              "      <th></th>\n",
              "      <th></th>\n",
              "      <th></th>\n",
              "      <th></th>\n",
              "    </tr>\n",
              "  </thead>\n",
              "  <tbody>\n",
              "    <tr>\n",
              "      <th>2008</th>\n",
              "      <td>27</td>\n",
              "      <td>4</td>\n",
              "      <td>205</td>\n",
              "      <td>0</td>\n",
              "      <td>0</td>\n",
              "      <td>192</td>\n",
              "    </tr>\n",
              "    <tr>\n",
              "      <th>2009</th>\n",
              "      <td>160</td>\n",
              "      <td>55</td>\n",
              "      <td>1230</td>\n",
              "      <td>60</td>\n",
              "      <td>6</td>\n",
              "      <td>1049</td>\n",
              "    </tr>\n",
              "    <tr>\n",
              "      <th>2010</th>\n",
              "      <td>290</td>\n",
              "      <td>197</td>\n",
              "      <td>2698</td>\n",
              "      <td>222</td>\n",
              "      <td>12</td>\n",
              "      <td>2001</td>\n",
              "    </tr>\n",
              "    <tr>\n",
              "      <th>2011</th>\n",
              "      <td>513</td>\n",
              "      <td>385</td>\n",
              "      <td>4246</td>\n",
              "      <td>582</td>\n",
              "      <td>25</td>\n",
              "      <td>2991</td>\n",
              "    </tr>\n",
              "    <tr>\n",
              "      <th>2012</th>\n",
              "      <td>855</td>\n",
              "      <td>750</td>\n",
              "      <td>6392</td>\n",
              "      <td>1257</td>\n",
              "      <td>35</td>\n",
              "      <td>4302</td>\n",
              "    </tr>\n",
              "    <tr>\n",
              "      <th>2013</th>\n",
              "      <td>1430</td>\n",
              "      <td>1165</td>\n",
              "      <td>9631</td>\n",
              "      <td>2233</td>\n",
              "      <td>102</td>\n",
              "      <td>6650</td>\n",
              "    </tr>\n",
              "    <tr>\n",
              "      <th>2014</th>\n",
              "      <td>1931</td>\n",
              "      <td>1425</td>\n",
              "      <td>11600</td>\n",
              "      <td>3054</td>\n",
              "      <td>151</td>\n",
              "      <td>7480</td>\n",
              "    </tr>\n",
              "    <tr>\n",
              "      <th>2015</th>\n",
              "      <td>2539</td>\n",
              "      <td>1356</td>\n",
              "      <td>13893</td>\n",
              "      <td>4155</td>\n",
              "      <td>193</td>\n",
              "      <td>5742</td>\n",
              "    </tr>\n",
              "    <tr>\n",
              "      <th>2016</th>\n",
              "      <td>2543</td>\n",
              "      <td>1104</td>\n",
              "      <td>14050</td>\n",
              "      <td>4046</td>\n",
              "      <td>166</td>\n",
              "      <td>4900</td>\n",
              "    </tr>\n",
              "  </tbody>\n",
              "</table>\n",
              "</div>"
            ],
            "text/plain": [
              "Tag   excel  matlab  python     r  sas   sql\n",
              "Year                                        \n",
              "2008     27       4     205     0    0   192\n",
              "2009    160      55    1230    60    6  1049\n",
              "2010    290     197    2698   222   12  2001\n",
              "2011    513     385    4246   582   25  2991\n",
              "2012    855     750    6392  1257   35  4302\n",
              "2013   1430    1165    9631  2233  102  6650\n",
              "2014   1931    1425   11600  3054  151  7480\n",
              "2015   2539    1356   13893  4155  193  5742\n",
              "2016   2543    1104   14050  4046  166  4900"
            ]
          },
          "metadata": {
            "tags": []
          },
          "execution_count": 105
        }
      ]
    },
    {
      "cell_type": "code",
      "metadata": {
        "id": "2qrm9USqgDI2",
        "colab_type": "code",
        "colab": {}
      },
      "source": [
        "DS_Trend = pd.crosstab(columns=df_ques_tags[df_ques_tags.New_tag==\"Data Science\"]['Tag'], index=df_ques_tags[df_ques_tags.New_tag==\"Data Science\"]['Year'])"
      ],
      "execution_count": null,
      "outputs": []
    },
    {
      "cell_type": "code",
      "metadata": {
        "id": "B97giU7DkJRQ",
        "colab_type": "code",
        "colab": {
          "base_uri": "https://localhost:8080/",
          "height": 279
        },
        "outputId": "aaf8422d-c711-4fb8-b455-8dbd358c6ee0"
      },
      "source": [
        "DS_Trend.plot()\n",
        "plt.show()"
      ],
      "execution_count": null,
      "outputs": [
        {
          "output_type": "display_data",
          "data": {
            "image/png": "[encoded data removed]",
            "text/plain": [
              "<Figure size 432x288 with 1 Axes>"
            ]
          },
          "metadata": {
            "tags": [],
            "needs_background": "light"
          }
        }
      ]
    },
    {
      "cell_type": "code",
      "metadata": {
        "id": "jAAMJQY1fQxR",
        "colab_type": "code",
        "colab": {}
      },
      "source": [
        "Language_Trend = pd.crosstab(columns=df_ques_tags[df_ques_tags.New_tag==\"Popular Languages\"]['Tag'], index=df_ques_tags[df_ques_tags.New_tag==\"Popular Languages\"]['Year'])"
      ],
      "execution_count": null,
      "outputs": []
    },
    {
      "cell_type": "code",
      "metadata": {
        "id": "dZ__tvuJr8J4",
        "colab_type": "code",
        "colab": {
          "base_uri": "https://localhost:8080/",
          "height": 279
        },
        "outputId": "b454d200-8f1b-4961-ace0-0727ab497523"
      },
      "source": [
        "Language_Trend.plot()\n",
        "plt.show()"
      ],
      "execution_count": null,
      "outputs": [
        {
          "output_type": "display_data",
          "data": {
            "image/png": "[encoded data removed]",
            "text/plain": [
              "<Figure size 432x288 with 1 Axes>"
            ]
          },
          "metadata": {
            "tags": [],
            "needs_background": "light"
          }
        }
      ]
    },
    {
      "cell_type": "code",
      "metadata": {
        "id": "faEDsl7ZRk-q",
        "colab_type": "code",
        "colab": {
          "base_uri": "https://localhost:8080/",
          "height": 204
        },
        "outputId": "01b2db4b-9ef4-466c-bf80-c9a18ff472a6"
      },
      "source": [
        "df_users.head()"
      ],
      "execution_count": null,
      "outputs": [
        {
          "output_type": "execute_result",
          "data": {
            "text/html": [
              "<div>\n",
              "<style scoped>\n",
              "    .dataframe tbody tr th:only-of-type {\n",
              "        vertical-align: middle;\n",
              "    }\n",
              "\n",
              "    .dataframe tbody tr th {\n",
              "        vertical-align: top;\n",
              "    }\n",
              "\n",
              "    .dataframe thead th {\n",
              "        text-align: right;\n",
              "    }\n",
              "</style>\n",
              "<table border=\"1\" class=\"dataframe\">\n",
              "  <thead>\n",
              "    <tr style=\"text-align: right;\">\n",
              "      <th></th>\n",
              "      <th>id</th>\n",
              "      <th>display_name</th>\n",
              "      <th>creation_date</th>\n",
              "      <th>last_access_date</th>\n",
              "      <th>reputation</th>\n",
              "      <th>up_votes</th>\n",
              "      <th>down_votes</th>\n",
              "      <th>views</th>\n",
              "    </tr>\n",
              "  </thead>\n",
              "  <tbody>\n",
              "    <tr>\n",
              "      <th>0</th>\n",
              "      <td>26</td>\n",
              "      <td>Shawn</td>\n",
              "      <td>2008-08-01 12:18:14.52 UTC</td>\n",
              "      <td>2018-04-11 04:40:35.66 UTC</td>\n",
              "      <td>11820</td>\n",
              "      <td>565</td>\n",
              "      <td>67</td>\n",
              "      <td>3547</td>\n",
              "    </tr>\n",
              "    <tr>\n",
              "      <th>27</th>\n",
              "      <td>1109</td>\n",
              "      <td>Theo</td>\n",
              "      <td>2008-08-12 12:16:58.61 UTC</td>\n",
              "      <td>2019-08-31 11:39:52.28 UTC</td>\n",
              "      <td>116072</td>\n",
              "      <td>457</td>\n",
              "      <td>136</td>\n",
              "      <td>6905</td>\n",
              "    </tr>\n",
              "    <tr>\n",
              "      <th>85</th>\n",
              "      <td>364174</td>\n",
              "      <td>stats</td>\n",
              "      <td>2010-06-11 03:34:57.137 UTC</td>\n",
              "      <td>2019-08-29 18:37:35.027 UTC</td>\n",
              "      <td>325</td>\n",
              "      <td>25</td>\n",
              "      <td>1</td>\n",
              "      <td>60</td>\n",
              "    </tr>\n",
              "    <tr>\n",
              "      <th>87</th>\n",
              "      <td>61</td>\n",
              "      <td>Bernard</td>\n",
              "      <td>2008-08-01 14:21:00.573 UTC</td>\n",
              "      <td>2019-08-30 07:11:58.297 UTC</td>\n",
              "      <td>22779</td>\n",
              "      <td>1321</td>\n",
              "      <td>219</td>\n",
              "      <td>1731</td>\n",
              "    </tr>\n",
              "    <tr>\n",
              "      <th>97</th>\n",
              "      <td>20709</td>\n",
              "      <td>Black Horus</td>\n",
              "      <td>2008-09-22 20:03:39.71 UTC</td>\n",
              "      <td>2019-09-01 01:17:38.133 UTC</td>\n",
              "      <td>978</td>\n",
              "      <td>73</td>\n",
              "      <td>2</td>\n",
              "      <td>96</td>\n",
              "    </tr>\n",
              "  </tbody>\n",
              "</table>\n",
              "</div>"
            ],
            "text/plain": [
              "        id display_name  ... down_votes views\n",
              "0       26        Shawn  ...         67  3547\n",
              "27    1109         Theo  ...        136  6905\n",
              "85  364174        stats  ...          1    60\n",
              "87      61      Bernard  ...        219  1731\n",
              "97   20709  Black Horus  ...          2    96\n",
              "\n",
              "[5 rows x 8 columns]"
            ]
          },
          "metadata": {
            "tags": []
          },
          "execution_count": 110
        }
      ]
    },
    {
      "cell_type": "markdown",
      "metadata": {
        "id": "fi5vgaKDQIKv",
        "colab_type": "text"
      },
      "source": [
        "#Relation between users' reputation, up_votes, down_votes and views"
      ]
    },
    {
      "cell_type": "code",
      "metadata": {
        "id": "GBYANO9DsDuB",
        "colab_type": "code",
        "colab": {
          "base_uri": "https://localhost:8080/",
          "height": 758
        },
        "outputId": "bdde3db1-e6b5-4f53-911f-8d6433458c99"
      },
      "source": [
        "sns.pairplot(df_users[[\"reputation\",\"up_votes\",\"down_votes\",\"views\"]])\n",
        "plt.show()"
      ],
      "execution_count": null,
      "outputs": [
        {
          "output_type": "display_data",
          "data": {
            "image/png": "[encoded data removed]",
            "text/plain": [
              "<Figure size 720x720 with 20 Axes>"
            ]
          },
          "metadata": {
            "tags": [],
            "needs_background": "light"
          }
        }
      ]
    },
    {
      "cell_type": "code",
      "metadata": {
        "id": "4spWl31fR8on",
        "colab_type": "code",
        "colab": {
          "base_uri": "https://localhost:8080/",
          "height": 173
        },
        "outputId": "7f1159a5-35a8-4b08-ba79-bd908cf9d1e2"
      },
      "source": [
        "df_users[[\"reputation\",\"up_votes\",\"down_votes\",\"views\"]].corr()"
      ],
      "execution_count": null,
      "outputs": [
        {
          "output_type": "execute_result",
          "data": {
            "text/html": [
              "<div>\n",
              "<style scoped>\n",
              "    .dataframe tbody tr th:only-of-type {\n",
              "        vertical-align: middle;\n",
              "    }\n",
              "\n",
              "    .dataframe tbody tr th {\n",
              "        vertical-align: top;\n",
              "    }\n",
              "\n",
              "    .dataframe thead th {\n",
              "        text-align: right;\n",
              "    }\n",
              "</style>\n",
              "<table border=\"1\" class=\"dataframe\">\n",
              "  <thead>\n",
              "    <tr style=\"text-align: right;\">\n",
              "      <th></th>\n",
              "      <th>reputation</th>\n",
              "      <th>up_votes</th>\n",
              "      <th>down_votes</th>\n",
              "      <th>views</th>\n",
              "    </tr>\n",
              "  </thead>\n",
              "  <tbody>\n",
              "    <tr>\n",
              "      <th>reputation</th>\n",
              "      <td>1.000000</td>\n",
              "      <td>0.491563</td>\n",
              "      <td>0.301170</td>\n",
              "      <td>0.547727</td>\n",
              "    </tr>\n",
              "    <tr>\n",
              "      <th>up_votes</th>\n",
              "      <td>0.491563</td>\n",
              "      <td>1.000000</td>\n",
              "      <td>0.262897</td>\n",
              "      <td>0.251492</td>\n",
              "    </tr>\n",
              "    <tr>\n",
              "      <th>down_votes</th>\n",
              "      <td>0.301170</td>\n",
              "      <td>0.262897</td>\n",
              "      <td>1.000000</td>\n",
              "      <td>0.226370</td>\n",
              "    </tr>\n",
              "    <tr>\n",
              "      <th>views</th>\n",
              "      <td>0.547727</td>\n",
              "      <td>0.251492</td>\n",
              "      <td>0.226370</td>\n",
              "      <td>1.000000</td>\n",
              "    </tr>\n",
              "  </tbody>\n",
              "</table>\n",
              "</div>"
            ],
            "text/plain": [
              "            reputation  up_votes  down_votes     views\n",
              "reputation    1.000000  0.491563    0.301170  0.547727\n",
              "up_votes      0.491563  1.000000    0.262897  0.251492\n",
              "down_votes    0.301170  0.262897    1.000000  0.226370\n",
              "views         0.547727  0.251492    0.226370  1.000000"
            ]
          },
          "metadata": {
            "tags": []
          },
          "execution_count": 112
        }
      ]
    },
    {
      "cell_type": "code",
      "metadata": {
        "id": "AzzIqsnkQ9aS",
        "colab_type": "code",
        "colab": {
          "base_uri": "https://localhost:8080/",
          "height": 270
        },
        "outputId": "be0b0f5e-8bb1-4fd4-9e30-654435c801c7"
      },
      "source": [
        "sns.heatmap(data=df_users[[\"reputation\",\"up_votes\",\"down_votes\",\"views\"]].corr(),cmap=\"Greens\")\n",
        "plt.show()"
      ],
      "execution_count": null,
      "outputs": [
        {
          "output_type": "display_data",
          "data": {
            "image/png": "[encoded data removed]",
            "text/plain": [
              "<Figure size 432x288 with 2 Axes>"
            ]
          },
          "metadata": {
            "tags": [],
            "needs_background": "light"
          }
        }
      ]
    },
    {
      "cell_type": "code",
      "metadata": {
        "id": "vMJV3oa8RJw9",
        "colab_type": "code",
        "colab": {
          "base_uri": "https://localhost:8080/",
          "height": 450
        },
        "outputId": "ede7dcde-48b0-4366-f311-3dc136e4fe00"
      },
      "source": [
        "df_q_t_time = df_qa_tags.groupby([\"Id_ques\"])[\"Tag\"].nunique().to_frame().merge(df_qa_tags.groupby([\"Id_ques\"])[\"Id_ans\"].count().to_frame(),left_on=\"Id_ques\",right_on=\"Id_ques\")\n",
        "df_q_t_time"
      ],
      "execution_count": null,
      "outputs": [
        {
          "output_type": "execute_result",
          "data": {
            "text/html": [
              "<div>\n",
              "<style scoped>\n",
              "    .dataframe tbody tr th:only-of-type {\n",
              "        vertical-align: middle;\n",
              "    }\n",
              "\n",
              "    .dataframe tbody tr th {\n",
              "        vertical-align: top;\n",
              "    }\n",
              "\n",
              "    .dataframe thead th {\n",
              "        text-align: right;\n",
              "    }\n",
              "</style>\n",
              "<table border=\"1\" class=\"dataframe\">\n",
              "  <thead>\n",
              "    <tr style=\"text-align: right;\">\n",
              "      <th></th>\n",
              "      <th>Tag</th>\n",
              "      <th>Time_to_answer</th>\n",
              "    </tr>\n",
              "    <tr>\n",
              "      <th>Id_ques</th>\n",
              "      <th></th>\n",
              "      <th></th>\n",
              "    </tr>\n",
              "  </thead>\n",
              "  <tbody>\n",
              "    <tr>\n",
              "      <th>80</th>\n",
              "      <td>3</td>\n",
              "      <td>2.211111</td>\n",
              "    </tr>\n",
              "    <tr>\n",
              "      <th>90</th>\n",
              "      <td>4</td>\n",
              "      <td>0.070278</td>\n",
              "    </tr>\n",
              "    <tr>\n",
              "      <th>120</th>\n",
              "      <td>3</td>\n",
              "      <td>1278.850833</td>\n",
              "    </tr>\n",
              "    <tr>\n",
              "      <th>180</th>\n",
              "      <td>4</td>\n",
              "      <td>0.907500</td>\n",
              "    </tr>\n",
              "    <tr>\n",
              "      <th>260</th>\n",
              "      <td>4</td>\n",
              "      <td>0.463611</td>\n",
              "    </tr>\n",
              "    <tr>\n",
              "      <th>...</th>\n",
              "      <td>...</td>\n",
              "      <td>...</td>\n",
              "    </tr>\n",
              "    <tr>\n",
              "      <th>40142860</th>\n",
              "      <td>2</td>\n",
              "      <td>0.228611</td>\n",
              "    </tr>\n",
              "    <tr>\n",
              "      <th>40142900</th>\n",
              "      <td>3</td>\n",
              "      <td>0.184167</td>\n",
              "    </tr>\n",
              "    <tr>\n",
              "      <th>40142910</th>\n",
              "      <td>3</td>\n",
              "      <td>0.885833</td>\n",
              "    </tr>\n",
              "    <tr>\n",
              "      <th>40142940</th>\n",
              "      <td>1</td>\n",
              "      <td>0.105556</td>\n",
              "    </tr>\n",
              "    <tr>\n",
              "      <th>40143190</th>\n",
              "      <td>3</td>\n",
              "      <td>0.037778</td>\n",
              "    </tr>\n",
              "  </tbody>\n",
              "</table>\n",
              "<p>1084555 rows × 2 columns</p>\n",
              "</div>"
            ],
            "text/plain": [
              "          Tag  Time_to_answer\n",
              "Id_ques                      \n",
              "80          3        2.211111\n",
              "90          4        0.070278\n",
              "120         3     1278.850833\n",
              "180         4        0.907500\n",
              "260         4        0.463611\n",
              "...       ...             ...\n",
              "40142860    2        0.228611\n",
              "40142900    3        0.184167\n",
              "40142910    3        0.885833\n",
              "40142940    1        0.105556\n",
              "40143190    3        0.037778\n",
              "\n",
              "[1084555 rows x 2 columns]"
            ]
          },
          "metadata": {
            "tags": []
          },
          "execution_count": 114
        }
      ]
    },
    {
      "cell_type": "code",
      "metadata": {
        "id": "ARt47X-CnW5o",
        "colab_type": "code",
        "colab": {
          "base_uri": "https://localhost:8080/",
          "height": 111
        },
        "outputId": "de4881b2-8331-44d1-d36d-05871049bb26"
      },
      "source": [
        "df_q_t_time[[\"Tag\",\"Id_ans\"]].corr()"
      ],
      "execution_count": null,
      "outputs": [
        {
          "output_type": "execute_result",
          "data": {
            "text/html": [
              "<div>\n",
              "<style scoped>\n",
              "    .dataframe tbody tr th:only-of-type {\n",
              "        vertical-align: middle;\n",
              "    }\n",
              "\n",
              "    .dataframe tbody tr th {\n",
              "        vertical-align: top;\n",
              "    }\n",
              "\n",
              "    .dataframe thead th {\n",
              "        text-align: right;\n",
              "    }\n",
              "</style>\n",
              "<table border=\"1\" class=\"dataframe\">\n",
              "  <thead>\n",
              "    <tr style=\"text-align: right;\">\n",
              "      <th></th>\n",
              "      <th>Tag</th>\n",
              "      <th>Time_to_answer</th>\n",
              "    </tr>\n",
              "  </thead>\n",
              "  <tbody>\n",
              "    <tr>\n",
              "      <th>Tag</th>\n",
              "      <td>1.000000</td>\n",
              "      <td>0.015869</td>\n",
              "    </tr>\n",
              "    <tr>\n",
              "      <th>Time_to_answer</th>\n",
              "      <td>0.015869</td>\n",
              "      <td>1.000000</td>\n",
              "    </tr>\n",
              "  </tbody>\n",
              "</table>\n",
              "</div>"
            ],
            "text/plain": [
              "                     Tag  Time_to_answer\n",
              "Tag             1.000000        0.015869\n",
              "Time_to_answer  0.015869        1.000000"
            ]
          },
          "metadata": {
            "tags": []
          },
          "execution_count": 115
        }
      ]
    },
    {
      "cell_type": "code",
      "metadata": {
        "id": "ukeJKJTZm21p",
        "colab_type": "code",
        "colab": {
          "base_uri": "https://localhost:8080/",
          "height": 279
        },
        "outputId": "15b7b46d-eb0e-4283-ccf1-f7c8a50554ef"
      },
      "source": [
        "sns.scatterplot(data=df_q_t_time,x=\"Tag\",y=\"Id_ans\")\n",
        "plt.show()"
      ],
      "execution_count": null,
      "outputs": [
        {
          "output_type": "display_data",
          "data": {
            "image/png": "[encoded data removed]",
            "text/plain": [
              "<Figure size 432x288 with 1 Axes>"
            ]
          },
          "metadata": {
            "tags": [],
            "needs_background": "light"
          }
        }
      ]
    },
    {
      "cell_type": "code",
      "metadata": {
        "id": "OYU0goiRk1Ww",
        "colab_type": "code",
        "colab": {}
      },
      "source": [
        ""
      ],
      "execution_count": null,
      "outputs": []
    }
  ]
}